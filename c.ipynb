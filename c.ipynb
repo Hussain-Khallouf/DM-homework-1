{
 "cells": [
  {
   "attachments": {},
   "cell_type": "markdown",
   "metadata": {},
   "source": [
    "# C"
   ]
  },
  {
   "attachments": {},
   "cell_type": "markdown",
   "metadata": {},
   "source": [
    "## 1 "
   ]
  },
  {
   "cell_type": "code",
   "execution_count": 16,
   "metadata": {},
   "outputs": [],
   "source": [
    "import pandas as pd\n",
    "import plotly.express as px "
   ]
  },
  {
   "cell_type": "code",
   "execution_count": 17,
   "metadata": {},
   "outputs": [
    {
     "data": {
      "text/plain": [
       "Index(['key_id', 'tournament_id', 'tournament_name', 'match_id', 'match_name',\n",
       "       'stage_name', 'group_name', 'group_stage', 'knockout_stage', 'replayed',\n",
       "       'replay', 'match_date', 'match_time', 'stadium_id', 'stadium_name',\n",
       "       'city_name', 'country_name', 'home_team_id', 'home_team_name',\n",
       "       'home_team_code', 'away_team_id', 'away_team_name', 'away_team_code',\n",
       "       'score', 'home_team_score', 'away_team_score', 'home_team_score_margin',\n",
       "       'away_team_score_margin', 'extra_time', 'penalty_shootout',\n",
       "       'score_penalties', 'home_team_score_penalties',\n",
       "       'away_team_score_penalties', 'result', 'home_team_win', 'away_team_win',\n",
       "       'draw'],\n",
       "      dtype='object')"
      ]
     },
     "execution_count": 17,
     "metadata": {},
     "output_type": "execute_result"
    }
   ],
   "source": [
    "matches = pd.read_csv(\"data/fjelstul/matches.csv\")\n",
    "matches.columns\n"
   ]
  },
  {
   "attachments": {},
   "cell_type": "markdown",
   "metadata": {},
   "source": [
    "merge away and home teams"
   ]
  },
  {
   "cell_type": "code",
   "execution_count": 19,
   "metadata": {},
   "outputs": [],
   "source": [
    "\n",
    "matches['teams']= matches.apply(lambda row : ','.join(str(item) for item in sorted([row.home_team_name,row.away_team_name])),axis=1)\n",
    "#px.(matches,x='teams',y=)"
   ]
  },
  {
   "cell_type": "code",
   "execution_count": 26,
   "metadata": {},
   "outputs": [
    {
     "data": {
      "text/plain": [
       "teams\n",
       "Brazil,Sweden            7\n",
       "Argentina,Netherlands    6\n",
       "Argentina,England        5\n",
       "Argentina,Italy          5\n",
       "Argentina,Nigeria        5\n",
       "Brazil,Czechoslovakia    5\n",
       "Brazil,Italy             5\n",
       "Brazil,Mexico            5\n",
       "Brazil,Netherlands       5\n",
       "Brazil,Spain             5\n",
       "dtype: int64"
      ]
     },
     "execution_count": 26,
     "metadata": {},
     "output_type": "execute_result"
    }
   ],
   "source": [
    "ten_most_played = matches.groupby('teams').size().nlargest(10)\n",
    "ten_most_played"
   ]
  },
  {
   "attachments": {},
   "cell_type": "markdown",
   "metadata": {},
   "source": [
    "## 2"
   ]
  },
  {
   "cell_type": "code",
   "execution_count": 27,
   "metadata": {},
   "outputs": [
    {
     "data": {
      "application/vnd.plotly.v1+json": {
       "config": {
        "plotlyServerURL": "https://plot.ly"
       },
       "data": [
        {
         "alignmentgroup": "True",
         "hovertemplate": "variable=0<br>teams=%{x}<br>value=%{y}<extra></extra>",
         "legendgroup": "0",
         "marker": {
          "color": "#636efa",
          "pattern": {
           "shape": ""
          }
         },
         "name": "0",
         "offsetgroup": "0",
         "orientation": "v",
         "showlegend": true,
         "textposition": "auto",
         "type": "bar",
         "x": [
          "Brazil,Sweden",
          "Argentina,Netherlands",
          "Argentina,England",
          "Argentina,Italy",
          "Argentina,Nigeria",
          "Brazil,Czechoslovakia",
          "Brazil,Italy",
          "Brazil,Mexico",
          "Brazil,Netherlands",
          "Brazil,Spain"
         ],
         "xaxis": "x",
         "y": [
          7,
          6,
          5,
          5,
          5,
          5,
          5,
          5,
          5,
          5
         ],
         "yaxis": "y"
        }
       ],
       "layout": {
        "barmode": "relative",
        "legend": {
         "title": {
          "text": "variable"
         },
         "tracegroupgap": 0
        },
        "margin": {
         "t": 60
        },
        "template": {
         "data": {
          "bar": [
           {
            "error_x": {
             "color": "#2a3f5f"
            },
            "error_y": {
             "color": "#2a3f5f"
            },
            "marker": {
             "line": {
              "color": "#E5ECF6",
              "width": 0.5
             },
             "pattern": {
              "fillmode": "overlay",
              "size": 10,
              "solidity": 0.2
             }
            },
            "type": "bar"
           }
          ],
          "barpolar": [
           {
            "marker": {
             "line": {
              "color": "#E5ECF6",
              "width": 0.5
             },
             "pattern": {
              "fillmode": "overlay",
              "size": 10,
              "solidity": 0.2
             }
            },
            "type": "barpolar"
           }
          ],
          "carpet": [
           {
            "aaxis": {
             "endlinecolor": "#2a3f5f",
             "gridcolor": "white",
             "linecolor": "white",
             "minorgridcolor": "white",
             "startlinecolor": "#2a3f5f"
            },
            "baxis": {
             "endlinecolor": "#2a3f5f",
             "gridcolor": "white",
             "linecolor": "white",
             "minorgridcolor": "white",
             "startlinecolor": "#2a3f5f"
            },
            "type": "carpet"
           }
          ],
          "choropleth": [
           {
            "colorbar": {
             "outlinewidth": 0,
             "ticks": ""
            },
            "type": "choropleth"
           }
          ],
          "contour": [
           {
            "colorbar": {
             "outlinewidth": 0,
             "ticks": ""
            },
            "colorscale": [
             [
              0,
              "#0d0887"
             ],
             [
              0.1111111111111111,
              "#46039f"
             ],
             [
              0.2222222222222222,
              "#7201a8"
             ],
             [
              0.3333333333333333,
              "#9c179e"
             ],
             [
              0.4444444444444444,
              "#bd3786"
             ],
             [
              0.5555555555555556,
              "#d8576b"
             ],
             [
              0.6666666666666666,
              "#ed7953"
             ],
             [
              0.7777777777777778,
              "#fb9f3a"
             ],
             [
              0.8888888888888888,
              "#fdca26"
             ],
             [
              1,
              "#f0f921"
             ]
            ],
            "type": "contour"
           }
          ],
          "contourcarpet": [
           {
            "colorbar": {
             "outlinewidth": 0,
             "ticks": ""
            },
            "type": "contourcarpet"
           }
          ],
          "heatmap": [
           {
            "colorbar": {
             "outlinewidth": 0,
             "ticks": ""
            },
            "colorscale": [
             [
              0,
              "#0d0887"
             ],
             [
              0.1111111111111111,
              "#46039f"
             ],
             [
              0.2222222222222222,
              "#7201a8"
             ],
             [
              0.3333333333333333,
              "#9c179e"
             ],
             [
              0.4444444444444444,
              "#bd3786"
             ],
             [
              0.5555555555555556,
              "#d8576b"
             ],
             [
              0.6666666666666666,
              "#ed7953"
             ],
             [
              0.7777777777777778,
              "#fb9f3a"
             ],
             [
              0.8888888888888888,
              "#fdca26"
             ],
             [
              1,
              "#f0f921"
             ]
            ],
            "type": "heatmap"
           }
          ],
          "heatmapgl": [
           {
            "colorbar": {
             "outlinewidth": 0,
             "ticks": ""
            },
            "colorscale": [
             [
              0,
              "#0d0887"
             ],
             [
              0.1111111111111111,
              "#46039f"
             ],
             [
              0.2222222222222222,
              "#7201a8"
             ],
             [
              0.3333333333333333,
              "#9c179e"
             ],
             [
              0.4444444444444444,
              "#bd3786"
             ],
             [
              0.5555555555555556,
              "#d8576b"
             ],
             [
              0.6666666666666666,
              "#ed7953"
             ],
             [
              0.7777777777777778,
              "#fb9f3a"
             ],
             [
              0.8888888888888888,
              "#fdca26"
             ],
             [
              1,
              "#f0f921"
             ]
            ],
            "type": "heatmapgl"
           }
          ],
          "histogram": [
           {
            "marker": {
             "pattern": {
              "fillmode": "overlay",
              "size": 10,
              "solidity": 0.2
             }
            },
            "type": "histogram"
           }
          ],
          "histogram2d": [
           {
            "colorbar": {
             "outlinewidth": 0,
             "ticks": ""
            },
            "colorscale": [
             [
              0,
              "#0d0887"
             ],
             [
              0.1111111111111111,
              "#46039f"
             ],
             [
              0.2222222222222222,
              "#7201a8"
             ],
             [
              0.3333333333333333,
              "#9c179e"
             ],
             [
              0.4444444444444444,
              "#bd3786"
             ],
             [
              0.5555555555555556,
              "#d8576b"
             ],
             [
              0.6666666666666666,
              "#ed7953"
             ],
             [
              0.7777777777777778,
              "#fb9f3a"
             ],
             [
              0.8888888888888888,
              "#fdca26"
             ],
             [
              1,
              "#f0f921"
             ]
            ],
            "type": "histogram2d"
           }
          ],
          "histogram2dcontour": [
           {
            "colorbar": {
             "outlinewidth": 0,
             "ticks": ""
            },
            "colorscale": [
             [
              0,
              "#0d0887"
             ],
             [
              0.1111111111111111,
              "#46039f"
             ],
             [
              0.2222222222222222,
              "#7201a8"
             ],
             [
              0.3333333333333333,
              "#9c179e"
             ],
             [
              0.4444444444444444,
              "#bd3786"
             ],
             [
              0.5555555555555556,
              "#d8576b"
             ],
             [
              0.6666666666666666,
              "#ed7953"
             ],
             [
              0.7777777777777778,
              "#fb9f3a"
             ],
             [
              0.8888888888888888,
              "#fdca26"
             ],
             [
              1,
              "#f0f921"
             ]
            ],
            "type": "histogram2dcontour"
           }
          ],
          "mesh3d": [
           {
            "colorbar": {
             "outlinewidth": 0,
             "ticks": ""
            },
            "type": "mesh3d"
           }
          ],
          "parcoords": [
           {
            "line": {
             "colorbar": {
              "outlinewidth": 0,
              "ticks": ""
             }
            },
            "type": "parcoords"
           }
          ],
          "pie": [
           {
            "automargin": true,
            "type": "pie"
           }
          ],
          "scatter": [
           {
            "fillpattern": {
             "fillmode": "overlay",
             "size": 10,
             "solidity": 0.2
            },
            "type": "scatter"
           }
          ],
          "scatter3d": [
           {
            "line": {
             "colorbar": {
              "outlinewidth": 0,
              "ticks": ""
             }
            },
            "marker": {
             "colorbar": {
              "outlinewidth": 0,
              "ticks": ""
             }
            },
            "type": "scatter3d"
           }
          ],
          "scattercarpet": [
           {
            "marker": {
             "colorbar": {
              "outlinewidth": 0,
              "ticks": ""
             }
            },
            "type": "scattercarpet"
           }
          ],
          "scattergeo": [
           {
            "marker": {
             "colorbar": {
              "outlinewidth": 0,
              "ticks": ""
             }
            },
            "type": "scattergeo"
           }
          ],
          "scattergl": [
           {
            "marker": {
             "colorbar": {
              "outlinewidth": 0,
              "ticks": ""
             }
            },
            "type": "scattergl"
           }
          ],
          "scattermapbox": [
           {
            "marker": {
             "colorbar": {
              "outlinewidth": 0,
              "ticks": ""
             }
            },
            "type": "scattermapbox"
           }
          ],
          "scatterpolar": [
           {
            "marker": {
             "colorbar": {
              "outlinewidth": 0,
              "ticks": ""
             }
            },
            "type": "scatterpolar"
           }
          ],
          "scatterpolargl": [
           {
            "marker": {
             "colorbar": {
              "outlinewidth": 0,
              "ticks": ""
             }
            },
            "type": "scatterpolargl"
           }
          ],
          "scatterternary": [
           {
            "marker": {
             "colorbar": {
              "outlinewidth": 0,
              "ticks": ""
             }
            },
            "type": "scatterternary"
           }
          ],
          "surface": [
           {
            "colorbar": {
             "outlinewidth": 0,
             "ticks": ""
            },
            "colorscale": [
             [
              0,
              "#0d0887"
             ],
             [
              0.1111111111111111,
              "#46039f"
             ],
             [
              0.2222222222222222,
              "#7201a8"
             ],
             [
              0.3333333333333333,
              "#9c179e"
             ],
             [
              0.4444444444444444,
              "#bd3786"
             ],
             [
              0.5555555555555556,
              "#d8576b"
             ],
             [
              0.6666666666666666,
              "#ed7953"
             ],
             [
              0.7777777777777778,
              "#fb9f3a"
             ],
             [
              0.8888888888888888,
              "#fdca26"
             ],
             [
              1,
              "#f0f921"
             ]
            ],
            "type": "surface"
           }
          ],
          "table": [
           {
            "cells": {
             "fill": {
              "color": "#EBF0F8"
             },
             "line": {
              "color": "white"
             }
            },
            "header": {
             "fill": {
              "color": "#C8D4E3"
             },
             "line": {
              "color": "white"
             }
            },
            "type": "table"
           }
          ]
         },
         "layout": {
          "annotationdefaults": {
           "arrowcolor": "#2a3f5f",
           "arrowhead": 0,
           "arrowwidth": 1
          },
          "autotypenumbers": "strict",
          "coloraxis": {
           "colorbar": {
            "outlinewidth": 0,
            "ticks": ""
           }
          },
          "colorscale": {
           "diverging": [
            [
             0,
             "#8e0152"
            ],
            [
             0.1,
             "#c51b7d"
            ],
            [
             0.2,
             "#de77ae"
            ],
            [
             0.3,
             "#f1b6da"
            ],
            [
             0.4,
             "#fde0ef"
            ],
            [
             0.5,
             "#f7f7f7"
            ],
            [
             0.6,
             "#e6f5d0"
            ],
            [
             0.7,
             "#b8e186"
            ],
            [
             0.8,
             "#7fbc41"
            ],
            [
             0.9,
             "#4d9221"
            ],
            [
             1,
             "#276419"
            ]
           ],
           "sequential": [
            [
             0,
             "#0d0887"
            ],
            [
             0.1111111111111111,
             "#46039f"
            ],
            [
             0.2222222222222222,
             "#7201a8"
            ],
            [
             0.3333333333333333,
             "#9c179e"
            ],
            [
             0.4444444444444444,
             "#bd3786"
            ],
            [
             0.5555555555555556,
             "#d8576b"
            ],
            [
             0.6666666666666666,
             "#ed7953"
            ],
            [
             0.7777777777777778,
             "#fb9f3a"
            ],
            [
             0.8888888888888888,
             "#fdca26"
            ],
            [
             1,
             "#f0f921"
            ]
           ],
           "sequentialminus": [
            [
             0,
             "#0d0887"
            ],
            [
             0.1111111111111111,
             "#46039f"
            ],
            [
             0.2222222222222222,
             "#7201a8"
            ],
            [
             0.3333333333333333,
             "#9c179e"
            ],
            [
             0.4444444444444444,
             "#bd3786"
            ],
            [
             0.5555555555555556,
             "#d8576b"
            ],
            [
             0.6666666666666666,
             "#ed7953"
            ],
            [
             0.7777777777777778,
             "#fb9f3a"
            ],
            [
             0.8888888888888888,
             "#fdca26"
            ],
            [
             1,
             "#f0f921"
            ]
           ]
          },
          "colorway": [
           "#636efa",
           "#EF553B",
           "#00cc96",
           "#ab63fa",
           "#FFA15A",
           "#19d3f3",
           "#FF6692",
           "#B6E880",
           "#FF97FF",
           "#FECB52"
          ],
          "font": {
           "color": "#2a3f5f"
          },
          "geo": {
           "bgcolor": "white",
           "lakecolor": "white",
           "landcolor": "#E5ECF6",
           "showlakes": true,
           "showland": true,
           "subunitcolor": "white"
          },
          "hoverlabel": {
           "align": "left"
          },
          "hovermode": "closest",
          "mapbox": {
           "style": "light"
          },
          "paper_bgcolor": "white",
          "plot_bgcolor": "#E5ECF6",
          "polar": {
           "angularaxis": {
            "gridcolor": "white",
            "linecolor": "white",
            "ticks": ""
           },
           "bgcolor": "#E5ECF6",
           "radialaxis": {
            "gridcolor": "white",
            "linecolor": "white",
            "ticks": ""
           }
          },
          "scene": {
           "xaxis": {
            "backgroundcolor": "#E5ECF6",
            "gridcolor": "white",
            "gridwidth": 2,
            "linecolor": "white",
            "showbackground": true,
            "ticks": "",
            "zerolinecolor": "white"
           },
           "yaxis": {
            "backgroundcolor": "#E5ECF6",
            "gridcolor": "white",
            "gridwidth": 2,
            "linecolor": "white",
            "showbackground": true,
            "ticks": "",
            "zerolinecolor": "white"
           },
           "zaxis": {
            "backgroundcolor": "#E5ECF6",
            "gridcolor": "white",
            "gridwidth": 2,
            "linecolor": "white",
            "showbackground": true,
            "ticks": "",
            "zerolinecolor": "white"
           }
          },
          "shapedefaults": {
           "line": {
            "color": "#2a3f5f"
           }
          },
          "ternary": {
           "aaxis": {
            "gridcolor": "white",
            "linecolor": "white",
            "ticks": ""
           },
           "baxis": {
            "gridcolor": "white",
            "linecolor": "white",
            "ticks": ""
           },
           "bgcolor": "#E5ECF6",
           "caxis": {
            "gridcolor": "white",
            "linecolor": "white",
            "ticks": ""
           }
          },
          "title": {
           "x": 0.05
          },
          "xaxis": {
           "automargin": true,
           "gridcolor": "white",
           "linecolor": "white",
           "ticks": "",
           "title": {
            "standoff": 15
           },
           "zerolinecolor": "white",
           "zerolinewidth": 2
          },
          "yaxis": {
           "automargin": true,
           "gridcolor": "white",
           "linecolor": "white",
           "ticks": "",
           "title": {
            "standoff": 15
           },
           "zerolinecolor": "white",
           "zerolinewidth": 2
          }
         }
        },
        "xaxis": {
         "anchor": "y",
         "domain": [
          0,
          1
         ],
         "title": {
          "text": "teams"
         }
        },
        "yaxis": {
         "anchor": "x",
         "domain": [
          0,
          1
         ],
         "title": {
          "text": "value"
         }
        }
       }
      }
     },
     "metadata": {},
     "output_type": "display_data"
    }
   ],
   "source": [
    "px.bar(ten_most_played)"
   ]
  },
  {
   "cell_type": "code",
   "execution_count": null,
   "metadata": {},
   "outputs": [],
   "source": []
  },
  {
   "attachments": {},
   "cell_type": "markdown",
   "metadata": {},
   "source": [
    "# D"
   ]
  },
  {
   "attachments": {},
   "cell_type": "markdown",
   "metadata": {},
   "source": [
    "## 1"
   ]
  },
  {
   "cell_type": "code",
   "execution_count": 7,
   "metadata": {},
   "outputs": [],
   "source": [
    "players_teams_agg = pd.read_csv('data/player_teams_agg.csv')"
   ]
  },
  {
   "cell_type": "code",
   "execution_count": 29,
   "metadata": {},
   "outputs": [
    {
     "data": {
      "text/html": [
       "<div>\n",
       "<style scoped>\n",
       "    .dataframe tbody tr th:only-of-type {\n",
       "        vertical-align: middle;\n",
       "    }\n",
       "\n",
       "    .dataframe tbody tr th {\n",
       "        vertical-align: top;\n",
       "    }\n",
       "\n",
       "    .dataframe thead th {\n",
       "        text-align: right;\n",
       "    }\n",
       "</style>\n",
       "<table border=\"1\" class=\"dataframe\">\n",
       "  <thead>\n",
       "    <tr style=\"text-align: right;\">\n",
       "      <th></th>\n",
       "      <th>player_id</th>\n",
       "      <th>given_name</th>\n",
       "      <th>family_name</th>\n",
       "      <th>count_tournaments</th>\n",
       "      <th>team_count</th>\n",
       "      <th>list_tournaments</th>\n",
       "      <th>team_name</th>\n",
       "      <th>team_code</th>\n",
       "    </tr>\n",
       "  </thead>\n",
       "  <tbody>\n",
       "    <tr>\n",
       "      <th>455</th>\n",
       "      <td>P-00537</td>\n",
       "      <td>Franz</td>\n",
       "      <td>Wagner</td>\n",
       "      <td>2</td>\n",
       "      <td>2</td>\n",
       "      <td>1934, 1938</td>\n",
       "      <td>Austria,Germany</td>\n",
       "      <td>AUT,DEU</td>\n",
       "    </tr>\n",
       "    <tr>\n",
       "      <th>1080</th>\n",
       "      <td>P-01259</td>\n",
       "      <td>Ferenc</td>\n",
       "      <td>Puskás</td>\n",
       "      <td>2</td>\n",
       "      <td>2</td>\n",
       "      <td>1954, 1962</td>\n",
       "      <td>Hungary,Spain</td>\n",
       "      <td>HUN,ESP</td>\n",
       "    </tr>\n",
       "    <tr>\n",
       "      <th>1298</th>\n",
       "      <td>P-01512</td>\n",
       "      <td>José</td>\n",
       "      <td>Altafini</td>\n",
       "      <td>2</td>\n",
       "      <td>2</td>\n",
       "      <td>1958, 1962</td>\n",
       "      <td>Brazil,Italy</td>\n",
       "      <td>BRA,ITA</td>\n",
       "    </tr>\n",
       "    <tr>\n",
       "      <th>1490</th>\n",
       "      <td>P-01739</td>\n",
       "      <td>Davor</td>\n",
       "      <td>Šuker</td>\n",
       "      <td>3</td>\n",
       "      <td>2</td>\n",
       "      <td>1990, 1998, 2002</td>\n",
       "      <td>Yugoslavia,Croatia</td>\n",
       "      <td>YUG,HRV</td>\n",
       "    </tr>\n",
       "    <tr>\n",
       "      <th>1502</th>\n",
       "      <td>P-01757</td>\n",
       "      <td>Rudolf</td>\n",
       "      <td>Raftl</td>\n",
       "      <td>2</td>\n",
       "      <td>2</td>\n",
       "      <td>1934, 1938</td>\n",
       "      <td>Austria,Germany</td>\n",
       "      <td>AUT,DEU</td>\n",
       "    </tr>\n",
       "    <tr>\n",
       "      <th>2016</th>\n",
       "      <td>P-02369</td>\n",
       "      <td>Dejan</td>\n",
       "      <td>Stanković</td>\n",
       "      <td>3</td>\n",
       "      <td>3</td>\n",
       "      <td>1998, 2006, 2010</td>\n",
       "      <td>Yugoslavia,Serbia and Montenegro,Serbia</td>\n",
       "      <td>YUG,SCG,SRB</td>\n",
       "    </tr>\n",
       "    <tr>\n",
       "      <th>2129</th>\n",
       "      <td>P-02502</td>\n",
       "      <td>Nikola</td>\n",
       "      <td>Žigić</td>\n",
       "      <td>2</td>\n",
       "      <td>2</td>\n",
       "      <td>2006, 2010</td>\n",
       "      <td>Serbia and Montenegro,Serbia</td>\n",
       "      <td>SCG,SRB</td>\n",
       "    </tr>\n",
       "    <tr>\n",
       "      <th>2163</th>\n",
       "      <td>P-02543</td>\n",
       "      <td>Luis</td>\n",
       "      <td>Monti</td>\n",
       "      <td>2</td>\n",
       "      <td>2</td>\n",
       "      <td>1930, 1934</td>\n",
       "      <td>Argentina,Italy</td>\n",
       "      <td>ARG,ITA</td>\n",
       "    </tr>\n",
       "    <tr>\n",
       "      <th>2191</th>\n",
       "      <td>P-02576</td>\n",
       "      <td>Robert</td>\n",
       "      <td>Prosinečki</td>\n",
       "      <td>3</td>\n",
       "      <td>2</td>\n",
       "      <td>1990, 1998, 2002</td>\n",
       "      <td>Yugoslavia,Croatia</td>\n",
       "      <td>YUG,HRV</td>\n",
       "    </tr>\n",
       "    <tr>\n",
       "      <th>2416</th>\n",
       "      <td>P-02845</td>\n",
       "      <td>Attilio</td>\n",
       "      <td>Demaría</td>\n",
       "      <td>2</td>\n",
       "      <td>2</td>\n",
       "      <td>1930, 1934</td>\n",
       "      <td>Argentina,Italy</td>\n",
       "      <td>ARG,ITA</td>\n",
       "    </tr>\n",
       "    <tr>\n",
       "      <th>2725</th>\n",
       "      <td>P-03207</td>\n",
       "      <td>Alen</td>\n",
       "      <td>Bokšić</td>\n",
       "      <td>2</td>\n",
       "      <td>2</td>\n",
       "      <td>1990, 2002</td>\n",
       "      <td>Yugoslavia,Croatia</td>\n",
       "      <td>YUG,HRV</td>\n",
       "    </tr>\n",
       "    <tr>\n",
       "      <th>3900</th>\n",
       "      <td>P-04605</td>\n",
       "      <td>Robert</td>\n",
       "      <td>Jarni</td>\n",
       "      <td>3</td>\n",
       "      <td>2</td>\n",
       "      <td>1990, 1998, 2002</td>\n",
       "      <td>Yugoslavia,Croatia</td>\n",
       "      <td>YUG,HRV</td>\n",
       "    </tr>\n",
       "    <tr>\n",
       "      <th>4504</th>\n",
       "      <td>P-05308</td>\n",
       "      <td>Aleksandr</td>\n",
       "      <td>Borodyuk</td>\n",
       "      <td>2</td>\n",
       "      <td>2</td>\n",
       "      <td>1990, 1994</td>\n",
       "      <td>Soviet Union,Russia</td>\n",
       "      <td>SUN,RUS</td>\n",
       "    </tr>\n",
       "    <tr>\n",
       "      <th>4580</th>\n",
       "      <td>P-05394</td>\n",
       "      <td>José</td>\n",
       "      <td>Santamaría</td>\n",
       "      <td>2</td>\n",
       "      <td>2</td>\n",
       "      <td>1954, 1962</td>\n",
       "      <td>Uruguay,Spain</td>\n",
       "      <td>URY,ESP</td>\n",
       "    </tr>\n",
       "    <tr>\n",
       "      <th>5355</th>\n",
       "      <td>P-06299</td>\n",
       "      <td>Nemanja</td>\n",
       "      <td>Vidić</td>\n",
       "      <td>2</td>\n",
       "      <td>2</td>\n",
       "      <td>2006, 2010</td>\n",
       "      <td>Serbia and Montenegro,Serbia</td>\n",
       "      <td>SCG,SRB</td>\n",
       "    </tr>\n",
       "    <tr>\n",
       "      <th>5663</th>\n",
       "      <td>P-06666</td>\n",
       "      <td>Sergei</td>\n",
       "      <td>Gorlukovich</td>\n",
       "      <td>2</td>\n",
       "      <td>2</td>\n",
       "      <td>1990, 1994</td>\n",
       "      <td>Soviet Union,Russia</td>\n",
       "      <td>SUN,RUS</td>\n",
       "    </tr>\n",
       "    <tr>\n",
       "      <th>7446</th>\n",
       "      <td>P-08793</td>\n",
       "      <td>Vladimir</td>\n",
       "      <td>Stojković</td>\n",
       "      <td>3</td>\n",
       "      <td>2</td>\n",
       "      <td>2006, 2010, 2018</td>\n",
       "      <td>Serbia and Montenegro,Serbia</td>\n",
       "      <td>SCG,SRB</td>\n",
       "    </tr>\n",
       "    <tr>\n",
       "      <th>7597</th>\n",
       "      <td>P-08975</td>\n",
       "      <td>Josef</td>\n",
       "      <td>Stroh</td>\n",
       "      <td>2</td>\n",
       "      <td>2</td>\n",
       "      <td>1934, 1938</td>\n",
       "      <td>Austria,Germany</td>\n",
       "      <td>AUT,DEU</td>\n",
       "    </tr>\n",
       "    <tr>\n",
       "      <th>7867</th>\n",
       "      <td>P-09293</td>\n",
       "      <td>Savo</td>\n",
       "      <td>Milošević</td>\n",
       "      <td>2</td>\n",
       "      <td>2</td>\n",
       "      <td>1998, 2006</td>\n",
       "      <td>Yugoslavia,Serbia and Montenegro</td>\n",
       "      <td>YUG,SCG</td>\n",
       "    </tr>\n",
       "    <tr>\n",
       "      <th>8170</th>\n",
       "      <td>P-09633</td>\n",
       "      <td>Willibald</td>\n",
       "      <td>Schmaus</td>\n",
       "      <td>2</td>\n",
       "      <td>2</td>\n",
       "      <td>1934, 1938</td>\n",
       "      <td>Austria,Germany</td>\n",
       "      <td>AUT,DEU</td>\n",
       "    </tr>\n",
       "  </tbody>\n",
       "</table>\n",
       "</div>"
      ],
      "text/plain": [
       "     player_id given_name  family_name  count_tournaments  team_count  \\\n",
       "455    P-00537      Franz       Wagner                  2           2   \n",
       "1080   P-01259     Ferenc       Puskás                  2           2   \n",
       "1298   P-01512       José     Altafini                  2           2   \n",
       "1490   P-01739      Davor        Šuker                  3           2   \n",
       "1502   P-01757     Rudolf        Raftl                  2           2   \n",
       "2016   P-02369      Dejan    Stanković                  3           3   \n",
       "2129   P-02502     Nikola        Žigić                  2           2   \n",
       "2163   P-02543       Luis        Monti                  2           2   \n",
       "2191   P-02576     Robert   Prosinečki                  3           2   \n",
       "2416   P-02845    Attilio      Demaría                  2           2   \n",
       "2725   P-03207       Alen       Bokšić                  2           2   \n",
       "3900   P-04605     Robert        Jarni                  3           2   \n",
       "4504   P-05308  Aleksandr     Borodyuk                  2           2   \n",
       "4580   P-05394       José   Santamaría                  2           2   \n",
       "5355   P-06299    Nemanja        Vidić                  2           2   \n",
       "5663   P-06666     Sergei  Gorlukovich                  2           2   \n",
       "7446   P-08793   Vladimir    Stojković                  3           2   \n",
       "7597   P-08975      Josef        Stroh                  2           2   \n",
       "7867   P-09293       Savo    Milošević                  2           2   \n",
       "8170   P-09633  Willibald      Schmaus                  2           2   \n",
       "\n",
       "      list_tournaments                                team_name    team_code  \n",
       "455         1934, 1938                          Austria,Germany      AUT,DEU  \n",
       "1080        1954, 1962                            Hungary,Spain      HUN,ESP  \n",
       "1298        1958, 1962                             Brazil,Italy      BRA,ITA  \n",
       "1490  1990, 1998, 2002                       Yugoslavia,Croatia      YUG,HRV  \n",
       "1502        1934, 1938                          Austria,Germany      AUT,DEU  \n",
       "2016  1998, 2006, 2010  Yugoslavia,Serbia and Montenegro,Serbia  YUG,SCG,SRB  \n",
       "2129        2006, 2010             Serbia and Montenegro,Serbia      SCG,SRB  \n",
       "2163        1930, 1934                          Argentina,Italy      ARG,ITA  \n",
       "2191  1990, 1998, 2002                       Yugoslavia,Croatia      YUG,HRV  \n",
       "2416        1930, 1934                          Argentina,Italy      ARG,ITA  \n",
       "2725        1990, 2002                       Yugoslavia,Croatia      YUG,HRV  \n",
       "3900  1990, 1998, 2002                       Yugoslavia,Croatia      YUG,HRV  \n",
       "4504        1990, 1994                      Soviet Union,Russia      SUN,RUS  \n",
       "4580        1954, 1962                            Uruguay,Spain      URY,ESP  \n",
       "5355        2006, 2010             Serbia and Montenegro,Serbia      SCG,SRB  \n",
       "5663        1990, 1994                      Soviet Union,Russia      SUN,RUS  \n",
       "7446  2006, 2010, 2018             Serbia and Montenegro,Serbia      SCG,SRB  \n",
       "7597        1934, 1938                          Austria,Germany      AUT,DEU  \n",
       "7867        1998, 2006         Yugoslavia,Serbia and Montenegro      YUG,SCG  \n",
       "8170        1934, 1938                          Austria,Germany      AUT,DEU  "
      ]
     },
     "execution_count": 29,
     "metadata": {},
     "output_type": "execute_result"
    }
   ],
   "source": [
    "players_teams_agg[players_teams_agg.team_count > 1]"
   ]
  },
  {
   "attachments": {},
   "cell_type": "markdown",
   "metadata": {},
   "source": [
    "# 2"
   ]
  },
  {
   "cell_type": "code",
   "execution_count": 32,
   "metadata": {},
   "outputs": [],
   "source": [
    "tour = pd.read_csv('data/fjelstul/tournaments.csv')\n",
    "wh = tour[['winner','host_country']]"
   ]
  },
  {
   "cell_type": "code",
   "execution_count": 39,
   "metadata": {},
   "outputs": [
    {
     "data": {
      "text/html": [
       "<div>\n",
       "<style scoped>\n",
       "    .dataframe tbody tr th:only-of-type {\n",
       "        vertical-align: middle;\n",
       "    }\n",
       "\n",
       "    .dataframe tbody tr th {\n",
       "        vertical-align: top;\n",
       "    }\n",
       "\n",
       "    .dataframe thead th {\n",
       "        text-align: right;\n",
       "    }\n",
       "</style>\n",
       "<table border=\"1\" class=\"dataframe\">\n",
       "  <thead>\n",
       "    <tr style=\"text-align: right;\">\n",
       "      <th></th>\n",
       "      <th>winner</th>\n",
       "      <th>host_country</th>\n",
       "    </tr>\n",
       "  </thead>\n",
       "  <tbody>\n",
       "    <tr>\n",
       "      <th>0</th>\n",
       "      <td>Uruguay</td>\n",
       "      <td>Uruguay</td>\n",
       "    </tr>\n",
       "    <tr>\n",
       "      <th>1</th>\n",
       "      <td>Italy</td>\n",
       "      <td>Italy</td>\n",
       "    </tr>\n",
       "    <tr>\n",
       "      <th>7</th>\n",
       "      <td>England</td>\n",
       "      <td>England</td>\n",
       "    </tr>\n",
       "    <tr>\n",
       "      <th>9</th>\n",
       "      <td>West Germany</td>\n",
       "      <td>West Germany</td>\n",
       "    </tr>\n",
       "    <tr>\n",
       "      <th>10</th>\n",
       "      <td>Argentina</td>\n",
       "      <td>Argentina</td>\n",
       "    </tr>\n",
       "    <tr>\n",
       "      <th>15</th>\n",
       "      <td>France</td>\n",
       "      <td>France</td>\n",
       "    </tr>\n",
       "  </tbody>\n",
       "</table>\n",
       "</div>"
      ],
      "text/plain": [
       "          winner  host_country\n",
       "0        Uruguay       Uruguay\n",
       "1          Italy         Italy\n",
       "7        England       England\n",
       "9   West Germany  West Germany\n",
       "10     Argentina     Argentina\n",
       "15        France        France"
      ]
     },
     "execution_count": 39,
     "metadata": {},
     "output_type": "execute_result"
    }
   ],
   "source": [
    "import plotly.express as px \n",
    "wh[wh.winner == wh.host_country]"
   ]
  },
  {
   "cell_type": "code",
   "execution_count": 43,
   "metadata": {},
   "outputs": [
    {
     "data": {
      "text/plain": [
       "winner\n",
       "England    1\n",
       "Germany    1\n",
       "Spain      1\n",
       "dtype: int64"
      ]
     },
     "execution_count": 43,
     "metadata": {},
     "output_type": "execute_result"
    }
   ],
   "source": [
    "tour.groupby('winner').size()[tour.groupby('winner').size() == 1]"
   ]
  },
  {
   "cell_type": "code",
   "execution_count": 44,
   "metadata": {},
   "outputs": [],
   "source": [
    "from scipy.stats import chi2_contingency\n",
    "contingency_table = pd.crosstab(wh['host_country'], wh['winner'])\n",
    "\n",
    "# Perform a chi-square test of independence\n",
    "chi2, p, dof, expected = chi2_contingency(contingency_table)"
   ]
  },
  {
   "cell_type": "code",
   "execution_count": 45,
   "metadata": {},
   "outputs": [
    {
     "name": "stdout",
     "output_type": "stream",
     "text": [
      "Chi-square statistic: 138.96666666666664\n",
      "P-value: 0.4133433398768274\n"
     ]
    }
   ],
   "source": [
    "print('Chi-square statistic:', chi2)\n",
    "print('P-value:', p)"
   ]
  },
  {
   "cell_type": "code",
   "execution_count": null,
   "metadata": {},
   "outputs": [],
   "source": []
  }
 ],
 "metadata": {
  "kernelspec": {
   "display_name": "Python 3",
   "language": "python",
   "name": "python3"
  },
  "language_info": {
   "codemirror_mode": {
    "name": "ipython",
    "version": 3
   },
   "file_extension": ".py",
   "mimetype": "text/x-python",
   "name": "python",
   "nbconvert_exporter": "python",
   "pygments_lexer": "ipython3",
   "version": "3.10.6"
  },
  "orig_nbformat": 4
 },
 "nbformat": 4,
 "nbformat_minor": 2
}
