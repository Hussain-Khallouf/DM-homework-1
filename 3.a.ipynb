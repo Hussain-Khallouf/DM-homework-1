{
 "cells": [
  {
   "cell_type": "code",
   "execution_count": 1,
   "metadata": {},
   "outputs": [],
   "source": [
    "import pandas as pd\n",
    "import plotly.express as px"
   ]
  },
  {
   "cell_type": "code",
   "execution_count": 2,
   "metadata": {},
   "outputs": [
    {
     "name": "stdout",
     "output_type": "stream",
     "text": [
      "<class 'pandas.core.frame.DataFrame'>\n",
      "RangeIndex: 964 entries, 0 to 963\n",
      "Data columns (total 50 columns):\n",
      " #   Column                        Non-Null Count  Dtype  \n",
      "---  ------                        --------------  -----  \n",
      " 0   Unnamed: 0                    964 non-null    int64  \n",
      " 1   key_id                        964 non-null    int64  \n",
      " 2   tournament_id                 964 non-null    object \n",
      " 3   tournament_name               964 non-null    object \n",
      " 4   match_id                      964 non-null    object \n",
      " 5   match_name                    964 non-null    object \n",
      " 6   stage_name                    964 non-null    object \n",
      " 7   group_name                    964 non-null    object \n",
      " 8   group_stage                   964 non-null    int64  \n",
      " 9   knockout_stage                964 non-null    int64  \n",
      " 10  replayed                      964 non-null    int64  \n",
      " 11  replay                        964 non-null    int64  \n",
      " 12  match_date                    964 non-null    object \n",
      " 13  match_time                    964 non-null    object \n",
      " 14  stadium_id                    964 non-null    object \n",
      " 15  stadium_name                  964 non-null    object \n",
      " 16  city_name                     964 non-null    object \n",
      " 17  country_name                  964 non-null    object \n",
      " 18  home_team_id                  964 non-null    object \n",
      " 19  home_team_name                964 non-null    object \n",
      " 20  home_team_code                964 non-null    object \n",
      " 21  away_team_id                  964 non-null    object \n",
      " 22  away_team_name                964 non-null    object \n",
      " 23  away_team_code                964 non-null    object \n",
      " 24  score                         964 non-null    object \n",
      " 25  home_team_score               964 non-null    int64  \n",
      " 26  away_team_score               964 non-null    int64  \n",
      " 27  home_team_score_margin        964 non-null    int64  \n",
      " 28  away_team_score_margin        964 non-null    int64  \n",
      " 29  extra_time                    964 non-null    int64  \n",
      " 30  penalty_shootout              964 non-null    int64  \n",
      " 31  score_penalties               964 non-null    object \n",
      " 32  home_team_score_penalties     964 non-null    int64  \n",
      " 33  away_team_score_penalties     964 non-null    int64  \n",
      " 34  result                        964 non-null    object \n",
      " 35  home_team_win                 964 non-null    int64  \n",
      " 36  away_team_win                 964 non-null    int64  \n",
      " 37  draw                          964 non-null    int64  \n",
      " 38  stadium_capacity              964 non-null    int64  \n",
      " 39  Attendance                    964 non-null    int64  \n",
      " 40  officials                     709 non-null    object \n",
      " 41  total_goals_in_match          964 non-null    int64  \n",
      " 42  used_capacity_ratio           964 non-null    float64\n",
      " 43  attendance_category           964 non-null    float64\n",
      " 44  relative_attendance_category  964 non-null    object \n",
      " 45  host_country_code             964 non-null    object \n",
      " 46  match_for_host                964 non-null    bool   \n",
      " 47  tournament_year               964 non-null    int64  \n",
      " 48  short_stage_name              964 non-null    object \n",
      " 49  winner_code                   785 non-null    object \n",
      "dtypes: bool(1), float64(2), int64(21), object(26)\n",
      "memory usage: 370.1+ KB\n"
     ]
    }
   ],
   "source": [
    "matches = pd.read_csv(\"data/matches_combined_data.csv\")\n",
    "matches.info()"
   ]
  },
  {
   "cell_type": "code",
   "execution_count": 3,
   "metadata": {},
   "outputs": [],
   "source": [
    "att_data = matches[[\"tournament_id\",\"Attendance\"]].groupby(\n",
    "    \"tournament_id\"\n",
    "    ).agg(\n",
    "        median_values=('Attendance', 'median'),\n",
    "        mean_values=('Attendance', 'mean')\n",
    "    ).reset_index()"
   ]
  },
  {
   "cell_type": "code",
   "execution_count": 4,
   "metadata": {},
   "outputs": [
    {
     "data": {
      "application/vnd.plotly.v1+json": {
       "config": {
        "plotlyServerURL": "https://plot.ly"
       },
       "data": [
        {
         "hovertemplate": "variable=median_values<br>tournament_id=%{x}<br>value=%{y}<extra></extra>",
         "legendgroup": "median_values",
         "line": {
          "color": "#636efa",
          "dash": "solid"
         },
         "marker": {
          "symbol": "circle"
         },
         "mode": "lines",
         "name": "median_values",
         "orientation": "v",
         "showlegend": true,
         "type": "scatter",
         "x": [
          "WC-1930",
          "WC-1934",
          "WC-1938",
          "WC-1950",
          "WC-1954",
          "WC-1958",
          "WC-1962",
          "WC-1966",
          "WC-1970",
          "WC-1974",
          "WC-1978",
          "WC-1982",
          "WC-1986",
          "WC-1990",
          "WC-1994",
          "WC-1998",
          "WC-2002",
          "WC-2006",
          "WC-2010",
          "WC-2014",
          "WC-2018",
          "WC-2022"
         ],
         "xaxis": "x",
         "y": [
          23734,
          16000,
          18570.5,
          22800.5,
          27000,
          20055,
          11782.5,
          41217.5,
          49926,
          53700,
          37203,
          38350,
          32138.5,
          38966.5,
          63749,
          39100,
          39723.5,
          50000,
          41234,
          54013.5,
          42991,
          44093
         ],
         "yaxis": "y"
        },
        {
         "hovertemplate": "variable=mean_values<br>tournament_id=%{x}<br>value=%{y}<extra></extra>",
         "legendgroup": "mean_values",
         "line": {
          "color": "#EF553B",
          "dash": "solid"
         },
         "marker": {
          "symbol": "circle"
         },
         "mode": "lines",
         "name": "mean_values",
         "orientation": "v",
         "showlegend": true,
         "type": "scatter",
         "x": [
          "WC-1930",
          "WC-1934",
          "WC-1938",
          "WC-1950",
          "WC-1954",
          "WC-1958",
          "WC-1962",
          "WC-1966",
          "WC-1970",
          "WC-1974",
          "WC-1978",
          "WC-1982",
          "WC-1986",
          "WC-1990",
          "WC-1994",
          "WC-1998",
          "WC-2002",
          "WC-2006",
          "WC-2010",
          "WC-2014",
          "WC-2018",
          "WC-2022"
         ],
         "xaxis": "x",
         "y": [
          32808.27777777778,
          21352.941176470587,
          20872.222222222223,
          47511.181818181816,
          29561.80769230769,
          23423.14285714286,
          27911.625,
          48847.96875,
          50124.21875,
          49098.76315789474,
          40678.71052631579,
          40571.596153846156,
          46039.057692307695,
          48388.75,
          68991.11538461539,
          45366.828125,
          42270.890625,
          52384.453125,
          49669.625,
          53591.765625,
          47371.375,
          53191.4375
         ],
         "yaxis": "y"
        }
       ],
       "layout": {
        "legend": {
         "title": {
          "text": "variable"
         },
         "tracegroupgap": 0
        },
        "template": {
         "data": {
          "bar": [
           {
            "error_x": {
             "color": "#2a3f5f"
            },
            "error_y": {
             "color": "#2a3f5f"
            },
            "marker": {
             "line": {
              "color": "#E5ECF6",
              "width": 0.5
             },
             "pattern": {
              "fillmode": "overlay",
              "size": 10,
              "solidity": 0.2
             }
            },
            "type": "bar"
           }
          ],
          "barpolar": [
           {
            "marker": {
             "line": {
              "color": "#E5ECF6",
              "width": 0.5
             },
             "pattern": {
              "fillmode": "overlay",
              "size": 10,
              "solidity": 0.2
             }
            },
            "type": "barpolar"
           }
          ],
          "carpet": [
           {
            "aaxis": {
             "endlinecolor": "#2a3f5f",
             "gridcolor": "white",
             "linecolor": "white",
             "minorgridcolor": "white",
             "startlinecolor": "#2a3f5f"
            },
            "baxis": {
             "endlinecolor": "#2a3f5f",
             "gridcolor": "white",
             "linecolor": "white",
             "minorgridcolor": "white",
             "startlinecolor": "#2a3f5f"
            },
            "type": "carpet"
           }
          ],
          "choropleth": [
           {
            "colorbar": {
             "outlinewidth": 0,
             "ticks": ""
            },
            "type": "choropleth"
           }
          ],
          "contour": [
           {
            "colorbar": {
             "outlinewidth": 0,
             "ticks": ""
            },
            "colorscale": [
             [
              0,
              "#0d0887"
             ],
             [
              0.1111111111111111,
              "#46039f"
             ],
             [
              0.2222222222222222,
              "#7201a8"
             ],
             [
              0.3333333333333333,
              "#9c179e"
             ],
             [
              0.4444444444444444,
              "#bd3786"
             ],
             [
              0.5555555555555556,
              "#d8576b"
             ],
             [
              0.6666666666666666,
              "#ed7953"
             ],
             [
              0.7777777777777778,
              "#fb9f3a"
             ],
             [
              0.8888888888888888,
              "#fdca26"
             ],
             [
              1,
              "#f0f921"
             ]
            ],
            "type": "contour"
           }
          ],
          "contourcarpet": [
           {
            "colorbar": {
             "outlinewidth": 0,
             "ticks": ""
            },
            "type": "contourcarpet"
           }
          ],
          "heatmap": [
           {
            "colorbar": {
             "outlinewidth": 0,
             "ticks": ""
            },
            "colorscale": [
             [
              0,
              "#0d0887"
             ],
             [
              0.1111111111111111,
              "#46039f"
             ],
             [
              0.2222222222222222,
              "#7201a8"
             ],
             [
              0.3333333333333333,
              "#9c179e"
             ],
             [
              0.4444444444444444,
              "#bd3786"
             ],
             [
              0.5555555555555556,
              "#d8576b"
             ],
             [
              0.6666666666666666,
              "#ed7953"
             ],
             [
              0.7777777777777778,
              "#fb9f3a"
             ],
             [
              0.8888888888888888,
              "#fdca26"
             ],
             [
              1,
              "#f0f921"
             ]
            ],
            "type": "heatmap"
           }
          ],
          "heatmapgl": [
           {
            "colorbar": {
             "outlinewidth": 0,
             "ticks": ""
            },
            "colorscale": [
             [
              0,
              "#0d0887"
             ],
             [
              0.1111111111111111,
              "#46039f"
             ],
             [
              0.2222222222222222,
              "#7201a8"
             ],
             [
              0.3333333333333333,
              "#9c179e"
             ],
             [
              0.4444444444444444,
              "#bd3786"
             ],
             [
              0.5555555555555556,
              "#d8576b"
             ],
             [
              0.6666666666666666,
              "#ed7953"
             ],
             [
              0.7777777777777778,
              "#fb9f3a"
             ],
             [
              0.8888888888888888,
              "#fdca26"
             ],
             [
              1,
              "#f0f921"
             ]
            ],
            "type": "heatmapgl"
           }
          ],
          "histogram": [
           {
            "marker": {
             "pattern": {
              "fillmode": "overlay",
              "size": 10,
              "solidity": 0.2
             }
            },
            "type": "histogram"
           }
          ],
          "histogram2d": [
           {
            "colorbar": {
             "outlinewidth": 0,
             "ticks": ""
            },
            "colorscale": [
             [
              0,
              "#0d0887"
             ],
             [
              0.1111111111111111,
              "#46039f"
             ],
             [
              0.2222222222222222,
              "#7201a8"
             ],
             [
              0.3333333333333333,
              "#9c179e"
             ],
             [
              0.4444444444444444,
              "#bd3786"
             ],
             [
              0.5555555555555556,
              "#d8576b"
             ],
             [
              0.6666666666666666,
              "#ed7953"
             ],
             [
              0.7777777777777778,
              "#fb9f3a"
             ],
             [
              0.8888888888888888,
              "#fdca26"
             ],
             [
              1,
              "#f0f921"
             ]
            ],
            "type": "histogram2d"
           }
          ],
          "histogram2dcontour": [
           {
            "colorbar": {
             "outlinewidth": 0,
             "ticks": ""
            },
            "colorscale": [
             [
              0,
              "#0d0887"
             ],
             [
              0.1111111111111111,
              "#46039f"
             ],
             [
              0.2222222222222222,
              "#7201a8"
             ],
             [
              0.3333333333333333,
              "#9c179e"
             ],
             [
              0.4444444444444444,
              "#bd3786"
             ],
             [
              0.5555555555555556,
              "#d8576b"
             ],
             [
              0.6666666666666666,
              "#ed7953"
             ],
             [
              0.7777777777777778,
              "#fb9f3a"
             ],
             [
              0.8888888888888888,
              "#fdca26"
             ],
             [
              1,
              "#f0f921"
             ]
            ],
            "type": "histogram2dcontour"
           }
          ],
          "mesh3d": [
           {
            "colorbar": {
             "outlinewidth": 0,
             "ticks": ""
            },
            "type": "mesh3d"
           }
          ],
          "parcoords": [
           {
            "line": {
             "colorbar": {
              "outlinewidth": 0,
              "ticks": ""
             }
            },
            "type": "parcoords"
           }
          ],
          "pie": [
           {
            "automargin": true,
            "type": "pie"
           }
          ],
          "scatter": [
           {
            "fillpattern": {
             "fillmode": "overlay",
             "size": 10,
             "solidity": 0.2
            },
            "type": "scatter"
           }
          ],
          "scatter3d": [
           {
            "line": {
             "colorbar": {
              "outlinewidth": 0,
              "ticks": ""
             }
            },
            "marker": {
             "colorbar": {
              "outlinewidth": 0,
              "ticks": ""
             }
            },
            "type": "scatter3d"
           }
          ],
          "scattercarpet": [
           {
            "marker": {
             "colorbar": {
              "outlinewidth": 0,
              "ticks": ""
             }
            },
            "type": "scattercarpet"
           }
          ],
          "scattergeo": [
           {
            "marker": {
             "colorbar": {
              "outlinewidth": 0,
              "ticks": ""
             }
            },
            "type": "scattergeo"
           }
          ],
          "scattergl": [
           {
            "marker": {
             "colorbar": {
              "outlinewidth": 0,
              "ticks": ""
             }
            },
            "type": "scattergl"
           }
          ],
          "scattermapbox": [
           {
            "marker": {
             "colorbar": {
              "outlinewidth": 0,
              "ticks": ""
             }
            },
            "type": "scattermapbox"
           }
          ],
          "scatterpolar": [
           {
            "marker": {
             "colorbar": {
              "outlinewidth": 0,
              "ticks": ""
             }
            },
            "type": "scatterpolar"
           }
          ],
          "scatterpolargl": [
           {
            "marker": {
             "colorbar": {
              "outlinewidth": 0,
              "ticks": ""
             }
            },
            "type": "scatterpolargl"
           }
          ],
          "scatterternary": [
           {
            "marker": {
             "colorbar": {
              "outlinewidth": 0,
              "ticks": ""
             }
            },
            "type": "scatterternary"
           }
          ],
          "surface": [
           {
            "colorbar": {
             "outlinewidth": 0,
             "ticks": ""
            },
            "colorscale": [
             [
              0,
              "#0d0887"
             ],
             [
              0.1111111111111111,
              "#46039f"
             ],
             [
              0.2222222222222222,
              "#7201a8"
             ],
             [
              0.3333333333333333,
              "#9c179e"
             ],
             [
              0.4444444444444444,
              "#bd3786"
             ],
             [
              0.5555555555555556,
              "#d8576b"
             ],
             [
              0.6666666666666666,
              "#ed7953"
             ],
             [
              0.7777777777777778,
              "#fb9f3a"
             ],
             [
              0.8888888888888888,
              "#fdca26"
             ],
             [
              1,
              "#f0f921"
             ]
            ],
            "type": "surface"
           }
          ],
          "table": [
           {
            "cells": {
             "fill": {
              "color": "#EBF0F8"
             },
             "line": {
              "color": "white"
             }
            },
            "header": {
             "fill": {
              "color": "#C8D4E3"
             },
             "line": {
              "color": "white"
             }
            },
            "type": "table"
           }
          ]
         },
         "layout": {
          "annotationdefaults": {
           "arrowcolor": "#2a3f5f",
           "arrowhead": 0,
           "arrowwidth": 1
          },
          "autotypenumbers": "strict",
          "coloraxis": {
           "colorbar": {
            "outlinewidth": 0,
            "ticks": ""
           }
          },
          "colorscale": {
           "diverging": [
            [
             0,
             "#8e0152"
            ],
            [
             0.1,
             "#c51b7d"
            ],
            [
             0.2,
             "#de77ae"
            ],
            [
             0.3,
             "#f1b6da"
            ],
            [
             0.4,
             "#fde0ef"
            ],
            [
             0.5,
             "#f7f7f7"
            ],
            [
             0.6,
             "#e6f5d0"
            ],
            [
             0.7,
             "#b8e186"
            ],
            [
             0.8,
             "#7fbc41"
            ],
            [
             0.9,
             "#4d9221"
            ],
            [
             1,
             "#276419"
            ]
           ],
           "sequential": [
            [
             0,
             "#0d0887"
            ],
            [
             0.1111111111111111,
             "#46039f"
            ],
            [
             0.2222222222222222,
             "#7201a8"
            ],
            [
             0.3333333333333333,
             "#9c179e"
            ],
            [
             0.4444444444444444,
             "#bd3786"
            ],
            [
             0.5555555555555556,
             "#d8576b"
            ],
            [
             0.6666666666666666,
             "#ed7953"
            ],
            [
             0.7777777777777778,
             "#fb9f3a"
            ],
            [
             0.8888888888888888,
             "#fdca26"
            ],
            [
             1,
             "#f0f921"
            ]
           ],
           "sequentialminus": [
            [
             0,
             "#0d0887"
            ],
            [
             0.1111111111111111,
             "#46039f"
            ],
            [
             0.2222222222222222,
             "#7201a8"
            ],
            [
             0.3333333333333333,
             "#9c179e"
            ],
            [
             0.4444444444444444,
             "#bd3786"
            ],
            [
             0.5555555555555556,
             "#d8576b"
            ],
            [
             0.6666666666666666,
             "#ed7953"
            ],
            [
             0.7777777777777778,
             "#fb9f3a"
            ],
            [
             0.8888888888888888,
             "#fdca26"
            ],
            [
             1,
             "#f0f921"
            ]
           ]
          },
          "colorway": [
           "#636efa",
           "#EF553B",
           "#00cc96",
           "#ab63fa",
           "#FFA15A",
           "#19d3f3",
           "#FF6692",
           "#B6E880",
           "#FF97FF",
           "#FECB52"
          ],
          "font": {
           "color": "#2a3f5f"
          },
          "geo": {
           "bgcolor": "white",
           "lakecolor": "white",
           "landcolor": "#E5ECF6",
           "showlakes": true,
           "showland": true,
           "subunitcolor": "white"
          },
          "hoverlabel": {
           "align": "left"
          },
          "hovermode": "closest",
          "mapbox": {
           "style": "light"
          },
          "paper_bgcolor": "white",
          "plot_bgcolor": "#E5ECF6",
          "polar": {
           "angularaxis": {
            "gridcolor": "white",
            "linecolor": "white",
            "ticks": ""
           },
           "bgcolor": "#E5ECF6",
           "radialaxis": {
            "gridcolor": "white",
            "linecolor": "white",
            "ticks": ""
           }
          },
          "scene": {
           "xaxis": {
            "backgroundcolor": "#E5ECF6",
            "gridcolor": "white",
            "gridwidth": 2,
            "linecolor": "white",
            "showbackground": true,
            "ticks": "",
            "zerolinecolor": "white"
           },
           "yaxis": {
            "backgroundcolor": "#E5ECF6",
            "gridcolor": "white",
            "gridwidth": 2,
            "linecolor": "white",
            "showbackground": true,
            "ticks": "",
            "zerolinecolor": "white"
           },
           "zaxis": {
            "backgroundcolor": "#E5ECF6",
            "gridcolor": "white",
            "gridwidth": 2,
            "linecolor": "white",
            "showbackground": true,
            "ticks": "",
            "zerolinecolor": "white"
           }
          },
          "shapedefaults": {
           "line": {
            "color": "#2a3f5f"
           }
          },
          "ternary": {
           "aaxis": {
            "gridcolor": "white",
            "linecolor": "white",
            "ticks": ""
           },
           "baxis": {
            "gridcolor": "white",
            "linecolor": "white",
            "ticks": ""
           },
           "bgcolor": "#E5ECF6",
           "caxis": {
            "gridcolor": "white",
            "linecolor": "white",
            "ticks": ""
           }
          },
          "title": {
           "x": 0.05
          },
          "xaxis": {
           "automargin": true,
           "gridcolor": "white",
           "linecolor": "white",
           "ticks": "",
           "title": {
            "standoff": 15
           },
           "zerolinecolor": "white",
           "zerolinewidth": 2
          },
          "yaxis": {
           "automargin": true,
           "gridcolor": "white",
           "linecolor": "white",
           "ticks": "",
           "title": {
            "standoff": 15
           },
           "zerolinecolor": "white",
           "zerolinewidth": 2
          }
         }
        },
        "title": {
         "text": "Median, Mean of Attendance by Tournament"
        },
        "xaxis": {
         "anchor": "y",
         "domain": [
          0,
          1
         ],
         "title": {
          "text": "tournament_id"
         }
        },
        "yaxis": {
         "anchor": "x",
         "domain": [
          0,
          1
         ],
         "title": {
          "text": "value"
         }
        }
       }
      }
     },
     "metadata": {},
     "output_type": "display_data"
    }
   ],
   "source": [
    "fig = px.line(\n",
    "    att_data, \n",
    "    x=\"tournament_id\",\n",
    "    y=[\"median_values\", \"mean_values\"],\n",
    "    title=\"Median, Mean of Attendance by Tournament\"\n",
    ")\n",
    "fig.show()"
   ]
  },
  {
   "cell_type": "code",
   "execution_count": 13,
   "metadata": {},
   "outputs": [
    {
     "data": {
      "application/vnd.plotly.v1+json": {
       "config": {
        "plotlyServerURL": "https://plot.ly"
       },
       "data": [
        {
         "alignmentgroup": "True",
         "bingroup": "x",
         "hovertemplate": "Attendance=%{x}<br>count=%{y}<extra></extra>",
         "legendgroup": "",
         "marker": {
          "color": "#636efa",
          "pattern": {
           "shape": ""
          }
         },
         "name": "",
         "nbinsx": 100,
         "offsetgroup": "",
         "orientation": "v",
         "showlegend": false,
         "type": "histogram",
         "x": [
          4444,
          2549,
          18346,
          24059,
          23409,
          9249,
          18306,
          18306,
          57735,
          2000,
          42100,
          25466,
          12000,
          70022,
          41459,
          72886,
          79867,
          68346,
          16000,
          12000,
          9000,
          8000,
          35000,
          43000,
          9000,
          7000,
          25000,
          15000,
          55000,
          21000,
          30867,
          31823,
          30223,
          31818,
          14000,
          23000,
          30791,
          32257,
          27833,
          34520,
          33000,
          3000,
          35000,
          73780,
          74765,
          71169,
          72510,
          74559,
          73347,
          27152,
          20025,
          20000,
          49000,
          48000,
          45500,
          45500,
          45500,
          44000,
          7000,
          8000,
          30454,
          58455,
          45000,
          9000,
          19000,
          33000,
          55000,
          54587,
          55000,
          57000,
          55000,
          60000,
          60000,
          13452,
          11000,
          22021,
          18141,
          12000,
          35200,
          31800,
          31800,
          31800,
          31800,
          31800,
          15000,
          7000,
          81649,
          29703,
          19790,
          142429,
          74462,
          138886,
          152772,
          173850,
          74738,
          74101,
          73819,
          73749,
          73804,
          74240,
          74738,
          7336,
          10151,
          5284,
          9511,
          7903,
          36502,
          42032,
          25811,
          44802,
          7987,
          11227,
          11078,
          3580,
          8501,
          13470,
          19000,
          4000,
          17000,
          16000,
          43000,
          24637,
          35000,
          45000,
          25000,
          13000,
          26000,
          17000,
          32000,
          20500,
          28000,
          43500,
          40000,
          62500,
          14000,
          34000,
          56000,
          30000,
          28000,
          58000,
          24000,
          34107,
          15150,
          38850,
          30287,
          2823,
          31900,
          27100,
          49737,
          31156,
          21990,
          6196,
          20055,
          10647,
          14174,
          16518,
          11665,
          11800,
          9591,
          12217,
          15343,
          13300,
          17788,
          49348,
          40895,
          50928,
          23182,
          25923,
          49471,
          32483,
          25000,
          16418,
          21239,
          15872,
          13554,
          13103,
          7908,
          9622,
          8829,
          8040,
          9973,
          7167,
          17268,
          65006,
          65440,
          66057,
          64922,
          67224,
          59828,
          63324,
          76594,
          66697,
          68679,
          10484,
          12700,
          14903,
          11875,
          18715,
          10648,
          17736,
          5890,
          7134,
          7938,
          9794,
          7442,
          7945,
          5700,
          11690,
          87148,
          69237,
          92570,
          61112,
          98270,
          90584,
          94493,
          87696,
          96924,
          36127,
          32028,
          32127,
          40007,
          47308,
          51387,
          58479,
          40248,
          38273,
          23006,
          13792,
          17829,
          42738,
          46587,
          42187,
          29886,
          25438,
          24129,
          27199,
          27793,
          16027,
          26844,
          45662,
          107160,
          92205,
          95261,
          103058,
          89979,
          108192,
          26085,
          102444,
          104403,
          107412,
          96000,
          110000,
          114600,
          103763,
          114580,
          98728,
          114580,
          114500,
          114600,
          20654,
          29968,
          18163,
          32000,
          20000,
          26000,
          45000,
          21000,
          50560,
          52897,
          56818,
          66843,
          50804,
          49292,
          54233,
          51261,
          35748,
          48000,
          51000,
          45000,
          65000,
          45000,
          13765,
          12942,
          13537,
          12710,
          17875,
          12299,
          23357,
          65500,
          36540,
          31420,
          32277,
          13433,
          9624,
          9890,
          26851,
          24000,
          20000,
          16000,
          62000,
          62000,
          56000,
          58000,
          62000,
          48000,
          48000,
          48000,
          48000,
          48000,
          81100,
          28300,
          17400,
          72000,
          72000,
          72000,
          72000,
          72000,
          69000,
          17000,
          53300,
          60200,
          49480,
          50000,
          50000,
          50000,
          50000,
          27000,
          53700,
          53300,
          53700,
          62959,
          65000,
          65000,
          65000,
          65000,
          65000,
          23800,
          28300,
          67385,
          67800,
          41300,
          55100,
          13400,
          59863,
          39400,
          43000,
          43000,
          43000,
          43000,
          43000,
          53000,
          25300,
          25900,
          77100,
          78200,
          32700,
          70100,
          70100,
          44955,
          52000,
          52000,
          52000,
          52000,
          52000,
          52000,
          31700,
          36200,
          56548,
          68348,
          54254,
          67579,
          71615,
          71666,
          71712,
          67547,
          66695,
          67433,
          69659,
          71483,
          42373,
          32569,
          26533,
          34771,
          23127,
          35221,
          17396,
          9624,
          22651,
          37091,
          37326,
          37315,
          40841,
          41424,
          42132,
          33431,
          28125,
          35130,
          31278,
          35288,
          39586,
          37927,
          35258,
          7938,
          30667,
          21262,
          25050,
          40750,
          38318,
          95000,
          65000,
          45000,
          65000,
          50000,
          33000,
          25000,
          20000,
          68000,
          70000,
          11000,
          19000,
          25000,
          23000,
          15000,
          37000,
          36000,
          19000,
          45000,
          42000,
          42000,
          41000,
          44172,
          41123,
          39700,
          49562,
          48000,
          49562,
          22500,
          22000,
          16000,
          25000,
          30043,
          28000,
          25000,
          15000,
          25000,
          32093,
          32500,
          28000,
          47379,
          43000,
          37000,
          20000,
          37000,
          43000,
          44000,
          44000,
          75000,
          90089,
          75000,
          90000,
          60000,
          45000,
          65000,
          70000,
          16500,
          13800,
          14200,
          19900,
          19915,
          22700,
          19800,
          41700,
          22000,
          28000,
          28000,
          23000,
          20200,
          23980,
          30500,
          30000,
          36000,
          38500,
          18000,
          26500,
          20000,
          42907,
          38687,
          37307,
          47673,
          51426,
          73303,
          73423,
          73303,
          73303,
          73303,
          73603,
          33266,
          38962,
          34857,
          38971,
          62628,
          58007,
          62502,
          61381,
          62628,
          35238,
          35267,
          34959,
          32790,
          33759,
          35950,
          35500,
          33288,
          33288,
          33288,
          35713,
          32733,
          29039,
          55759,
          52733,
          50026,
          55205,
          59978,
          63117,
          63113,
          63160,
          63089,
          60246,
          56247,
          44132,
          63998,
          63998,
          60277,
          63500,
          73425,
          61428,
          71528,
          77217,
          75338,
          74624,
          76322,
          72404,
          71030,
          72000,
          74110,
          91856,
          93194,
          93869,
          93869,
          90469,
          91856,
          91500,
          94194,
          61219,
          60790,
          62387,
          60578,
          61355,
          52395,
          50535,
          52535,
          52959,
          53121,
          81061,
          83401,
          83401,
          74914,
          84147,
          83500,
          54456,
          54453,
          54453,
          53001,
          54367,
          53400,
          80000,
          77000,
          80000,
          80000,
          80000,
          77000,
          80000,
          80000,
          80000,
          29750,
          27650,
          35500,
          35500,
          35500,
          29800,
          36500,
          33500,
          33500,
          33140,
          33400,
          33000,
          38100,
          38100,
          41275,
          41275,
          42000,
          31800,
          38000,
          38500,
          35500,
          39500,
          38500,
          49500,
          39100,
          43300,
          43300,
          39100,
          39100,
          43300,
          36000,
          36000,
          36000,
          36000,
          30600,
          30600,
          62561,
          43605,
          65625,
          33679,
          32239,
          40582,
          30157,
          33842,
          37337,
          32218,
          31081,
          35927,
          34050,
          35854,
          36472,
          25186,
          48760,
          38070,
          52721,
          55256,
          52328,
          61058,
          28588,
          27217,
          42114,
          30957,
          36194,
          40440,
          37306,
          33681,
          38524,
          38926,
          43500,
          47226,
          60778,
          63483,
          24000,
          31000,
          36380,
          36750,
          30176,
          25176,
          45610,
          45777,
          45666,
          42299,
          48100,
          50239,
          66108,
          65320,
          65862,
          69029,
          39700,
          39291,
          39747,
          47085,
          46640,
          47436,
          44864,
          45213,
          44233,
          31024,
          26482,
          38588,
          64950,
          66000,
          66000,
          66000,
          66000,
          66000,
          52000,
          52000,
          52000,
          52000,
          52000,
          37216,
          43000,
          43000,
          38000,
          43000,
          41000,
          41000,
          41000,
          41000,
          41000,
          45000,
          45000,
          45000,
          45000,
          45000,
          46000,
          46000,
          46000,
          46000,
          46000,
          84490,
          83465,
          82174,
          84455,
          83391,
          84377,
          84017,
          84490,
          64100,
          62869,
          64100,
          63644,
          63093,
          62955,
          64100,
          62479,
          31513,
          37034,
          38294,
          34872,
          36893,
          30597,
          40186,
          36254,
          55686,
          54331,
          45573,
          54386,
          53412,
          54096,
          55359,
          38646,
          23871,
          34812,
          33425,
          27967,
          34976,
          30325,
          35370,
          38891,
          34850,
          38833,
          42658,
          38074,
          35827,
          41958,
          36742,
          62660,
          62453,
          62010,
          61874,
          62712,
          61962,
          60960,
          30620,
          31593,
          26643,
          39415,
          28042,
          40510,
          32664,
          38229,
          37836,
          34763,
          62103,
          62575,
          62996,
          61397,
          63255,
          63267,
          39216,
          39760,
          39485,
          39706,
          48173,
          51081,
          51003,
          48011,
          51227,
          51179,
          40275,
          37603,
          40499,
          40340,
          57174,
          56800,
          57698,
          57823,
          57714,
          58141,
          58679,
          60342,
          59621,
          59095,
          58817,
          60342,
          39800,
          39982,
          40123,
          40322,
          40267,
          40285,
          41212,
          41876,
          41242,
          68351,
          68748,
          69112,
          67540,
          67882,
          68551,
          68034,
          43012,
          42877,
          42732,
          43285,
          43063,
          39081,
          39224,
          39375,
          39311,
          78011,
          78011,
          78011,
          78011,
          78011,
          78011,
          78011,
          27015,
          32789,
          32572,
          33061,
          62548,
          64468,
          64468,
          64468,
          64042,
          64286,
          64406,
          43866,
          43257,
          44287,
          44073,
          44287,
          44287,
          41279,
          42718,
          42873,
          41835,
          42873,
          42873,
          44190,
          44190,
          44190,
          44190,
          44190,
          40502,
          40842,
          41685,
          37168,
          31136,
          33167,
          33973,
          33973,
          41432,
          40727,
          41970,
          41970,
          41970,
          39991,
          43109,
          42678,
          43472,
          43472,
          41466,
          42300,
          43319,
          43319,
          43319,
          40851,
          43319,
          41064,
          40904,
          36823,
          42189,
          67372,
          59407,
          68463,
          68895,
          66784,
          67054,
          65985,
          68895,
          68294,
          45334,
          42608,
          44833,
          44374,
          44569,
          44851,
          44846,
          44137,
          41721,
          40013,
          41797,
          43738,
          42127,
          43102,
          40989,
          44198,
          43418,
          40432,
          40875,
          41479,
          44297,
          43984,
          45032,
          88012,
          88103,
          88966,
          88668,
          84985,
          85986,
          83720,
          88235,
          88966,
          88966,
          42925,
          41663,
          44259,
          43983,
          43627,
          44097,
          44667,
          43893,
          39369,
          42662,
          42860,
          43649,
          44089,
          41378,
          43847,
          40875,
          39089,
          41823,
          39789,
          41232,
          43443,
          42523
         ],
         "xaxis": "x",
         "yaxis": "y"
        }
       ],
       "layout": {
        "barmode": "relative",
        "legend": {
         "tracegroupgap": 0
        },
        "margin": {
         "t": 60
        },
        "template": {
         "data": {
          "bar": [
           {
            "error_x": {
             "color": "#2a3f5f"
            },
            "error_y": {
             "color": "#2a3f5f"
            },
            "marker": {
             "line": {
              "color": "#E5ECF6",
              "width": 0.5
             },
             "pattern": {
              "fillmode": "overlay",
              "size": 10,
              "solidity": 0.2
             }
            },
            "type": "bar"
           }
          ],
          "barpolar": [
           {
            "marker": {
             "line": {
              "color": "#E5ECF6",
              "width": 0.5
             },
             "pattern": {
              "fillmode": "overlay",
              "size": 10,
              "solidity": 0.2
             }
            },
            "type": "barpolar"
           }
          ],
          "carpet": [
           {
            "aaxis": {
             "endlinecolor": "#2a3f5f",
             "gridcolor": "white",
             "linecolor": "white",
             "minorgridcolor": "white",
             "startlinecolor": "#2a3f5f"
            },
            "baxis": {
             "endlinecolor": "#2a3f5f",
             "gridcolor": "white",
             "linecolor": "white",
             "minorgridcolor": "white",
             "startlinecolor": "#2a3f5f"
            },
            "type": "carpet"
           }
          ],
          "choropleth": [
           {
            "colorbar": {
             "outlinewidth": 0,
             "ticks": ""
            },
            "type": "choropleth"
           }
          ],
          "contour": [
           {
            "colorbar": {
             "outlinewidth": 0,
             "ticks": ""
            },
            "colorscale": [
             [
              0,
              "#0d0887"
             ],
             [
              0.1111111111111111,
              "#46039f"
             ],
             [
              0.2222222222222222,
              "#7201a8"
             ],
             [
              0.3333333333333333,
              "#9c179e"
             ],
             [
              0.4444444444444444,
              "#bd3786"
             ],
             [
              0.5555555555555556,
              "#d8576b"
             ],
             [
              0.6666666666666666,
              "#ed7953"
             ],
             [
              0.7777777777777778,
              "#fb9f3a"
             ],
             [
              0.8888888888888888,
              "#fdca26"
             ],
             [
              1,
              "#f0f921"
             ]
            ],
            "type": "contour"
           }
          ],
          "contourcarpet": [
           {
            "colorbar": {
             "outlinewidth": 0,
             "ticks": ""
            },
            "type": "contourcarpet"
           }
          ],
          "heatmap": [
           {
            "colorbar": {
             "outlinewidth": 0,
             "ticks": ""
            },
            "colorscale": [
             [
              0,
              "#0d0887"
             ],
             [
              0.1111111111111111,
              "#46039f"
             ],
             [
              0.2222222222222222,
              "#7201a8"
             ],
             [
              0.3333333333333333,
              "#9c179e"
             ],
             [
              0.4444444444444444,
              "#bd3786"
             ],
             [
              0.5555555555555556,
              "#d8576b"
             ],
             [
              0.6666666666666666,
              "#ed7953"
             ],
             [
              0.7777777777777778,
              "#fb9f3a"
             ],
             [
              0.8888888888888888,
              "#fdca26"
             ],
             [
              1,
              "#f0f921"
             ]
            ],
            "type": "heatmap"
           }
          ],
          "heatmapgl": [
           {
            "colorbar": {
             "outlinewidth": 0,
             "ticks": ""
            },
            "colorscale": [
             [
              0,
              "#0d0887"
             ],
             [
              0.1111111111111111,
              "#46039f"
             ],
             [
              0.2222222222222222,
              "#7201a8"
             ],
             [
              0.3333333333333333,
              "#9c179e"
             ],
             [
              0.4444444444444444,
              "#bd3786"
             ],
             [
              0.5555555555555556,
              "#d8576b"
             ],
             [
              0.6666666666666666,
              "#ed7953"
             ],
             [
              0.7777777777777778,
              "#fb9f3a"
             ],
             [
              0.8888888888888888,
              "#fdca26"
             ],
             [
              1,
              "#f0f921"
             ]
            ],
            "type": "heatmapgl"
           }
          ],
          "histogram": [
           {
            "marker": {
             "pattern": {
              "fillmode": "overlay",
              "size": 10,
              "solidity": 0.2
             }
            },
            "type": "histogram"
           }
          ],
          "histogram2d": [
           {
            "colorbar": {
             "outlinewidth": 0,
             "ticks": ""
            },
            "colorscale": [
             [
              0,
              "#0d0887"
             ],
             [
              0.1111111111111111,
              "#46039f"
             ],
             [
              0.2222222222222222,
              "#7201a8"
             ],
             [
              0.3333333333333333,
              "#9c179e"
             ],
             [
              0.4444444444444444,
              "#bd3786"
             ],
             [
              0.5555555555555556,
              "#d8576b"
             ],
             [
              0.6666666666666666,
              "#ed7953"
             ],
             [
              0.7777777777777778,
              "#fb9f3a"
             ],
             [
              0.8888888888888888,
              "#fdca26"
             ],
             [
              1,
              "#f0f921"
             ]
            ],
            "type": "histogram2d"
           }
          ],
          "histogram2dcontour": [
           {
            "colorbar": {
             "outlinewidth": 0,
             "ticks": ""
            },
            "colorscale": [
             [
              0,
              "#0d0887"
             ],
             [
              0.1111111111111111,
              "#46039f"
             ],
             [
              0.2222222222222222,
              "#7201a8"
             ],
             [
              0.3333333333333333,
              "#9c179e"
             ],
             [
              0.4444444444444444,
              "#bd3786"
             ],
             [
              0.5555555555555556,
              "#d8576b"
             ],
             [
              0.6666666666666666,
              "#ed7953"
             ],
             [
              0.7777777777777778,
              "#fb9f3a"
             ],
             [
              0.8888888888888888,
              "#fdca26"
             ],
             [
              1,
              "#f0f921"
             ]
            ],
            "type": "histogram2dcontour"
           }
          ],
          "mesh3d": [
           {
            "colorbar": {
             "outlinewidth": 0,
             "ticks": ""
            },
            "type": "mesh3d"
           }
          ],
          "parcoords": [
           {
            "line": {
             "colorbar": {
              "outlinewidth": 0,
              "ticks": ""
             }
            },
            "type": "parcoords"
           }
          ],
          "pie": [
           {
            "automargin": true,
            "type": "pie"
           }
          ],
          "scatter": [
           {
            "fillpattern": {
             "fillmode": "overlay",
             "size": 10,
             "solidity": 0.2
            },
            "type": "scatter"
           }
          ],
          "scatter3d": [
           {
            "line": {
             "colorbar": {
              "outlinewidth": 0,
              "ticks": ""
             }
            },
            "marker": {
             "colorbar": {
              "outlinewidth": 0,
              "ticks": ""
             }
            },
            "type": "scatter3d"
           }
          ],
          "scattercarpet": [
           {
            "marker": {
             "colorbar": {
              "outlinewidth": 0,
              "ticks": ""
             }
            },
            "type": "scattercarpet"
           }
          ],
          "scattergeo": [
           {
            "marker": {
             "colorbar": {
              "outlinewidth": 0,
              "ticks": ""
             }
            },
            "type": "scattergeo"
           }
          ],
          "scattergl": [
           {
            "marker": {
             "colorbar": {
              "outlinewidth": 0,
              "ticks": ""
             }
            },
            "type": "scattergl"
           }
          ],
          "scattermapbox": [
           {
            "marker": {
             "colorbar": {
              "outlinewidth": 0,
              "ticks": ""
             }
            },
            "type": "scattermapbox"
           }
          ],
          "scatterpolar": [
           {
            "marker": {
             "colorbar": {
              "outlinewidth": 0,
              "ticks": ""
             }
            },
            "type": "scatterpolar"
           }
          ],
          "scatterpolargl": [
           {
            "marker": {
             "colorbar": {
              "outlinewidth": 0,
              "ticks": ""
             }
            },
            "type": "scatterpolargl"
           }
          ],
          "scatterternary": [
           {
            "marker": {
             "colorbar": {
              "outlinewidth": 0,
              "ticks": ""
             }
            },
            "type": "scatterternary"
           }
          ],
          "surface": [
           {
            "colorbar": {
             "outlinewidth": 0,
             "ticks": ""
            },
            "colorscale": [
             [
              0,
              "#0d0887"
             ],
             [
              0.1111111111111111,
              "#46039f"
             ],
             [
              0.2222222222222222,
              "#7201a8"
             ],
             [
              0.3333333333333333,
              "#9c179e"
             ],
             [
              0.4444444444444444,
              "#bd3786"
             ],
             [
              0.5555555555555556,
              "#d8576b"
             ],
             [
              0.6666666666666666,
              "#ed7953"
             ],
             [
              0.7777777777777778,
              "#fb9f3a"
             ],
             [
              0.8888888888888888,
              "#fdca26"
             ],
             [
              1,
              "#f0f921"
             ]
            ],
            "type": "surface"
           }
          ],
          "table": [
           {
            "cells": {
             "fill": {
              "color": "#EBF0F8"
             },
             "line": {
              "color": "white"
             }
            },
            "header": {
             "fill": {
              "color": "#C8D4E3"
             },
             "line": {
              "color": "white"
             }
            },
            "type": "table"
           }
          ]
         },
         "layout": {
          "annotationdefaults": {
           "arrowcolor": "#2a3f5f",
           "arrowhead": 0,
           "arrowwidth": 1
          },
          "autotypenumbers": "strict",
          "coloraxis": {
           "colorbar": {
            "outlinewidth": 0,
            "ticks": ""
           }
          },
          "colorscale": {
           "diverging": [
            [
             0,
             "#8e0152"
            ],
            [
             0.1,
             "#c51b7d"
            ],
            [
             0.2,
             "#de77ae"
            ],
            [
             0.3,
             "#f1b6da"
            ],
            [
             0.4,
             "#fde0ef"
            ],
            [
             0.5,
             "#f7f7f7"
            ],
            [
             0.6,
             "#e6f5d0"
            ],
            [
             0.7,
             "#b8e186"
            ],
            [
             0.8,
             "#7fbc41"
            ],
            [
             0.9,
             "#4d9221"
            ],
            [
             1,
             "#276419"
            ]
           ],
           "sequential": [
            [
             0,
             "#0d0887"
            ],
            [
             0.1111111111111111,
             "#46039f"
            ],
            [
             0.2222222222222222,
             "#7201a8"
            ],
            [
             0.3333333333333333,
             "#9c179e"
            ],
            [
             0.4444444444444444,
             "#bd3786"
            ],
            [
             0.5555555555555556,
             "#d8576b"
            ],
            [
             0.6666666666666666,
             "#ed7953"
            ],
            [
             0.7777777777777778,
             "#fb9f3a"
            ],
            [
             0.8888888888888888,
             "#fdca26"
            ],
            [
             1,
             "#f0f921"
            ]
           ],
           "sequentialminus": [
            [
             0,
             "#0d0887"
            ],
            [
             0.1111111111111111,
             "#46039f"
            ],
            [
             0.2222222222222222,
             "#7201a8"
            ],
            [
             0.3333333333333333,
             "#9c179e"
            ],
            [
             0.4444444444444444,
             "#bd3786"
            ],
            [
             0.5555555555555556,
             "#d8576b"
            ],
            [
             0.6666666666666666,
             "#ed7953"
            ],
            [
             0.7777777777777778,
             "#fb9f3a"
            ],
            [
             0.8888888888888888,
             "#fdca26"
            ],
            [
             1,
             "#f0f921"
            ]
           ]
          },
          "colorway": [
           "#636efa",
           "#EF553B",
           "#00cc96",
           "#ab63fa",
           "#FFA15A",
           "#19d3f3",
           "#FF6692",
           "#B6E880",
           "#FF97FF",
           "#FECB52"
          ],
          "font": {
           "color": "#2a3f5f"
          },
          "geo": {
           "bgcolor": "white",
           "lakecolor": "white",
           "landcolor": "#E5ECF6",
           "showlakes": true,
           "showland": true,
           "subunitcolor": "white"
          },
          "hoverlabel": {
           "align": "left"
          },
          "hovermode": "closest",
          "mapbox": {
           "style": "light"
          },
          "paper_bgcolor": "white",
          "plot_bgcolor": "#E5ECF6",
          "polar": {
           "angularaxis": {
            "gridcolor": "white",
            "linecolor": "white",
            "ticks": ""
           },
           "bgcolor": "#E5ECF6",
           "radialaxis": {
            "gridcolor": "white",
            "linecolor": "white",
            "ticks": ""
           }
          },
          "scene": {
           "xaxis": {
            "backgroundcolor": "#E5ECF6",
            "gridcolor": "white",
            "gridwidth": 2,
            "linecolor": "white",
            "showbackground": true,
            "ticks": "",
            "zerolinecolor": "white"
           },
           "yaxis": {
            "backgroundcolor": "#E5ECF6",
            "gridcolor": "white",
            "gridwidth": 2,
            "linecolor": "white",
            "showbackground": true,
            "ticks": "",
            "zerolinecolor": "white"
           },
           "zaxis": {
            "backgroundcolor": "#E5ECF6",
            "gridcolor": "white",
            "gridwidth": 2,
            "linecolor": "white",
            "showbackground": true,
            "ticks": "",
            "zerolinecolor": "white"
           }
          },
          "shapedefaults": {
           "line": {
            "color": "#2a3f5f"
           }
          },
          "ternary": {
           "aaxis": {
            "gridcolor": "white",
            "linecolor": "white",
            "ticks": ""
           },
           "baxis": {
            "gridcolor": "white",
            "linecolor": "white",
            "ticks": ""
           },
           "bgcolor": "#E5ECF6",
           "caxis": {
            "gridcolor": "white",
            "linecolor": "white",
            "ticks": ""
           }
          },
          "title": {
           "x": 0.05
          },
          "xaxis": {
           "automargin": true,
           "gridcolor": "white",
           "linecolor": "white",
           "ticks": "",
           "title": {
            "standoff": 15
           },
           "zerolinecolor": "white",
           "zerolinewidth": 2
          },
          "yaxis": {
           "automargin": true,
           "gridcolor": "white",
           "linecolor": "white",
           "ticks": "",
           "title": {
            "standoff": 15
           },
           "zerolinecolor": "white",
           "zerolinewidth": 2
          }
         }
        },
        "xaxis": {
         "anchor": "y",
         "domain": [
          0,
          1
         ],
         "title": {
          "text": "Attendance"
         }
        },
        "yaxis": {
         "anchor": "x",
         "domain": [
          0,
          1
         ],
         "title": {
          "text": "count"
         }
        }
       }
      }
     },
     "metadata": {},
     "output_type": "display_data"
    }
   ],
   "source": [
    "px.histogram(matches ,x=\"Attendance\", nbins=100).show()"
   ]
  },
  {
   "cell_type": "code",
   "execution_count": 6,
   "metadata": {},
   "outputs": [
    {
     "data": {
      "application/vnd.plotly.v1+json": {
       "config": {
        "plotlyServerURL": "https://plot.ly"
       },
       "data": [
        {
         "alignmentgroup": "True",
         "hovertemplate": "tournament_id=%{x}<br>Attendance=%{y}<extra></extra>",
         "legendgroup": "",
         "marker": {
          "color": "#636efa"
         },
         "name": "",
         "notched": false,
         "offsetgroup": "",
         "orientation": "v",
         "showlegend": false,
         "type": "box",
         "x": [
          "WC-1930",
          "WC-1930",
          "WC-1930",
          "WC-1930",
          "WC-1930",
          "WC-1930",
          "WC-1930",
          "WC-1930",
          "WC-1930",
          "WC-1930",
          "WC-1930",
          "WC-1930",
          "WC-1930",
          "WC-1930",
          "WC-1930",
          "WC-1930",
          "WC-1930",
          "WC-1930",
          "WC-1934",
          "WC-1934",
          "WC-1934",
          "WC-1934",
          "WC-1934",
          "WC-1934",
          "WC-1934",
          "WC-1934",
          "WC-1934",
          "WC-1934",
          "WC-1934",
          "WC-1934",
          "WC-1990",
          "WC-1990",
          "WC-1990",
          "WC-1990",
          "WC-1934",
          "WC-1934",
          "WC-1990",
          "WC-1990",
          "WC-1990",
          "WC-1990",
          "WC-1934",
          "WC-1934",
          "WC-1934",
          "WC-1990",
          "WC-1990",
          "WC-1990",
          "WC-1990",
          "WC-1990",
          "WC-1990",
          "WC-1938",
          "WC-1938",
          "WC-1938",
          "WC-1998",
          "WC-1998",
          "WC-1998",
          "WC-1998",
          "WC-1998",
          "WC-1998",
          "WC-1938",
          "WC-1938",
          "WC-1938",
          "WC-1938",
          "WC-1938",
          "WC-1938",
          "WC-1938",
          "WC-1938",
          "WC-1998",
          "WC-1998",
          "WC-1998",
          "WC-1998",
          "WC-1998",
          "WC-1998",
          "WC-1998",
          "WC-1938",
          "WC-1938",
          "WC-1938",
          "WC-1938",
          "WC-1938",
          "WC-1998",
          "WC-1998",
          "WC-1998",
          "WC-1998",
          "WC-1998",
          "WC-1998",
          "WC-1938",
          "WC-1938",
          "WC-1950",
          "WC-1950",
          "WC-1950",
          "WC-1950",
          "WC-1950",
          "WC-1950",
          "WC-1950",
          "WC-1950",
          "WC-2014",
          "WC-2014",
          "WC-2014",
          "WC-2014",
          "WC-2014",
          "WC-2014",
          "WC-2014",
          "WC-1950",
          "WC-1950",
          "WC-1950",
          "WC-1950",
          "WC-1950",
          "WC-1950",
          "WC-1950",
          "WC-1950",
          "WC-1950",
          "WC-1950",
          "WC-1950",
          "WC-1950",
          "WC-1950",
          "WC-1950",
          "WC-1954",
          "WC-1954",
          "WC-1954",
          "WC-1954",
          "WC-1954",
          "WC-1954",
          "WC-1954",
          "WC-1954",
          "WC-1954",
          "WC-1954",
          "WC-1954",
          "WC-1954",
          "WC-1954",
          "WC-1954",
          "WC-1954",
          "WC-1954",
          "WC-1954",
          "WC-1954",
          "WC-1954",
          "WC-1954",
          "WC-1954",
          "WC-1954",
          "WC-1954",
          "WC-1954",
          "WC-1954",
          "WC-1954",
          "WC-1958",
          "WC-1958",
          "WC-1958",
          "WC-1958",
          "WC-1958",
          "WC-1958",
          "WC-1958",
          "WC-1958",
          "WC-1958",
          "WC-1958",
          "WC-1958",
          "WC-1958",
          "WC-1958",
          "WC-1958",
          "WC-1958",
          "WC-1958",
          "WC-1958",
          "WC-1958",
          "WC-1958",
          "WC-1958",
          "WC-1958",
          "WC-1958",
          "WC-1958",
          "WC-1958",
          "WC-1958",
          "WC-1958",
          "WC-1958",
          "WC-1958",
          "WC-1958",
          "WC-1958",
          "WC-1958",
          "WC-1958",
          "WC-1958",
          "WC-1958",
          "WC-1958",
          "WC-1962",
          "WC-1962",
          "WC-1962",
          "WC-1962",
          "WC-1962",
          "WC-1962",
          "WC-1962",
          "WC-1962",
          "WC-1962",
          "WC-1962",
          "WC-1962",
          "WC-1962",
          "WC-1962",
          "WC-1962",
          "WC-1962",
          "WC-1962",
          "WC-1962",
          "WC-1962",
          "WC-1962",
          "WC-1962",
          "WC-1962",
          "WC-1962",
          "WC-1962",
          "WC-1962",
          "WC-1962",
          "WC-1962",
          "WC-1962",
          "WC-1962",
          "WC-1962",
          "WC-1962",
          "WC-1962",
          "WC-1962",
          "WC-1966",
          "WC-1966",
          "WC-1966",
          "WC-1966",
          "WC-1966",
          "WC-1966",
          "WC-1966",
          "WC-1966",
          "WC-1966",
          "WC-1966",
          "WC-1966",
          "WC-1966",
          "WC-1966",
          "WC-1966",
          "WC-1966",
          "WC-1966",
          "WC-1966",
          "WC-1966",
          "WC-1966",
          "WC-1966",
          "WC-1966",
          "WC-1966",
          "WC-1966",
          "WC-1966",
          "WC-1966",
          "WC-1966",
          "WC-1966",
          "WC-1966",
          "WC-1966",
          "WC-1966",
          "WC-1966",
          "WC-1966",
          "WC-1970",
          "WC-1970",
          "WC-1970",
          "WC-1970",
          "WC-1970",
          "WC-1970",
          "WC-1970",
          "WC-1970",
          "WC-1970",
          "WC-1970",
          "WC-1986",
          "WC-1986",
          "WC-1986",
          "WC-1986",
          "WC-1986",
          "WC-1986",
          "WC-1986",
          "WC-1986",
          "WC-1986",
          "WC-1970",
          "WC-1970",
          "WC-1970",
          "WC-1986",
          "WC-1986",
          "WC-1986",
          "WC-1986",
          "WC-1986",
          "WC-1970",
          "WC-1970",
          "WC-1970",
          "WC-1970",
          "WC-1970",
          "WC-1970",
          "WC-1970",
          "WC-1970",
          "WC-1986",
          "WC-1986",
          "WC-1986",
          "WC-1986",
          "WC-1986",
          "WC-1986",
          "WC-1970",
          "WC-1970",
          "WC-1970",
          "WC-1970",
          "WC-1970",
          "WC-1970",
          "WC-1970",
          "WC-1986",
          "WC-1986",
          "WC-1986",
          "WC-1986",
          "WC-1970",
          "WC-1970",
          "WC-1970",
          "WC-1970",
          "WC-1986",
          "WC-1986",
          "WC-1986",
          "WC-1974",
          "WC-1974",
          "WC-1974",
          "WC-1974",
          "WC-1974",
          "WC-2006",
          "WC-2006",
          "WC-2006",
          "WC-2006",
          "WC-2006",
          "WC-1974",
          "WC-1974",
          "WC-1974",
          "WC-2006",
          "WC-2006",
          "WC-2006",
          "WC-2006",
          "WC-2006",
          "WC-2006",
          "WC-1974",
          "WC-1974",
          "WC-1974",
          "WC-2006",
          "WC-2006",
          "WC-2006",
          "WC-2006",
          "WC-2006",
          "WC-1974",
          "WC-1974",
          "WC-1974",
          "WC-1974",
          "WC-2006",
          "WC-2006",
          "WC-2006",
          "WC-2006",
          "WC-2006",
          "WC-2006",
          "WC-1974",
          "WC-1974",
          "WC-1974",
          "WC-1974",
          "WC-1974",
          "WC-1974",
          "WC-1974",
          "WC-1974",
          "WC-1974",
          "WC-2006",
          "WC-2006",
          "WC-2006",
          "WC-2006",
          "WC-2006",
          "WC-1974",
          "WC-1974",
          "WC-1974",
          "WC-1974",
          "WC-1974",
          "WC-1974",
          "WC-1974",
          "WC-1974",
          "WC-1974",
          "WC-2006",
          "WC-2006",
          "WC-2006",
          "WC-2006",
          "WC-2006",
          "WC-2006",
          "WC-1974",
          "WC-1974",
          "WC-1974",
          "WC-1974",
          "WC-1974",
          "WC-1978",
          "WC-1978",
          "WC-1978",
          "WC-1978",
          "WC-1978",
          "WC-1978",
          "WC-1978",
          "WC-1978",
          "WC-1978",
          "WC-1978",
          "WC-1978",
          "WC-1978",
          "WC-1978",
          "WC-1978",
          "WC-1978",
          "WC-1978",
          "WC-1978",
          "WC-1978",
          "WC-1978",
          "WC-1978",
          "WC-1978",
          "WC-1978",
          "WC-1978",
          "WC-1978",
          "WC-1978",
          "WC-1978",
          "WC-1978",
          "WC-1978",
          "WC-1978",
          "WC-1978",
          "WC-1978",
          "WC-1978",
          "WC-1978",
          "WC-1978",
          "WC-1978",
          "WC-1978",
          "WC-1978",
          "WC-1978",
          "WC-1982",
          "WC-1982",
          "WC-1982",
          "WC-1982",
          "WC-1982",
          "WC-1982",
          "WC-1982",
          "WC-1982",
          "WC-1982",
          "WC-1982",
          "WC-1982",
          "WC-1982",
          "WC-1982",
          "WC-1982",
          "WC-1982",
          "WC-1982",
          "WC-1982",
          "WC-1982",
          "WC-1982",
          "WC-1982",
          "WC-1982",
          "WC-1982",
          "WC-1982",
          "WC-1982",
          "WC-1982",
          "WC-1982",
          "WC-1982",
          "WC-1982",
          "WC-1982",
          "WC-1982",
          "WC-1982",
          "WC-1982",
          "WC-1982",
          "WC-1982",
          "WC-1982",
          "WC-1982",
          "WC-1982",
          "WC-1982",
          "WC-1982",
          "WC-1982",
          "WC-1982",
          "WC-1982",
          "WC-1982",
          "WC-1982",
          "WC-1982",
          "WC-1982",
          "WC-1982",
          "WC-1982",
          "WC-1982",
          "WC-1982",
          "WC-1982",
          "WC-1982",
          "WC-1986",
          "WC-1986",
          "WC-1986",
          "WC-1986",
          "WC-1986",
          "WC-1986",
          "WC-1986",
          "WC-1986",
          "WC-1986",
          "WC-1986",
          "WC-1986",
          "WC-1986",
          "WC-1986",
          "WC-1986",
          "WC-1986",
          "WC-1986",
          "WC-1986",
          "WC-1986",
          "WC-1986",
          "WC-1986",
          "WC-1986",
          "WC-1986",
          "WC-1986",
          "WC-1986",
          "WC-1986",
          "WC-1990",
          "WC-1990",
          "WC-1990",
          "WC-1990",
          "WC-1990",
          "WC-1990",
          "WC-1990",
          "WC-1990",
          "WC-1990",
          "WC-1990",
          "WC-1990",
          "WC-1990",
          "WC-1990",
          "WC-1990",
          "WC-1990",
          "WC-1990",
          "WC-1990",
          "WC-1990",
          "WC-1990",
          "WC-1990",
          "WC-1990",
          "WC-1990",
          "WC-1990",
          "WC-1990",
          "WC-1990",
          "WC-1990",
          "WC-1990",
          "WC-1990",
          "WC-1990",
          "WC-1990",
          "WC-1990",
          "WC-1990",
          "WC-1990",
          "WC-1990",
          "WC-1990",
          "WC-1990",
          "WC-1990",
          "WC-1990",
          "WC-1994",
          "WC-1994",
          "WC-1994",
          "WC-1994",
          "WC-1994",
          "WC-1994",
          "WC-1994",
          "WC-1994",
          "WC-1994",
          "WC-1994",
          "WC-1994",
          "WC-1994",
          "WC-1994",
          "WC-1994",
          "WC-1994",
          "WC-1994",
          "WC-1994",
          "WC-1994",
          "WC-1994",
          "WC-1994",
          "WC-1994",
          "WC-1994",
          "WC-1994",
          "WC-1994",
          "WC-1994",
          "WC-1994",
          "WC-1994",
          "WC-1994",
          "WC-1994",
          "WC-1994",
          "WC-1994",
          "WC-1994",
          "WC-1994",
          "WC-1994",
          "WC-1994",
          "WC-1994",
          "WC-1994",
          "WC-1994",
          "WC-1994",
          "WC-1994",
          "WC-1994",
          "WC-1994",
          "WC-1994",
          "WC-1994",
          "WC-1994",
          "WC-1994",
          "WC-1994",
          "WC-1994",
          "WC-1994",
          "WC-1994",
          "WC-1994",
          "WC-1994",
          "WC-1998",
          "WC-1998",
          "WC-1998",
          "WC-1998",
          "WC-1998",
          "WC-1998",
          "WC-1998",
          "WC-1998",
          "WC-1998",
          "WC-1998",
          "WC-1998",
          "WC-1998",
          "WC-1998",
          "WC-1998",
          "WC-1998",
          "WC-1998",
          "WC-1998",
          "WC-1998",
          "WC-1998",
          "WC-1998",
          "WC-1998",
          "WC-1998",
          "WC-1998",
          "WC-1998",
          "WC-1998",
          "WC-1998",
          "WC-1998",
          "WC-1998",
          "WC-1998",
          "WC-1998",
          "WC-1998",
          "WC-1998",
          "WC-1998",
          "WC-1998",
          "WC-1998",
          "WC-1998",
          "WC-1998",
          "WC-1998",
          "WC-1998",
          "WC-1998",
          "WC-1998",
          "WC-1998",
          "WC-1998",
          "WC-1998",
          "WC-1998",
          "WC-2002",
          "WC-2002",
          "WC-2002",
          "WC-2002",
          "WC-2002",
          "WC-2002",
          "WC-2002",
          "WC-2002",
          "WC-2002",
          "WC-2002",
          "WC-2002",
          "WC-2002",
          "WC-2002",
          "WC-2002",
          "WC-2002",
          "WC-2002",
          "WC-2002",
          "WC-2002",
          "WC-2002",
          "WC-2002",
          "WC-2002",
          "WC-2002",
          "WC-2002",
          "WC-2002",
          "WC-2002",
          "WC-2002",
          "WC-2002",
          "WC-2002",
          "WC-2002",
          "WC-2002",
          "WC-2002",
          "WC-2002",
          "WC-2002",
          "WC-2002",
          "WC-2002",
          "WC-2002",
          "WC-2002",
          "WC-2002",
          "WC-2002",
          "WC-2002",
          "WC-2002",
          "WC-2002",
          "WC-2002",
          "WC-2002",
          "WC-2002",
          "WC-2002",
          "WC-2002",
          "WC-2002",
          "WC-2002",
          "WC-2002",
          "WC-2002",
          "WC-2002",
          "WC-2002",
          "WC-2002",
          "WC-2002",
          "WC-2002",
          "WC-2002",
          "WC-2002",
          "WC-2002",
          "WC-2002",
          "WC-2002",
          "WC-2002",
          "WC-2002",
          "WC-2002",
          "WC-2006",
          "WC-2006",
          "WC-2006",
          "WC-2006",
          "WC-2006",
          "WC-2006",
          "WC-2006",
          "WC-2006",
          "WC-2006",
          "WC-2006",
          "WC-2006",
          "WC-2006",
          "WC-2006",
          "WC-2006",
          "WC-2006",
          "WC-2006",
          "WC-2006",
          "WC-2006",
          "WC-2006",
          "WC-2006",
          "WC-2006",
          "WC-2006",
          "WC-2006",
          "WC-2006",
          "WC-2006",
          "WC-2006",
          "WC-2006",
          "WC-2006",
          "WC-2006",
          "WC-2006",
          "WC-2006",
          "WC-2010",
          "WC-2010",
          "WC-2010",
          "WC-2010",
          "WC-2010",
          "WC-2010",
          "WC-2010",
          "WC-2010",
          "WC-2010",
          "WC-2010",
          "WC-2010",
          "WC-2010",
          "WC-2010",
          "WC-2010",
          "WC-2010",
          "WC-2010",
          "WC-2010",
          "WC-2010",
          "WC-2010",
          "WC-2010",
          "WC-2010",
          "WC-2010",
          "WC-2010",
          "WC-2010",
          "WC-2010",
          "WC-2010",
          "WC-2010",
          "WC-2010",
          "WC-2010",
          "WC-2010",
          "WC-2010",
          "WC-2010",
          "WC-2010",
          "WC-2010",
          "WC-2010",
          "WC-2010",
          "WC-2010",
          "WC-2010",
          "WC-2010",
          "WC-2010",
          "WC-2010",
          "WC-2010",
          "WC-2010",
          "WC-2010",
          "WC-2010",
          "WC-2010",
          "WC-2010",
          "WC-2010",
          "WC-2010",
          "WC-2010",
          "WC-2010",
          "WC-2010",
          "WC-2010",
          "WC-2010",
          "WC-2010",
          "WC-2010",
          "WC-2010",
          "WC-2010",
          "WC-2010",
          "WC-2010",
          "WC-2010",
          "WC-2010",
          "WC-2010",
          "WC-2010",
          "WC-2014",
          "WC-2014",
          "WC-2014",
          "WC-2014",
          "WC-2014",
          "WC-2014",
          "WC-2014",
          "WC-2014",
          "WC-2014",
          "WC-2014",
          "WC-2014",
          "WC-2014",
          "WC-2014",
          "WC-2014",
          "WC-2014",
          "WC-2014",
          "WC-2014",
          "WC-2014",
          "WC-2014",
          "WC-2014",
          "WC-2014",
          "WC-2014",
          "WC-2014",
          "WC-2014",
          "WC-2014",
          "WC-2014",
          "WC-2014",
          "WC-2014",
          "WC-2014",
          "WC-2014",
          "WC-2014",
          "WC-2014",
          "WC-2014",
          "WC-2014",
          "WC-2014",
          "WC-2014",
          "WC-2014",
          "WC-2014",
          "WC-2014",
          "WC-2014",
          "WC-2014",
          "WC-2014",
          "WC-2014",
          "WC-2014",
          "WC-2014",
          "WC-2014",
          "WC-2014",
          "WC-2014",
          "WC-2014",
          "WC-2014",
          "WC-2014",
          "WC-2014",
          "WC-2014",
          "WC-2014",
          "WC-2014",
          "WC-2014",
          "WC-2014",
          "WC-2018",
          "WC-2018",
          "WC-2018",
          "WC-2018",
          "WC-2018",
          "WC-2018",
          "WC-2018",
          "WC-2018",
          "WC-2018",
          "WC-2018",
          "WC-2018",
          "WC-2018",
          "WC-2018",
          "WC-2018",
          "WC-2018",
          "WC-2018",
          "WC-2018",
          "WC-2018",
          "WC-2018",
          "WC-2018",
          "WC-2018",
          "WC-2018",
          "WC-2018",
          "WC-2018",
          "WC-2018",
          "WC-2018",
          "WC-2018",
          "WC-2018",
          "WC-2018",
          "WC-2018",
          "WC-2018",
          "WC-2018",
          "WC-2018",
          "WC-2018",
          "WC-2018",
          "WC-2018",
          "WC-2018",
          "WC-2018",
          "WC-2018",
          "WC-2018",
          "WC-2018",
          "WC-2018",
          "WC-2018",
          "WC-2018",
          "WC-2018",
          "WC-2018",
          "WC-2018",
          "WC-2018",
          "WC-2018",
          "WC-2018",
          "WC-2018",
          "WC-2018",
          "WC-2018",
          "WC-2018",
          "WC-2018",
          "WC-2018",
          "WC-2018",
          "WC-2018",
          "WC-2018",
          "WC-2018",
          "WC-2018",
          "WC-2018",
          "WC-2018",
          "WC-2018",
          "WC-2022",
          "WC-2022",
          "WC-2022",
          "WC-2022",
          "WC-2022",
          "WC-2022",
          "WC-2022",
          "WC-2022",
          "WC-2022",
          "WC-2022",
          "WC-2022",
          "WC-2022",
          "WC-2022",
          "WC-2022",
          "WC-2022",
          "WC-2022",
          "WC-2022",
          "WC-2022",
          "WC-2022",
          "WC-2022",
          "WC-2022",
          "WC-2022",
          "WC-2022",
          "WC-2022",
          "WC-2022",
          "WC-2022",
          "WC-2022",
          "WC-2022",
          "WC-2022",
          "WC-2022",
          "WC-2022",
          "WC-2022",
          "WC-2022",
          "WC-2022",
          "WC-2022",
          "WC-2022",
          "WC-2022",
          "WC-2022",
          "WC-2022",
          "WC-2022",
          "WC-2022",
          "WC-2022",
          "WC-2022",
          "WC-2022",
          "WC-2022",
          "WC-2022",
          "WC-2022",
          "WC-2022",
          "WC-2022",
          "WC-2022",
          "WC-2022",
          "WC-2022",
          "WC-2022",
          "WC-2022",
          "WC-2022",
          "WC-2022",
          "WC-2022",
          "WC-2022",
          "WC-2022",
          "WC-2022",
          "WC-2022",
          "WC-2022",
          "WC-2022",
          "WC-2022"
         ],
         "x0": " ",
         "xaxis": "x",
         "y": [
          4444,
          2549,
          18346,
          24059,
          23409,
          9249,
          18306,
          18306,
          57735,
          2000,
          42100,
          25466,
          12000,
          70022,
          41459,
          72886,
          79867,
          68346,
          16000,
          12000,
          9000,
          8000,
          35000,
          43000,
          9000,
          7000,
          25000,
          15000,
          55000,
          21000,
          30867,
          31823,
          30223,
          31818,
          14000,
          23000,
          30791,
          32257,
          27833,
          34520,
          33000,
          3000,
          35000,
          73780,
          74765,
          71169,
          72510,
          74559,
          73347,
          27152,
          20025,
          20000,
          49000,
          48000,
          45500,
          45500,
          45500,
          44000,
          7000,
          8000,
          30454,
          58455,
          45000,
          9000,
          19000,
          33000,
          55000,
          54587,
          55000,
          57000,
          55000,
          60000,
          60000,
          13452,
          11000,
          22021,
          18141,
          12000,
          35200,
          31800,
          31800,
          31800,
          31800,
          31800,
          15000,
          7000,
          81649,
          29703,
          19790,
          142429,
          74462,
          138886,
          152772,
          173850,
          74738,
          74101,
          73819,
          73749,
          73804,
          74240,
          74738,
          7336,
          10151,
          5284,
          9511,
          7903,
          36502,
          42032,
          25811,
          44802,
          7987,
          11227,
          11078,
          3580,
          8501,
          13470,
          19000,
          4000,
          17000,
          16000,
          43000,
          24637,
          35000,
          45000,
          25000,
          13000,
          26000,
          17000,
          32000,
          20500,
          28000,
          43500,
          40000,
          62500,
          14000,
          34000,
          56000,
          30000,
          28000,
          58000,
          24000,
          34107,
          15150,
          38850,
          30287,
          2823,
          31900,
          27100,
          49737,
          31156,
          21990,
          6196,
          20055,
          10647,
          14174,
          16518,
          11665,
          11800,
          9591,
          12217,
          15343,
          13300,
          17788,
          49348,
          40895,
          50928,
          23182,
          25923,
          49471,
          32483,
          25000,
          16418,
          21239,
          15872,
          13554,
          13103,
          7908,
          9622,
          8829,
          8040,
          9973,
          7167,
          17268,
          65006,
          65440,
          66057,
          64922,
          67224,
          59828,
          63324,
          76594,
          66697,
          68679,
          10484,
          12700,
          14903,
          11875,
          18715,
          10648,
          17736,
          5890,
          7134,
          7938,
          9794,
          7442,
          7945,
          5700,
          11690,
          87148,
          69237,
          92570,
          61112,
          98270,
          90584,
          94493,
          87696,
          96924,
          36127,
          32028,
          32127,
          40007,
          47308,
          51387,
          58479,
          40248,
          38273,
          23006,
          13792,
          17829,
          42738,
          46587,
          42187,
          29886,
          25438,
          24129,
          27199,
          27793,
          16027,
          26844,
          45662,
          107160,
          92205,
          95261,
          103058,
          89979,
          108192,
          26085,
          102444,
          104403,
          107412,
          96000,
          110000,
          114600,
          103763,
          114580,
          98728,
          114580,
          114500,
          114600,
          20654,
          29968,
          18163,
          32000,
          20000,
          26000,
          45000,
          21000,
          50560,
          52897,
          56818,
          66843,
          50804,
          49292,
          54233,
          51261,
          35748,
          48000,
          51000,
          45000,
          65000,
          45000,
          13765,
          12942,
          13537,
          12710,
          17875,
          12299,
          23357,
          65500,
          36540,
          31420,
          32277,
          13433,
          9624,
          9890,
          26851,
          24000,
          20000,
          16000,
          62000,
          62000,
          56000,
          58000,
          62000,
          48000,
          48000,
          48000,
          48000,
          48000,
          81100,
          28300,
          17400,
          72000,
          72000,
          72000,
          72000,
          72000,
          69000,
          17000,
          53300,
          60200,
          49480,
          50000,
          50000,
          50000,
          50000,
          27000,
          53700,
          53300,
          53700,
          62959,
          65000,
          65000,
          65000,
          65000,
          65000,
          23800,
          28300,
          67385,
          67800,
          41300,
          55100,
          13400,
          59863,
          39400,
          43000,
          43000,
          43000,
          43000,
          43000,
          53000,
          25300,
          25900,
          77100,
          78200,
          32700,
          70100,
          70100,
          44955,
          52000,
          52000,
          52000,
          52000,
          52000,
          52000,
          31700,
          36200,
          56548,
          68348,
          54254,
          67579,
          71615,
          71666,
          71712,
          67547,
          66695,
          67433,
          69659,
          71483,
          42373,
          32569,
          26533,
          34771,
          23127,
          35221,
          17396,
          9624,
          22651,
          37091,
          37326,
          37315,
          40841,
          41424,
          42132,
          33431,
          28125,
          35130,
          31278,
          35288,
          39586,
          37927,
          35258,
          7938,
          30667,
          21262,
          25050,
          40750,
          38318,
          95000,
          65000,
          45000,
          65000,
          50000,
          33000,
          25000,
          20000,
          68000,
          70000,
          11000,
          19000,
          25000,
          23000,
          15000,
          37000,
          36000,
          19000,
          45000,
          42000,
          42000,
          41000,
          44172,
          41123,
          39700,
          49562,
          48000,
          49562,
          22500,
          22000,
          16000,
          25000,
          30043,
          28000,
          25000,
          15000,
          25000,
          32093,
          32500,
          28000,
          47379,
          43000,
          37000,
          20000,
          37000,
          43000,
          44000,
          44000,
          75000,
          90089,
          75000,
          90000,
          60000,
          45000,
          65000,
          70000,
          16500,
          13800,
          14200,
          19900,
          19915,
          22700,
          19800,
          41700,
          22000,
          28000,
          28000,
          23000,
          20200,
          23980,
          30500,
          30000,
          36000,
          38500,
          18000,
          26500,
          20000,
          42907,
          38687,
          37307,
          47673,
          51426,
          73303,
          73423,
          73303,
          73303,
          73303,
          73603,
          33266,
          38962,
          34857,
          38971,
          62628,
          58007,
          62502,
          61381,
          62628,
          35238,
          35267,
          34959,
          32790,
          33759,
          35950,
          35500,
          33288,
          33288,
          33288,
          35713,
          32733,
          29039,
          55759,
          52733,
          50026,
          55205,
          59978,
          63117,
          63113,
          63160,
          63089,
          60246,
          56247,
          44132,
          63998,
          63998,
          60277,
          63500,
          73425,
          61428,
          71528,
          77217,
          75338,
          74624,
          76322,
          72404,
          71030,
          72000,
          74110,
          91856,
          93194,
          93869,
          93869,
          90469,
          91856,
          91500,
          94194,
          61219,
          60790,
          62387,
          60578,
          61355,
          52395,
          50535,
          52535,
          52959,
          53121,
          81061,
          83401,
          83401,
          74914,
          84147,
          83500,
          54456,
          54453,
          54453,
          53001,
          54367,
          53400,
          80000,
          77000,
          80000,
          80000,
          80000,
          77000,
          80000,
          80000,
          80000,
          29750,
          27650,
          35500,
          35500,
          35500,
          29800,
          36500,
          33500,
          33500,
          33140,
          33400,
          33000,
          38100,
          38100,
          41275,
          41275,
          42000,
          31800,
          38000,
          38500,
          35500,
          39500,
          38500,
          49500,
          39100,
          43300,
          43300,
          39100,
          39100,
          43300,
          36000,
          36000,
          36000,
          36000,
          30600,
          30600,
          62561,
          43605,
          65625,
          33679,
          32239,
          40582,
          30157,
          33842,
          37337,
          32218,
          31081,
          35927,
          34050,
          35854,
          36472,
          25186,
          48760,
          38070,
          52721,
          55256,
          52328,
          61058,
          28588,
          27217,
          42114,
          30957,
          36194,
          40440,
          37306,
          33681,
          38524,
          38926,
          43500,
          47226,
          60778,
          63483,
          24000,
          31000,
          36380,
          36750,
          30176,
          25176,
          45610,
          45777,
          45666,
          42299,
          48100,
          50239,
          66108,
          65320,
          65862,
          69029,
          39700,
          39291,
          39747,
          47085,
          46640,
          47436,
          44864,
          45213,
          44233,
          31024,
          26482,
          38588,
          64950,
          66000,
          66000,
          66000,
          66000,
          66000,
          52000,
          52000,
          52000,
          52000,
          52000,
          37216,
          43000,
          43000,
          38000,
          43000,
          41000,
          41000,
          41000,
          41000,
          41000,
          45000,
          45000,
          45000,
          45000,
          45000,
          46000,
          46000,
          46000,
          46000,
          46000,
          84490,
          83465,
          82174,
          84455,
          83391,
          84377,
          84017,
          84490,
          64100,
          62869,
          64100,
          63644,
          63093,
          62955,
          64100,
          62479,
          31513,
          37034,
          38294,
          34872,
          36893,
          30597,
          40186,
          36254,
          55686,
          54331,
          45573,
          54386,
          53412,
          54096,
          55359,
          38646,
          23871,
          34812,
          33425,
          27967,
          34976,
          30325,
          35370,
          38891,
          34850,
          38833,
          42658,
          38074,
          35827,
          41958,
          36742,
          62660,
          62453,
          62010,
          61874,
          62712,
          61962,
          60960,
          30620,
          31593,
          26643,
          39415,
          28042,
          40510,
          32664,
          38229,
          37836,
          34763,
          62103,
          62575,
          62996,
          61397,
          63255,
          63267,
          39216,
          39760,
          39485,
          39706,
          48173,
          51081,
          51003,
          48011,
          51227,
          51179,
          40275,
          37603,
          40499,
          40340,
          57174,
          56800,
          57698,
          57823,
          57714,
          58141,
          58679,
          60342,
          59621,
          59095,
          58817,
          60342,
          39800,
          39982,
          40123,
          40322,
          40267,
          40285,
          41212,
          41876,
          41242,
          68351,
          68748,
          69112,
          67540,
          67882,
          68551,
          68034,
          43012,
          42877,
          42732,
          43285,
          43063,
          39081,
          39224,
          39375,
          39311,
          78011,
          78011,
          78011,
          78011,
          78011,
          78011,
          78011,
          27015,
          32789,
          32572,
          33061,
          62548,
          64468,
          64468,
          64468,
          64042,
          64286,
          64406,
          43866,
          43257,
          44287,
          44073,
          44287,
          44287,
          41279,
          42718,
          42873,
          41835,
          42873,
          42873,
          44190,
          44190,
          44190,
          44190,
          44190,
          40502,
          40842,
          41685,
          37168,
          31136,
          33167,
          33973,
          33973,
          41432,
          40727,
          41970,
          41970,
          41970,
          39991,
          43109,
          42678,
          43472,
          43472,
          41466,
          42300,
          43319,
          43319,
          43319,
          40851,
          43319,
          41064,
          40904,
          36823,
          42189,
          67372,
          59407,
          68463,
          68895,
          66784,
          67054,
          65985,
          68895,
          68294,
          45334,
          42608,
          44833,
          44374,
          44569,
          44851,
          44846,
          44137,
          41721,
          40013,
          41797,
          43738,
          42127,
          43102,
          40989,
          44198,
          43418,
          40432,
          40875,
          41479,
          44297,
          43984,
          45032,
          88012,
          88103,
          88966,
          88668,
          84985,
          85986,
          83720,
          88235,
          88966,
          88966,
          42925,
          41663,
          44259,
          43983,
          43627,
          44097,
          44667,
          43893,
          39369,
          42662,
          42860,
          43649,
          44089,
          41378,
          43847,
          40875,
          39089,
          41823,
          39789,
          41232,
          43443,
          42523
         ],
         "y0": " ",
         "yaxis": "y"
        }
       ],
       "layout": {
        "boxmode": "group",
        "legend": {
         "tracegroupgap": 0
        },
        "template": {
         "data": {
          "bar": [
           {
            "error_x": {
             "color": "#2a3f5f"
            },
            "error_y": {
             "color": "#2a3f5f"
            },
            "marker": {
             "line": {
              "color": "#E5ECF6",
              "width": 0.5
             },
             "pattern": {
              "fillmode": "overlay",
              "size": 10,
              "solidity": 0.2
             }
            },
            "type": "bar"
           }
          ],
          "barpolar": [
           {
            "marker": {
             "line": {
              "color": "#E5ECF6",
              "width": 0.5
             },
             "pattern": {
              "fillmode": "overlay",
              "size": 10,
              "solidity": 0.2
             }
            },
            "type": "barpolar"
           }
          ],
          "carpet": [
           {
            "aaxis": {
             "endlinecolor": "#2a3f5f",
             "gridcolor": "white",
             "linecolor": "white",
             "minorgridcolor": "white",
             "startlinecolor": "#2a3f5f"
            },
            "baxis": {
             "endlinecolor": "#2a3f5f",
             "gridcolor": "white",
             "linecolor": "white",
             "minorgridcolor": "white",
             "startlinecolor": "#2a3f5f"
            },
            "type": "carpet"
           }
          ],
          "choropleth": [
           {
            "colorbar": {
             "outlinewidth": 0,
             "ticks": ""
            },
            "type": "choropleth"
           }
          ],
          "contour": [
           {
            "colorbar": {
             "outlinewidth": 0,
             "ticks": ""
            },
            "colorscale": [
             [
              0,
              "#0d0887"
             ],
             [
              0.1111111111111111,
              "#46039f"
             ],
             [
              0.2222222222222222,
              "#7201a8"
             ],
             [
              0.3333333333333333,
              "#9c179e"
             ],
             [
              0.4444444444444444,
              "#bd3786"
             ],
             [
              0.5555555555555556,
              "#d8576b"
             ],
             [
              0.6666666666666666,
              "#ed7953"
             ],
             [
              0.7777777777777778,
              "#fb9f3a"
             ],
             [
              0.8888888888888888,
              "#fdca26"
             ],
             [
              1,
              "#f0f921"
             ]
            ],
            "type": "contour"
           }
          ],
          "contourcarpet": [
           {
            "colorbar": {
             "outlinewidth": 0,
             "ticks": ""
            },
            "type": "contourcarpet"
           }
          ],
          "heatmap": [
           {
            "colorbar": {
             "outlinewidth": 0,
             "ticks": ""
            },
            "colorscale": [
             [
              0,
              "#0d0887"
             ],
             [
              0.1111111111111111,
              "#46039f"
             ],
             [
              0.2222222222222222,
              "#7201a8"
             ],
             [
              0.3333333333333333,
              "#9c179e"
             ],
             [
              0.4444444444444444,
              "#bd3786"
             ],
             [
              0.5555555555555556,
              "#d8576b"
             ],
             [
              0.6666666666666666,
              "#ed7953"
             ],
             [
              0.7777777777777778,
              "#fb9f3a"
             ],
             [
              0.8888888888888888,
              "#fdca26"
             ],
             [
              1,
              "#f0f921"
             ]
            ],
            "type": "heatmap"
           }
          ],
          "heatmapgl": [
           {
            "colorbar": {
             "outlinewidth": 0,
             "ticks": ""
            },
            "colorscale": [
             [
              0,
              "#0d0887"
             ],
             [
              0.1111111111111111,
              "#46039f"
             ],
             [
              0.2222222222222222,
              "#7201a8"
             ],
             [
              0.3333333333333333,
              "#9c179e"
             ],
             [
              0.4444444444444444,
              "#bd3786"
             ],
             [
              0.5555555555555556,
              "#d8576b"
             ],
             [
              0.6666666666666666,
              "#ed7953"
             ],
             [
              0.7777777777777778,
              "#fb9f3a"
             ],
             [
              0.8888888888888888,
              "#fdca26"
             ],
             [
              1,
              "#f0f921"
             ]
            ],
            "type": "heatmapgl"
           }
          ],
          "histogram": [
           {
            "marker": {
             "pattern": {
              "fillmode": "overlay",
              "size": 10,
              "solidity": 0.2
             }
            },
            "type": "histogram"
           }
          ],
          "histogram2d": [
           {
            "colorbar": {
             "outlinewidth": 0,
             "ticks": ""
            },
            "colorscale": [
             [
              0,
              "#0d0887"
             ],
             [
              0.1111111111111111,
              "#46039f"
             ],
             [
              0.2222222222222222,
              "#7201a8"
             ],
             [
              0.3333333333333333,
              "#9c179e"
             ],
             [
              0.4444444444444444,
              "#bd3786"
             ],
             [
              0.5555555555555556,
              "#d8576b"
             ],
             [
              0.6666666666666666,
              "#ed7953"
             ],
             [
              0.7777777777777778,
              "#fb9f3a"
             ],
             [
              0.8888888888888888,
              "#fdca26"
             ],
             [
              1,
              "#f0f921"
             ]
            ],
            "type": "histogram2d"
           }
          ],
          "histogram2dcontour": [
           {
            "colorbar": {
             "outlinewidth": 0,
             "ticks": ""
            },
            "colorscale": [
             [
              0,
              "#0d0887"
             ],
             [
              0.1111111111111111,
              "#46039f"
             ],
             [
              0.2222222222222222,
              "#7201a8"
             ],
             [
              0.3333333333333333,
              "#9c179e"
             ],
             [
              0.4444444444444444,
              "#bd3786"
             ],
             [
              0.5555555555555556,
              "#d8576b"
             ],
             [
              0.6666666666666666,
              "#ed7953"
             ],
             [
              0.7777777777777778,
              "#fb9f3a"
             ],
             [
              0.8888888888888888,
              "#fdca26"
             ],
             [
              1,
              "#f0f921"
             ]
            ],
            "type": "histogram2dcontour"
           }
          ],
          "mesh3d": [
           {
            "colorbar": {
             "outlinewidth": 0,
             "ticks": ""
            },
            "type": "mesh3d"
           }
          ],
          "parcoords": [
           {
            "line": {
             "colorbar": {
              "outlinewidth": 0,
              "ticks": ""
             }
            },
            "type": "parcoords"
           }
          ],
          "pie": [
           {
            "automargin": true,
            "type": "pie"
           }
          ],
          "scatter": [
           {
            "fillpattern": {
             "fillmode": "overlay",
             "size": 10,
             "solidity": 0.2
            },
            "type": "scatter"
           }
          ],
          "scatter3d": [
           {
            "line": {
             "colorbar": {
              "outlinewidth": 0,
              "ticks": ""
             }
            },
            "marker": {
             "colorbar": {
              "outlinewidth": 0,
              "ticks": ""
             }
            },
            "type": "scatter3d"
           }
          ],
          "scattercarpet": [
           {
            "marker": {
             "colorbar": {
              "outlinewidth": 0,
              "ticks": ""
             }
            },
            "type": "scattercarpet"
           }
          ],
          "scattergeo": [
           {
            "marker": {
             "colorbar": {
              "outlinewidth": 0,
              "ticks": ""
             }
            },
            "type": "scattergeo"
           }
          ],
          "scattergl": [
           {
            "marker": {
             "colorbar": {
              "outlinewidth": 0,
              "ticks": ""
             }
            },
            "type": "scattergl"
           }
          ],
          "scattermapbox": [
           {
            "marker": {
             "colorbar": {
              "outlinewidth": 0,
              "ticks": ""
             }
            },
            "type": "scattermapbox"
           }
          ],
          "scatterpolar": [
           {
            "marker": {
             "colorbar": {
              "outlinewidth": 0,
              "ticks": ""
             }
            },
            "type": "scatterpolar"
           }
          ],
          "scatterpolargl": [
           {
            "marker": {
             "colorbar": {
              "outlinewidth": 0,
              "ticks": ""
             }
            },
            "type": "scatterpolargl"
           }
          ],
          "scatterternary": [
           {
            "marker": {
             "colorbar": {
              "outlinewidth": 0,
              "ticks": ""
             }
            },
            "type": "scatterternary"
           }
          ],
          "surface": [
           {
            "colorbar": {
             "outlinewidth": 0,
             "ticks": ""
            },
            "colorscale": [
             [
              0,
              "#0d0887"
             ],
             [
              0.1111111111111111,
              "#46039f"
             ],
             [
              0.2222222222222222,
              "#7201a8"
             ],
             [
              0.3333333333333333,
              "#9c179e"
             ],
             [
              0.4444444444444444,
              "#bd3786"
             ],
             [
              0.5555555555555556,
              "#d8576b"
             ],
             [
              0.6666666666666666,
              "#ed7953"
             ],
             [
              0.7777777777777778,
              "#fb9f3a"
             ],
             [
              0.8888888888888888,
              "#fdca26"
             ],
             [
              1,
              "#f0f921"
             ]
            ],
            "type": "surface"
           }
          ],
          "table": [
           {
            "cells": {
             "fill": {
              "color": "#EBF0F8"
             },
             "line": {
              "color": "white"
             }
            },
            "header": {
             "fill": {
              "color": "#C8D4E3"
             },
             "line": {
              "color": "white"
             }
            },
            "type": "table"
           }
          ]
         },
         "layout": {
          "annotationdefaults": {
           "arrowcolor": "#2a3f5f",
           "arrowhead": 0,
           "arrowwidth": 1
          },
          "autotypenumbers": "strict",
          "coloraxis": {
           "colorbar": {
            "outlinewidth": 0,
            "ticks": ""
           }
          },
          "colorscale": {
           "diverging": [
            [
             0,
             "#8e0152"
            ],
            [
             0.1,
             "#c51b7d"
            ],
            [
             0.2,
             "#de77ae"
            ],
            [
             0.3,
             "#f1b6da"
            ],
            [
             0.4,
             "#fde0ef"
            ],
            [
             0.5,
             "#f7f7f7"
            ],
            [
             0.6,
             "#e6f5d0"
            ],
            [
             0.7,
             "#b8e186"
            ],
            [
             0.8,
             "#7fbc41"
            ],
            [
             0.9,
             "#4d9221"
            ],
            [
             1,
             "#276419"
            ]
           ],
           "sequential": [
            [
             0,
             "#0d0887"
            ],
            [
             0.1111111111111111,
             "#46039f"
            ],
            [
             0.2222222222222222,
             "#7201a8"
            ],
            [
             0.3333333333333333,
             "#9c179e"
            ],
            [
             0.4444444444444444,
             "#bd3786"
            ],
            [
             0.5555555555555556,
             "#d8576b"
            ],
            [
             0.6666666666666666,
             "#ed7953"
            ],
            [
             0.7777777777777778,
             "#fb9f3a"
            ],
            [
             0.8888888888888888,
             "#fdca26"
            ],
            [
             1,
             "#f0f921"
            ]
           ],
           "sequentialminus": [
            [
             0,
             "#0d0887"
            ],
            [
             0.1111111111111111,
             "#46039f"
            ],
            [
             0.2222222222222222,
             "#7201a8"
            ],
            [
             0.3333333333333333,
             "#9c179e"
            ],
            [
             0.4444444444444444,
             "#bd3786"
            ],
            [
             0.5555555555555556,
             "#d8576b"
            ],
            [
             0.6666666666666666,
             "#ed7953"
            ],
            [
             0.7777777777777778,
             "#fb9f3a"
            ],
            [
             0.8888888888888888,
             "#fdca26"
            ],
            [
             1,
             "#f0f921"
            ]
           ]
          },
          "colorway": [
           "#636efa",
           "#EF553B",
           "#00cc96",
           "#ab63fa",
           "#FFA15A",
           "#19d3f3",
           "#FF6692",
           "#B6E880",
           "#FF97FF",
           "#FECB52"
          ],
          "font": {
           "color": "#2a3f5f"
          },
          "geo": {
           "bgcolor": "white",
           "lakecolor": "white",
           "landcolor": "#E5ECF6",
           "showlakes": true,
           "showland": true,
           "subunitcolor": "white"
          },
          "hoverlabel": {
           "align": "left"
          },
          "hovermode": "closest",
          "mapbox": {
           "style": "light"
          },
          "paper_bgcolor": "white",
          "plot_bgcolor": "#E5ECF6",
          "polar": {
           "angularaxis": {
            "gridcolor": "white",
            "linecolor": "white",
            "ticks": ""
           },
           "bgcolor": "#E5ECF6",
           "radialaxis": {
            "gridcolor": "white",
            "linecolor": "white",
            "ticks": ""
           }
          },
          "scene": {
           "xaxis": {
            "backgroundcolor": "#E5ECF6",
            "gridcolor": "white",
            "gridwidth": 2,
            "linecolor": "white",
            "showbackground": true,
            "ticks": "",
            "zerolinecolor": "white"
           },
           "yaxis": {
            "backgroundcolor": "#E5ECF6",
            "gridcolor": "white",
            "gridwidth": 2,
            "linecolor": "white",
            "showbackground": true,
            "ticks": "",
            "zerolinecolor": "white"
           },
           "zaxis": {
            "backgroundcolor": "#E5ECF6",
            "gridcolor": "white",
            "gridwidth": 2,
            "linecolor": "white",
            "showbackground": true,
            "ticks": "",
            "zerolinecolor": "white"
           }
          },
          "shapedefaults": {
           "line": {
            "color": "#2a3f5f"
           }
          },
          "ternary": {
           "aaxis": {
            "gridcolor": "white",
            "linecolor": "white",
            "ticks": ""
           },
           "baxis": {
            "gridcolor": "white",
            "linecolor": "white",
            "ticks": ""
           },
           "bgcolor": "#E5ECF6",
           "caxis": {
            "gridcolor": "white",
            "linecolor": "white",
            "ticks": ""
           }
          },
          "title": {
           "x": 0.05
          },
          "xaxis": {
           "automargin": true,
           "gridcolor": "white",
           "linecolor": "white",
           "ticks": "",
           "title": {
            "standoff": 15
           },
           "zerolinecolor": "white",
           "zerolinewidth": 2
          },
          "yaxis": {
           "automargin": true,
           "gridcolor": "white",
           "linecolor": "white",
           "ticks": "",
           "title": {
            "standoff": 15
           },
           "zerolinecolor": "white",
           "zerolinewidth": 2
          }
         }
        },
        "title": {
         "text": "Attendance by Tournament"
        },
        "xaxis": {
         "anchor": "y",
         "domain": [
          0,
          1
         ],
         "title": {
          "text": "tournament_id"
         }
        },
        "yaxis": {
         "anchor": "x",
         "domain": [
          0,
          1
         ],
         "title": {
          "text": "Attendance"
         }
        }
       }
      }
     },
     "metadata": {},
     "output_type": "display_data"
    }
   ],
   "source": [
    "fig = px.box(matches, x='tournament_id', y='Attendance', title='Attendance by Tournament')\n",
    "fig.show()"
   ]
  },
  {
   "cell_type": "markdown",
   "metadata": {},
   "source": [
    "-----------------"
   ]
  },
  {
   "cell_type": "code",
   "execution_count": 30,
   "metadata": {},
   "outputs": [
    {
     "data": {
      "text/plain": [
       "Index(['key_id', 'goal_id', 'tournament_id', 'tournament_name', 'match_id',\n",
       "       'match_name', 'match_date', 'stage_name', 'group_name', 'team_id',\n",
       "       'team_name', 'team_code', 'home_team', 'away_team', 'player_id',\n",
       "       'family_name', 'given_name', 'shirt_number', 'player_team_id',\n",
       "       'player_team_name', 'player_team_code', 'minute_label',\n",
       "       'minute_regulation', 'minute_stoppage', 'match_period', 'own_goal',\n",
       "       'penalty', 'late_goal'],\n",
       "      dtype='object')"
      ]
     },
     "execution_count": 30,
     "metadata": {},
     "output_type": "execute_result"
    }
   ],
   "source": [
    "goals = pd.read_csv(\"data/final_goals.csv\")\n",
    "goals.columns"
   ]
  },
  {
   "cell_type": "code",
   "execution_count": 31,
   "metadata": {},
   "outputs": [],
   "source": [
    "goal_period = goals[[\"tournament_id\", \"minute_regulation\"]].groupby(\"tournament_id\").median()"
   ]
  },
  {
   "cell_type": "code",
   "execution_count": 32,
   "metadata": {},
   "outputs": [
    {
     "data": {
      "application/vnd.plotly.v1+json": {
       "config": {
        "plotlyServerURL": "https://plot.ly"
       },
       "data": [
        {
         "alignmentgroup": "True",
         "hovertemplate": "tournament_id=%{x}<br>minute_regulation=%{y}<extra></extra>",
         "legendgroup": "",
         "marker": {
          "color": "#636efa",
          "pattern": {
           "shape": ""
          }
         },
         "name": "",
         "offsetgroup": "",
         "orientation": "v",
         "showlegend": false,
         "textposition": "auto",
         "type": "bar",
         "x": [
          "WC-1930",
          "WC-1934",
          "WC-1938",
          "WC-1950",
          "WC-1954",
          "WC-1958",
          "WC-1962",
          "WC-1966",
          "WC-1970",
          "WC-1974",
          "WC-1978",
          "WC-1982",
          "WC-1986",
          "WC-1990",
          "WC-1994",
          "WC-1998",
          "WC-2002",
          "WC-2006",
          "WC-2010",
          "WC-2014",
          "WC-2018",
          "WC-2022"
         ],
         "xaxis": "x",
         "y": [
          52.5,
          49,
          51,
          48,
          48,
          52,
          53,
          52,
          56,
          50,
          45.5,
          58.5,
          55.5,
          63,
          48,
          50,
          52,
          49,
          53,
          58,
          54,
          54.5
         ],
         "yaxis": "y"
        }
       ],
       "layout": {
        "barmode": "relative",
        "legend": {
         "tracegroupgap": 0
        },
        "template": {
         "data": {
          "bar": [
           {
            "error_x": {
             "color": "#2a3f5f"
            },
            "error_y": {
             "color": "#2a3f5f"
            },
            "marker": {
             "line": {
              "color": "#E5ECF6",
              "width": 0.5
             },
             "pattern": {
              "fillmode": "overlay",
              "size": 10,
              "solidity": 0.2
             }
            },
            "type": "bar"
           }
          ],
          "barpolar": [
           {
            "marker": {
             "line": {
              "color": "#E5ECF6",
              "width": 0.5
             },
             "pattern": {
              "fillmode": "overlay",
              "size": 10,
              "solidity": 0.2
             }
            },
            "type": "barpolar"
           }
          ],
          "carpet": [
           {
            "aaxis": {
             "endlinecolor": "#2a3f5f",
             "gridcolor": "white",
             "linecolor": "white",
             "minorgridcolor": "white",
             "startlinecolor": "#2a3f5f"
            },
            "baxis": {
             "endlinecolor": "#2a3f5f",
             "gridcolor": "white",
             "linecolor": "white",
             "minorgridcolor": "white",
             "startlinecolor": "#2a3f5f"
            },
            "type": "carpet"
           }
          ],
          "choropleth": [
           {
            "colorbar": {
             "outlinewidth": 0,
             "ticks": ""
            },
            "type": "choropleth"
           }
          ],
          "contour": [
           {
            "colorbar": {
             "outlinewidth": 0,
             "ticks": ""
            },
            "colorscale": [
             [
              0,
              "#0d0887"
             ],
             [
              0.1111111111111111,
              "#46039f"
             ],
             [
              0.2222222222222222,
              "#7201a8"
             ],
             [
              0.3333333333333333,
              "#9c179e"
             ],
             [
              0.4444444444444444,
              "#bd3786"
             ],
             [
              0.5555555555555556,
              "#d8576b"
             ],
             [
              0.6666666666666666,
              "#ed7953"
             ],
             [
              0.7777777777777778,
              "#fb9f3a"
             ],
             [
              0.8888888888888888,
              "#fdca26"
             ],
             [
              1,
              "#f0f921"
             ]
            ],
            "type": "contour"
           }
          ],
          "contourcarpet": [
           {
            "colorbar": {
             "outlinewidth": 0,
             "ticks": ""
            },
            "type": "contourcarpet"
           }
          ],
          "heatmap": [
           {
            "colorbar": {
             "outlinewidth": 0,
             "ticks": ""
            },
            "colorscale": [
             [
              0,
              "#0d0887"
             ],
             [
              0.1111111111111111,
              "#46039f"
             ],
             [
              0.2222222222222222,
              "#7201a8"
             ],
             [
              0.3333333333333333,
              "#9c179e"
             ],
             [
              0.4444444444444444,
              "#bd3786"
             ],
             [
              0.5555555555555556,
              "#d8576b"
             ],
             [
              0.6666666666666666,
              "#ed7953"
             ],
             [
              0.7777777777777778,
              "#fb9f3a"
             ],
             [
              0.8888888888888888,
              "#fdca26"
             ],
             [
              1,
              "#f0f921"
             ]
            ],
            "type": "heatmap"
           }
          ],
          "heatmapgl": [
           {
            "colorbar": {
             "outlinewidth": 0,
             "ticks": ""
            },
            "colorscale": [
             [
              0,
              "#0d0887"
             ],
             [
              0.1111111111111111,
              "#46039f"
             ],
             [
              0.2222222222222222,
              "#7201a8"
             ],
             [
              0.3333333333333333,
              "#9c179e"
             ],
             [
              0.4444444444444444,
              "#bd3786"
             ],
             [
              0.5555555555555556,
              "#d8576b"
             ],
             [
              0.6666666666666666,
              "#ed7953"
             ],
             [
              0.7777777777777778,
              "#fb9f3a"
             ],
             [
              0.8888888888888888,
              "#fdca26"
             ],
             [
              1,
              "#f0f921"
             ]
            ],
            "type": "heatmapgl"
           }
          ],
          "histogram": [
           {
            "marker": {
             "pattern": {
              "fillmode": "overlay",
              "size": 10,
              "solidity": 0.2
             }
            },
            "type": "histogram"
           }
          ],
          "histogram2d": [
           {
            "colorbar": {
             "outlinewidth": 0,
             "ticks": ""
            },
            "colorscale": [
             [
              0,
              "#0d0887"
             ],
             [
              0.1111111111111111,
              "#46039f"
             ],
             [
              0.2222222222222222,
              "#7201a8"
             ],
             [
              0.3333333333333333,
              "#9c179e"
             ],
             [
              0.4444444444444444,
              "#bd3786"
             ],
             [
              0.5555555555555556,
              "#d8576b"
             ],
             [
              0.6666666666666666,
              "#ed7953"
             ],
             [
              0.7777777777777778,
              "#fb9f3a"
             ],
             [
              0.8888888888888888,
              "#fdca26"
             ],
             [
              1,
              "#f0f921"
             ]
            ],
            "type": "histogram2d"
           }
          ],
          "histogram2dcontour": [
           {
            "colorbar": {
             "outlinewidth": 0,
             "ticks": ""
            },
            "colorscale": [
             [
              0,
              "#0d0887"
             ],
             [
              0.1111111111111111,
              "#46039f"
             ],
             [
              0.2222222222222222,
              "#7201a8"
             ],
             [
              0.3333333333333333,
              "#9c179e"
             ],
             [
              0.4444444444444444,
              "#bd3786"
             ],
             [
              0.5555555555555556,
              "#d8576b"
             ],
             [
              0.6666666666666666,
              "#ed7953"
             ],
             [
              0.7777777777777778,
              "#fb9f3a"
             ],
             [
              0.8888888888888888,
              "#fdca26"
             ],
             [
              1,
              "#f0f921"
             ]
            ],
            "type": "histogram2dcontour"
           }
          ],
          "mesh3d": [
           {
            "colorbar": {
             "outlinewidth": 0,
             "ticks": ""
            },
            "type": "mesh3d"
           }
          ],
          "parcoords": [
           {
            "line": {
             "colorbar": {
              "outlinewidth": 0,
              "ticks": ""
             }
            },
            "type": "parcoords"
           }
          ],
          "pie": [
           {
            "automargin": true,
            "type": "pie"
           }
          ],
          "scatter": [
           {
            "fillpattern": {
             "fillmode": "overlay",
             "size": 10,
             "solidity": 0.2
            },
            "type": "scatter"
           }
          ],
          "scatter3d": [
           {
            "line": {
             "colorbar": {
              "outlinewidth": 0,
              "ticks": ""
             }
            },
            "marker": {
             "colorbar": {
              "outlinewidth": 0,
              "ticks": ""
             }
            },
            "type": "scatter3d"
           }
          ],
          "scattercarpet": [
           {
            "marker": {
             "colorbar": {
              "outlinewidth": 0,
              "ticks": ""
             }
            },
            "type": "scattercarpet"
           }
          ],
          "scattergeo": [
           {
            "marker": {
             "colorbar": {
              "outlinewidth": 0,
              "ticks": ""
             }
            },
            "type": "scattergeo"
           }
          ],
          "scattergl": [
           {
            "marker": {
             "colorbar": {
              "outlinewidth": 0,
              "ticks": ""
             }
            },
            "type": "scattergl"
           }
          ],
          "scattermapbox": [
           {
            "marker": {
             "colorbar": {
              "outlinewidth": 0,
              "ticks": ""
             }
            },
            "type": "scattermapbox"
           }
          ],
          "scatterpolar": [
           {
            "marker": {
             "colorbar": {
              "outlinewidth": 0,
              "ticks": ""
             }
            },
            "type": "scatterpolar"
           }
          ],
          "scatterpolargl": [
           {
            "marker": {
             "colorbar": {
              "outlinewidth": 0,
              "ticks": ""
             }
            },
            "type": "scatterpolargl"
           }
          ],
          "scatterternary": [
           {
            "marker": {
             "colorbar": {
              "outlinewidth": 0,
              "ticks": ""
             }
            },
            "type": "scatterternary"
           }
          ],
          "surface": [
           {
            "colorbar": {
             "outlinewidth": 0,
             "ticks": ""
            },
            "colorscale": [
             [
              0,
              "#0d0887"
             ],
             [
              0.1111111111111111,
              "#46039f"
             ],
             [
              0.2222222222222222,
              "#7201a8"
             ],
             [
              0.3333333333333333,
              "#9c179e"
             ],
             [
              0.4444444444444444,
              "#bd3786"
             ],
             [
              0.5555555555555556,
              "#d8576b"
             ],
             [
              0.6666666666666666,
              "#ed7953"
             ],
             [
              0.7777777777777778,
              "#fb9f3a"
             ],
             [
              0.8888888888888888,
              "#fdca26"
             ],
             [
              1,
              "#f0f921"
             ]
            ],
            "type": "surface"
           }
          ],
          "table": [
           {
            "cells": {
             "fill": {
              "color": "#EBF0F8"
             },
             "line": {
              "color": "white"
             }
            },
            "header": {
             "fill": {
              "color": "#C8D4E3"
             },
             "line": {
              "color": "white"
             }
            },
            "type": "table"
           }
          ]
         },
         "layout": {
          "annotationdefaults": {
           "arrowcolor": "#2a3f5f",
           "arrowhead": 0,
           "arrowwidth": 1
          },
          "autotypenumbers": "strict",
          "coloraxis": {
           "colorbar": {
            "outlinewidth": 0,
            "ticks": ""
           }
          },
          "colorscale": {
           "diverging": [
            [
             0,
             "#8e0152"
            ],
            [
             0.1,
             "#c51b7d"
            ],
            [
             0.2,
             "#de77ae"
            ],
            [
             0.3,
             "#f1b6da"
            ],
            [
             0.4,
             "#fde0ef"
            ],
            [
             0.5,
             "#f7f7f7"
            ],
            [
             0.6,
             "#e6f5d0"
            ],
            [
             0.7,
             "#b8e186"
            ],
            [
             0.8,
             "#7fbc41"
            ],
            [
             0.9,
             "#4d9221"
            ],
            [
             1,
             "#276419"
            ]
           ],
           "sequential": [
            [
             0,
             "#0d0887"
            ],
            [
             0.1111111111111111,
             "#46039f"
            ],
            [
             0.2222222222222222,
             "#7201a8"
            ],
            [
             0.3333333333333333,
             "#9c179e"
            ],
            [
             0.4444444444444444,
             "#bd3786"
            ],
            [
             0.5555555555555556,
             "#d8576b"
            ],
            [
             0.6666666666666666,
             "#ed7953"
            ],
            [
             0.7777777777777778,
             "#fb9f3a"
            ],
            [
             0.8888888888888888,
             "#fdca26"
            ],
            [
             1,
             "#f0f921"
            ]
           ],
           "sequentialminus": [
            [
             0,
             "#0d0887"
            ],
            [
             0.1111111111111111,
             "#46039f"
            ],
            [
             0.2222222222222222,
             "#7201a8"
            ],
            [
             0.3333333333333333,
             "#9c179e"
            ],
            [
             0.4444444444444444,
             "#bd3786"
            ],
            [
             0.5555555555555556,
             "#d8576b"
            ],
            [
             0.6666666666666666,
             "#ed7953"
            ],
            [
             0.7777777777777778,
             "#fb9f3a"
            ],
            [
             0.8888888888888888,
             "#fdca26"
            ],
            [
             1,
             "#f0f921"
            ]
           ]
          },
          "colorway": [
           "#636efa",
           "#EF553B",
           "#00cc96",
           "#ab63fa",
           "#FFA15A",
           "#19d3f3",
           "#FF6692",
           "#B6E880",
           "#FF97FF",
           "#FECB52"
          ],
          "font": {
           "color": "#2a3f5f"
          },
          "geo": {
           "bgcolor": "white",
           "lakecolor": "white",
           "landcolor": "#E5ECF6",
           "showlakes": true,
           "showland": true,
           "subunitcolor": "white"
          },
          "hoverlabel": {
           "align": "left"
          },
          "hovermode": "closest",
          "mapbox": {
           "style": "light"
          },
          "paper_bgcolor": "white",
          "plot_bgcolor": "#E5ECF6",
          "polar": {
           "angularaxis": {
            "gridcolor": "white",
            "linecolor": "white",
            "ticks": ""
           },
           "bgcolor": "#E5ECF6",
           "radialaxis": {
            "gridcolor": "white",
            "linecolor": "white",
            "ticks": ""
           }
          },
          "scene": {
           "xaxis": {
            "backgroundcolor": "#E5ECF6",
            "gridcolor": "white",
            "gridwidth": 2,
            "linecolor": "white",
            "showbackground": true,
            "ticks": "",
            "zerolinecolor": "white"
           },
           "yaxis": {
            "backgroundcolor": "#E5ECF6",
            "gridcolor": "white",
            "gridwidth": 2,
            "linecolor": "white",
            "showbackground": true,
            "ticks": "",
            "zerolinecolor": "white"
           },
           "zaxis": {
            "backgroundcolor": "#E5ECF6",
            "gridcolor": "white",
            "gridwidth": 2,
            "linecolor": "white",
            "showbackground": true,
            "ticks": "",
            "zerolinecolor": "white"
           }
          },
          "shapedefaults": {
           "line": {
            "color": "#2a3f5f"
           }
          },
          "ternary": {
           "aaxis": {
            "gridcolor": "white",
            "linecolor": "white",
            "ticks": ""
           },
           "baxis": {
            "gridcolor": "white",
            "linecolor": "white",
            "ticks": ""
           },
           "bgcolor": "#E5ECF6",
           "caxis": {
            "gridcolor": "white",
            "linecolor": "white",
            "ticks": ""
           }
          },
          "title": {
           "x": 0.05
          },
          "xaxis": {
           "automargin": true,
           "gridcolor": "white",
           "linecolor": "white",
           "ticks": "",
           "title": {
            "standoff": 15
           },
           "zerolinecolor": "white",
           "zerolinewidth": 2
          },
          "yaxis": {
           "automargin": true,
           "gridcolor": "white",
           "linecolor": "white",
           "ticks": "",
           "title": {
            "standoff": 15
           },
           "zerolinecolor": "white",
           "zerolinewidth": 2
          }
         }
        },
        "title": {
         "text": "Goals minute mean by tournament"
        },
        "xaxis": {
         "anchor": "y",
         "domain": [
          0,
          1
         ],
         "title": {
          "text": "tournament_id"
         }
        },
        "yaxis": {
         "anchor": "x",
         "domain": [
          0,
          1
         ],
         "title": {
          "text": "minute_regulation"
         }
        }
       }
      }
     },
     "metadata": {},
     "output_type": "display_data"
    }
   ],
   "source": [
    "goal_fig = px.bar(goal_period, y=\"minute_regulation\", title=\"Goals minute mean by tournament\")\n",
    "goal_fig.show()"
   ]
  },
  {
   "cell_type": "code",
   "execution_count": 33,
   "metadata": {},
   "outputs": [
    {
     "data": {
      "application/vnd.plotly.v1+json": {
       "config": {
        "plotlyServerURL": "https://plot.ly"
       },
       "data": [
        {
         "alignmentgroup": "True",
         "bingroup": "x",
         "histfunc": "sum",
         "hovertemplate": "match_id=%{x}<br>sum of total_goals_in_match=%{y}<extra></extra>",
         "legendgroup": "",
         "marker": {
          "color": "#636efa",
          "pattern": {
           "shape": ""
          }
         },
         "name": "",
         "offsetgroup": "",
         "orientation": "v",
         "showlegend": false,
         "type": "histogram",
         "x": [
          "M-1930-01",
          "M-1930-04",
          "M-1930-02",
          "M-1930-03",
          "M-1930-05",
          "M-1930-06",
          "M-1930-07",
          "M-1930-08",
          "M-1930-09",
          "M-1930-10",
          "M-1930-11",
          "M-1930-12",
          "M-1930-13",
          "M-1930-14",
          "M-1930-15",
          "M-1930-16",
          "M-1930-17",
          "M-1930-18",
          "M-1934-01",
          "M-1934-10",
          "M-1934-02",
          "M-1934-03",
          "M-1934-12",
          "M-1934-13",
          "M-1934-04",
          "M-1934-16",
          "M-1934-05",
          "M-1934-14",
          "M-1934-17",
          "M-1934-06",
          "M-1990-08",
          "M-1990-20",
          "M-1990-32",
          "M-1990-41",
          "M-1934-07",
          "M-1934-09",
          "M-1990-03",
          "M-1990-15",
          "M-1990-28",
          "M-1990-44",
          "M-1934-08",
          "M-1934-11",
          "M-1934-15",
          "M-1990-01",
          "M-1990-07",
          "M-1990-18",
          "M-1990-27",
          "M-1990-40",
          "M-1990-47",
          "M-1938-01",
          "M-1938-09",
          "M-1938-15",
          "M-1998-16",
          "M-1998-23",
          "M-1998-29",
          "M-1998-41",
          "M-1998-50",
          "M-1998-63",
          "M-1938-02",
          "M-1938-08",
          "M-1938-03",
          "M-1938-12",
          "M-1938-18",
          "M-1938-04",
          "M-1938-05",
          "M-1938-16",
          "M-1998-07",
          "M-1998-14",
          "M-1998-27",
          "M-1998-35",
          "M-1998-49",
          "M-1998-59",
          "M-1998-61",
          "M-1938-06",
          "M-1938-07",
          "M-1938-10",
          "M-1938-14",
          "M-1938-17",
          "M-1998-03",
          "M-1998-17",
          "M-1998-26",
          "M-1998-38",
          "M-1998-45",
          "M-1998-55",
          "M-1938-11",
          "M-1938-13",
          "M-1950-01",
          "M-1950-03",
          "M-1950-08",
          "M-1950-11",
          "M-1950-13",
          "M-1950-17",
          "M-1950-19",
          "M-1950-22",
          "M-2014-11",
          "M-2014-19",
          "M-2014-30",
          "M-2014-44",
          "M-2014-50",
          "M-2014-57",
          "M-2014-64",
          "M-1950-02",
          "M-1950-09",
          "M-1950-15",
          "M-1950-04",
          "M-1950-10",
          "M-1950-05",
          "M-1950-06",
          "M-1950-14",
          "M-1950-18",
          "M-1950-20",
          "M-1950-21",
          "M-1950-07",
          "M-1950-16",
          "M-1950-12",
          "M-1954-01",
          "M-1954-12",
          "M-1954-14",
          "M-1954-22",
          "M-1954-02",
          "M-1954-05",
          "M-1954-10",
          "M-1954-19",
          "M-1954-23",
          "M-1954-03",
          "M-1954-06",
          "M-1954-11",
          "M-1954-17",
          "M-1954-25",
          "M-1954-04",
          "M-1954-07",
          "M-1954-16",
          "M-1954-21",
          "M-1954-26",
          "M-1954-08",
          "M-1954-09",
          "M-1954-13",
          "M-1954-18",
          "M-1954-20",
          "M-1954-24",
          "M-1954-15",
          "M-1958-01",
          "M-1958-13",
          "M-1958-16",
          "M-1958-17",
          "M-1958-26",
          "M-1958-30",
          "M-1958-32",
          "M-1958-35",
          "M-1958-02",
          "M-1958-19",
          "M-1958-25",
          "M-1958-31",
          "M-1958-03",
          "M-1958-09",
          "M-1958-04",
          "M-1958-11",
          "M-1958-29",
          "M-1958-05",
          "M-1958-12",
          "M-1958-06",
          "M-1958-22",
          "M-1958-07",
          "M-1958-08",
          "M-1958-14",
          "M-1958-23",
          "M-1958-27",
          "M-1958-28",
          "M-1958-33",
          "M-1958-34",
          "M-1958-10",
          "M-1958-18",
          "M-1958-15",
          "M-1958-24",
          "M-1958-20",
          "M-1958-21",
          "M-1962-01",
          "M-1962-05",
          "M-1962-09",
          "M-1962-13",
          "M-1962-17",
          "M-1962-21",
          "M-1962-26",
          "M-1962-02",
          "M-1962-06",
          "M-1962-10",
          "M-1962-14",
          "M-1962-18",
          "M-1962-22",
          "M-1962-28",
          "M-1962-29",
          "M-1962-31",
          "M-1962-32",
          "M-1962-03",
          "M-1962-07",
          "M-1962-11",
          "M-1962-15",
          "M-1962-19",
          "M-1962-23",
          "M-1962-25",
          "M-1962-30",
          "M-1962-04",
          "M-1962-08",
          "M-1962-12",
          "M-1962-16",
          "M-1962-20",
          "M-1962-24",
          "M-1962-27",
          "M-1966-01",
          "M-1966-05",
          "M-1966-16",
          "M-1966-17",
          "M-1966-21",
          "M-1966-25",
          "M-1966-30",
          "M-1966-31",
          "M-1966-32",
          "M-1966-02",
          "M-1966-10",
          "M-1966-18",
          "M-1966-28",
          "M-1966-03",
          "M-1966-11",
          "M-1966-19",
          "M-1966-26",
          "M-1966-29",
          "M-1966-04",
          "M-1966-12",
          "M-1966-20",
          "M-1966-06",
          "M-1966-13",
          "M-1966-22",
          "M-1966-07",
          "M-1966-14",
          "M-1966-23",
          "M-1966-08",
          "M-1966-15",
          "M-1966-24",
          "M-1966-27",
          "M-1966-09",
          "M-1970-01",
          "M-1970-05",
          "M-1970-09",
          "M-1970-13",
          "M-1970-17",
          "M-1970-21",
          "M-1970-27",
          "M-1970-30",
          "M-1970-31",
          "M-1970-32",
          "M-1986-01",
          "M-1986-07",
          "M-1986-19",
          "M-1986-29",
          "M-1986-37",
          "M-1986-43",
          "M-1986-47",
          "M-1986-50",
          "M-1986-52",
          "M-1970-02",
          "M-1970-10",
          "M-1970-18",
          "M-1986-13",
          "M-1986-28",
          "M-1986-40",
          "M-1986-48",
          "M-1986-51",
          "M-1970-03",
          "M-1970-07",
          "M-1970-11",
          "M-1970-15",
          "M-1970-19",
          "M-1970-23",
          "M-1970-25",
          "M-1970-29",
          "M-1986-02",
          "M-1986-17",
          "M-1986-34",
          "M-1986-39",
          "M-1986-45",
          "M-1986-49",
          "M-1970-04",
          "M-1970-08",
          "M-1970-12",
          "M-1970-16",
          "M-1970-20",
          "M-1970-24",
          "M-1970-28",
          "M-1986-03",
          "M-1986-14",
          "M-1986-25",
          "M-1986-38",
          "M-1970-06",
          "M-1970-14",
          "M-1970-22",
          "M-1970-26",
          "M-1986-10",
          "M-1986-22",
          "M-1986-30",
          "M-1974-01",
          "M-1974-11",
          "M-1974-18",
          "M-1974-31",
          "M-1974-33",
          "M-2006-03",
          "M-2006-12",
          "M-2006-24",
          "M-2006-40",
          "M-2006-60",
          "M-1974-02",
          "M-1974-10",
          "M-1974-17",
          "M-2006-14",
          "M-2006-20",
          "M-2006-34",
          "M-2006-46",
          "M-2006-57",
          "M-2006-64",
          "M-1974-03",
          "M-1974-09",
          "M-1974-20",
          "M-2006-05",
          "M-2006-18",
          "M-2006-31",
          "M-2006-41",
          "M-2006-58",
          "M-1974-04",
          "M-1974-14",
          "M-1974-21",
          "M-1974-35",
          "M-2006-04",
          "M-2006-17",
          "M-2006-30",
          "M-2006-44",
          "M-2006-55",
          "M-2006-61",
          "M-1974-05",
          "M-1974-22",
          "M-1974-25",
          "M-1974-32",
          "M-1974-36",
          "M-1974-06",
          "M-1974-13",
          "M-1974-26",
          "M-1974-29",
          "M-2006-11",
          "M-2006-23",
          "M-2006-33",
          "M-2006-47",
          "M-2006-56",
          "M-1974-07",
          "M-1974-16",
          "M-1974-23",
          "M-1974-37",
          "M-1974-38",
          "M-1974-08",
          "M-1974-15",
          "M-1974-24",
          "M-1974-28",
          "M-2006-13",
          "M-2006-22",
          "M-2006-32",
          "M-2006-43",
          "M-2006-51",
          "M-2006-63",
          "M-1974-12",
          "M-1974-19",
          "M-1974-27",
          "M-1974-30",
          "M-1974-34",
          "M-1978-01",
          "M-1978-04",
          "M-1978-12",
          "M-1978-20",
          "M-1978-26",
          "M-1978-30",
          "M-1978-34",
          "M-1978-37",
          "M-1978-38",
          "M-1978-02",
          "M-1978-06",
          "M-1978-09",
          "M-1978-14",
          "M-1978-17",
          "M-1978-21",
          "M-1978-03",
          "M-1978-10",
          "M-1978-18",
          "M-1978-28",
          "M-1978-32",
          "M-1978-36",
          "M-1978-05",
          "M-1978-13",
          "M-1978-22",
          "M-1978-07",
          "M-1978-15",
          "M-1978-24",
          "M-1978-27",
          "M-1978-29",
          "M-1978-35",
          "M-1978-08",
          "M-1978-11",
          "M-1978-16",
          "M-1978-19",
          "M-1978-23",
          "M-1978-25",
          "M-1978-31",
          "M-1978-33",
          "M-1982-01",
          "M-1982-38",
          "M-1982-42",
          "M-1982-46",
          "M-1982-49",
          "M-1982-02",
          "M-1982-13",
          "M-1982-28",
          "M-1982-03",
          "M-1982-50",
          "M-1982-04",
          "M-1982-16",
          "M-1982-25",
          "M-1982-05",
          "M-1982-17",
          "M-1982-26",
          "M-1982-06",
          "M-1982-18",
          "M-1982-27",
          "M-1982-07",
          "M-1982-19",
          "M-1982-34",
          "M-1982-08",
          "M-1982-20",
          "M-1982-35",
          "M-1982-09",
          "M-1982-21",
          "M-1982-36",
          "M-1982-10",
          "M-1982-22",
          "M-1982-31",
          "M-1982-11",
          "M-1982-23",
          "M-1982-32",
          "M-1982-12",
          "M-1982-24",
          "M-1982-33",
          "M-1982-14",
          "M-1982-29",
          "M-1982-51",
          "M-1982-15",
          "M-1982-30",
          "M-1982-37",
          "M-1982-41",
          "M-1982-45",
          "M-1982-39",
          "M-1982-43",
          "M-1982-47",
          "M-1982-40",
          "M-1982-44",
          "M-1982-48",
          "M-1982-52",
          "M-1986-04",
          "M-1986-15",
          "M-1986-27",
          "M-1986-41",
          "M-1986-05",
          "M-1986-16",
          "M-1986-26",
          "M-1986-06",
          "M-1986-21",
          "M-1986-31",
          "M-1986-42",
          "M-1986-46",
          "M-1986-08",
          "M-1986-20",
          "M-1986-32",
          "M-1986-09",
          "M-1986-18",
          "M-1986-33",
          "M-1986-11",
          "M-1986-23",
          "M-1986-35",
          "M-1986-44",
          "M-1986-12",
          "M-1986-24",
          "M-1986-36",
          "M-1990-02",
          "M-1990-14",
          "M-1990-26",
          "M-1990-38",
          "M-1990-51",
          "M-1990-04",
          "M-1990-16",
          "M-1990-30",
          "M-1990-42",
          "M-1990-46",
          "M-1990-52",
          "M-1990-05",
          "M-1990-17",
          "M-1990-29",
          "M-1990-45",
          "M-1990-06",
          "M-1990-19",
          "M-1990-31",
          "M-1990-39",
          "M-1990-50",
          "M-1990-09",
          "M-1990-21",
          "M-1990-35",
          "M-1990-10",
          "M-1990-23",
          "M-1990-33",
          "M-1990-43",
          "M-1990-11",
          "M-1990-22",
          "M-1990-36",
          "M-1990-12",
          "M-1990-24",
          "M-1990-34",
          "M-1990-13",
          "M-1990-25",
          "M-1990-37",
          "M-1990-48",
          "M-1990-49",
          "M-1994-01",
          "M-1994-12",
          "M-1994-24",
          "M-1994-27",
          "M-1994-37",
          "M-1994-02",
          "M-1994-13",
          "M-1994-28",
          "M-1994-35",
          "M-1994-39",
          "M-1994-46",
          "M-1994-03",
          "M-1994-14",
          "M-1994-20",
          "M-1994-32",
          "M-1994-04",
          "M-1994-16",
          "M-1994-22",
          "M-1994-30",
          "M-1994-44",
          "M-1994-47",
          "M-1994-49",
          "M-1994-05",
          "M-1994-08",
          "M-1994-15",
          "M-1994-26",
          "M-1994-40",
          "M-1994-50",
          "M-1994-51",
          "M-1994-52",
          "M-1994-06",
          "M-1994-18",
          "M-1994-21",
          "M-1994-34",
          "M-1994-41",
          "M-1994-07",
          "M-1994-10",
          "M-1994-29",
          "M-1994-33",
          "M-1994-38",
          "M-1994-09",
          "M-1994-19",
          "M-1994-25",
          "M-1994-31",
          "M-1994-42",
          "M-1994-48",
          "M-1994-11",
          "M-1994-17",
          "M-1994-23",
          "M-1994-36",
          "M-1994-43",
          "M-1994-45",
          "M-1998-01",
          "M-1998-10",
          "M-1998-22",
          "M-1998-34",
          "M-1998-48",
          "M-1998-52",
          "M-1998-57",
          "M-1998-62",
          "M-1998-64",
          "M-1998-02",
          "M-1998-05",
          "M-1998-20",
          "M-1998-31",
          "M-1998-43",
          "M-1998-53",
          "M-1998-04",
          "M-1998-11",
          "M-1998-21",
          "M-1998-32",
          "M-1998-39",
          "M-1998-54",
          "M-1998-06",
          "M-1998-13",
          "M-1998-28",
          "M-1998-40",
          "M-1998-47",
          "M-1998-51",
          "M-1998-08",
          "M-1998-18",
          "M-1998-25",
          "M-1998-33",
          "M-1998-44",
          "M-1998-58",
          "M-1998-09",
          "M-1998-15",
          "M-1998-30",
          "M-1998-37",
          "M-1998-46",
          "M-1998-60",
          "M-1998-12",
          "M-1998-19",
          "M-1998-24",
          "M-1998-36",
          "M-1998-42",
          "M-1998-56",
          "M-2002-01",
          "M-2002-42",
          "M-2002-61",
          "M-2002-02",
          "M-2002-09",
          "M-2002-50",
          "M-2002-03",
          "M-2002-10",
          "M-2002-58",
          "M-2002-04",
          "M-2002-11",
          "M-2002-23",
          "M-2002-05",
          "M-2002-17",
          "M-2002-25",
          "M-2002-06",
          "M-2002-14",
          "M-2002-20",
          "M-2002-07",
          "M-2002-13",
          "M-2002-19",
          "M-2002-62",
          "M-2002-08",
          "M-2002-12",
          "M-2002-59",
          "M-2002-15",
          "M-2002-21",
          "M-2002-54",
          "M-2002-16",
          "M-2002-34",
          "M-2002-41",
          "M-2002-52",
          "M-2002-18",
          "M-2002-24",
          "M-2002-30",
          "M-2002-63",
          "M-2002-22",
          "M-2002-32",
          "M-2002-53",
          "M-2002-26",
          "M-2002-39",
          "M-2002-49",
          "M-2002-27",
          "M-2002-38",
          "M-2002-55",
          "M-2002-28",
          "M-2002-33",
          "M-2002-48",
          "M-2002-29",
          "M-2002-36",
          "M-2002-43",
          "M-2002-64",
          "M-2002-31",
          "M-2002-44",
          "M-2002-51",
          "M-2002-35",
          "M-2002-45",
          "M-2002-57",
          "M-2002-37",
          "M-2002-46",
          "M-2002-60",
          "M-2002-40",
          "M-2002-47",
          "M-2002-56",
          "M-2006-01",
          "M-2006-16",
          "M-2006-28",
          "M-2006-39",
          "M-2006-49",
          "M-2006-62",
          "M-2006-02",
          "M-2006-10",
          "M-2006-21",
          "M-2006-38",
          "M-2006-59",
          "M-2006-06",
          "M-2006-15",
          "M-2006-29",
          "M-2006-37",
          "M-2006-50",
          "M-2006-07",
          "M-2006-19",
          "M-2006-27",
          "M-2006-42",
          "M-2006-52",
          "M-2006-08",
          "M-2006-25",
          "M-2006-36",
          "M-2006-48",
          "M-2006-54",
          "M-2006-09",
          "M-2006-26",
          "M-2006-35",
          "M-2006-45",
          "M-2006-53",
          "M-2010-01",
          "M-2010-09",
          "M-2010-18",
          "M-2010-29",
          "M-2010-40",
          "M-2010-52",
          "M-2010-58",
          "M-2010-64",
          "M-2010-02",
          "M-2010-11",
          "M-2010-23",
          "M-2010-30",
          "M-2010-43",
          "M-2010-56",
          "M-2010-59",
          "M-2010-61",
          "M-2010-03",
          "M-2010-13",
          "M-2010-21",
          "M-2010-31",
          "M-2010-37",
          "M-2010-49",
          "M-2010-57",
          "M-2010-63",
          "M-2010-04",
          "M-2010-14",
          "M-2010-22",
          "M-2010-32",
          "M-2010-42",
          "M-2010-54",
          "M-2010-60",
          "M-2010-05",
          "M-2010-12",
          "M-2010-25",
          "M-2010-34",
          "M-2010-44",
          "M-2010-50",
          "M-2010-06",
          "M-2010-20",
          "M-2010-35",
          "M-2010-41",
          "M-2010-07",
          "M-2010-17",
          "M-2010-26",
          "M-2010-38",
          "M-2010-47",
          "M-2010-55",
          "M-2010-08",
          "M-2010-16",
          "M-2010-24",
          "M-2010-36",
          "M-2010-46",
          "M-2010-53",
          "M-2010-62",
          "M-2010-10",
          "M-2010-19",
          "M-2010-27",
          "M-2010-33",
          "M-2010-48",
          "M-2010-51",
          "M-2010-15",
          "M-2010-28",
          "M-2010-39",
          "M-2010-45",
          "M-2014-01",
          "M-2014-22",
          "M-2014-34",
          "M-2014-48",
          "M-2014-55",
          "M-2014-62",
          "M-2014-02",
          "M-2014-14",
          "M-2014-23",
          "M-2014-38",
          "M-2014-03",
          "M-2014-12",
          "M-2014-25",
          "M-2014-41",
          "M-2014-56",
          "M-2014-60",
          "M-2014-04",
          "M-2014-17",
          "M-2014-29",
          "M-2014-39",
          "M-2014-05",
          "M-2014-15",
          "M-2014-27",
          "M-2014-37",
          "M-2014-49",
          "M-2014-61",
          "M-2014-06",
          "M-2014-16",
          "M-2014-28",
          "M-2014-40",
          "M-2014-51",
          "M-2014-58",
          "M-2014-07",
          "M-2014-20",
          "M-2014-32",
          "M-2014-43",
          "M-2014-08",
          "M-2014-24",
          "M-2014-36",
          "M-2014-46",
          "M-2014-52",
          "M-2014-09",
          "M-2014-21",
          "M-2014-35",
          "M-2014-45",
          "M-2014-53",
          "M-2014-59",
          "M-2014-63",
          "M-2014-10",
          "M-2014-18",
          "M-2014-31",
          "M-2014-42",
          "M-2014-54",
          "M-2014-13",
          "M-2014-26",
          "M-2014-33",
          "M-2014-47",
          "M-2018-01",
          "M-2018-10",
          "M-2018-18",
          "M-2018-38",
          "M-2018-51",
          "M-2018-62",
          "M-2018-64",
          "M-2018-02",
          "M-2018-22",
          "M-2018-31",
          "M-2018-42",
          "M-2018-03",
          "M-2018-17",
          "M-2018-24",
          "M-2018-40",
          "M-2018-55",
          "M-2018-61",
          "M-2018-63",
          "M-2018-04",
          "M-2018-13",
          "M-2018-29",
          "M-2018-37",
          "M-2018-50",
          "M-2018-60",
          "M-2018-05",
          "M-2018-20",
          "M-2018-32",
          "M-2018-41",
          "M-2018-49",
          "M-2018-58",
          "M-2018-06",
          "M-2018-16",
          "M-2018-27",
          "M-2018-43",
          "M-2018-56",
          "M-2018-07",
          "M-2018-15",
          "M-2018-36",
          "M-2018-48",
          "M-2018-08",
          "M-2018-26",
          "M-2018-35",
          "M-2018-47",
          "M-2018-09",
          "M-2018-21",
          "M-2018-34",
          "M-2018-46",
          "M-2018-53",
          "M-2018-59",
          "M-2018-11",
          "M-2018-19",
          "M-2018-28",
          "M-2018-39",
          "M-2018-54",
          "M-2018-12",
          "M-2018-23",
          "M-2018-30",
          "M-2018-44",
          "M-2018-52",
          "M-2018-57",
          "M-2018-14",
          "M-2018-25",
          "M-2018-33",
          "M-2018-45",
          "M-2022-01",
          "M-2022-09",
          "M-2022-20",
          "M-2022-28",
          "M-2022-34",
          "M-2022-43",
          "M-2022-52",
          "M-2022-60",
          "M-2022-62",
          "M-2022-02",
          "M-2022-10",
          "M-2022-19",
          "M-2022-27",
          "M-2022-33",
          "M-2022-44",
          "M-2022-49",
          "M-2022-63",
          "M-2022-03",
          "M-2022-11",
          "M-2022-18",
          "M-2022-26",
          "M-2022-35",
          "M-2022-41",
          "M-2022-51",
          "M-2022-59",
          "M-2022-04",
          "M-2022-12",
          "M-2022-17",
          "M-2022-25",
          "M-2022-36",
          "M-2022-42",
          "M-2022-50",
          "M-2022-05",
          "M-2022-16",
          "M-2022-24",
          "M-2022-32",
          "M-2022-40",
          "M-2022-47",
          "M-2022-56",
          "M-2022-58",
          "M-2022-61",
          "M-2022-64",
          "M-2022-06",
          "M-2022-14",
          "M-2022-22",
          "M-2022-30",
          "M-2022-38",
          "M-2022-46",
          "M-2022-55",
          "M-2022-57",
          "M-2022-07",
          "M-2022-15",
          "M-2022-23",
          "M-2022-31",
          "M-2022-39",
          "M-2022-48",
          "M-2022-54",
          "M-2022-08",
          "M-2022-13",
          "M-2022-21",
          "M-2022-29",
          "M-2022-37",
          "M-2022-45",
          "M-2022-53"
         ],
         "xaxis": "x",
         "y": [
          5,
          4,
          3,
          3,
          1,
          3,
          4,
          3,
          1,
          1,
          9,
          4,
          1,
          4,
          4,
          7,
          7,
          6,
          5,
          5,
          3,
          7,
          2,
          1,
          6,
          5,
          8,
          4,
          3,
          4,
          1,
          3,
          3,
          9,
          5,
          3,
          2,
          1,
          5,
          1,
          5,
          3,
          1,
          1,
          5,
          6,
          2,
          3,
          1,
          2,
          6,
          6,
          2,
          1,
          5,
          2,
          5,
          3,
          6,
          3,
          4,
          4,
          6,
          6,
          3,
          3,
          3,
          2,
          5,
          3,
          1,
          3,
          8,
          11,
          3,
          2,
          3,
          6,
          4,
          2,
          4,
          4,
          1,
          1,
          2,
          8,
          4,
          2,
          2,
          2,
          1,
          8,
          7,
          3,
          3,
          2,
          1,
          0,
          2,
          1,
          1,
          3,
          1,
          8,
          4,
          4,
          5,
          4,
          2,
          4,
          5,
          4,
          5,
          3,
          7,
          5,
          5,
          7,
          2,
          1,
          3,
          2,
          12,
          6,
          1,
          9,
          5,
          9,
          4,
          2,
          5,
          2,
          6,
          5,
          8,
          7,
          11,
          5,
          6,
          7,
          5,
          3,
          2,
          3,
          0,
          3,
          2,
          7,
          7,
          4,
          4,
          3,
          1,
          1,
          4,
          10,
          5,
          4,
          2,
          5,
          2,
          4,
          3,
          4,
          0,
          2,
          1,
          1,
          4,
          9,
          4,
          7,
          2,
          4,
          3,
          6,
          3,
          2,
          4,
          8,
          3,
          5,
          3,
          4,
          0,
          2,
          3,
          2,
          3,
          1,
          6,
          1,
          4,
          2,
          1,
          0,
          1,
          3,
          4,
          4,
          4,
          1,
          3,
          4,
          7,
          0,
          0,
          1,
          0,
          2,
          2,
          0,
          2,
          1,
          3,
          3,
          6,
          5,
          3,
          2,
          4,
          2,
          4,
          4,
          8,
          3,
          3,
          2,
          1,
          3,
          0,
          3,
          4,
          3,
          4,
          2,
          1,
          3,
          3,
          3,
          0,
          3,
          5,
          4,
          2,
          1,
          1,
          7,
          1,
          5,
          2,
          3,
          2,
          1,
          2,
          3,
          3,
          2,
          5,
          2,
          0,
          1,
          2,
          5,
          1,
          11,
          6,
          1,
          5,
          3,
          1,
          5,
          1,
          6,
          4,
          1,
          1,
          3,
          4,
          9,
          2,
          5,
          3,
          3,
          7,
          4,
          2,
          5,
          1,
          2,
          3,
          7,
          1,
          2,
          0,
          5,
          1,
          3,
          4,
          0,
          0,
          2,
          3,
          1,
          1,
          3,
          2,
          0,
          1,
          1,
          2,
          0,
          1,
          1,
          3,
          1,
          8,
          10,
          2,
          3,
          1,
          3,
          3,
          4,
          2,
          3,
          2,
          0,
          5,
          2,
          0,
          1,
          2,
          5,
          3,
          2,
          0,
          3,
          2,
          6,
          3,
          2,
          2,
          1,
          3,
          2,
          0,
          3,
          2,
          4,
          4,
          7,
          5,
          1,
          3,
          5,
          2,
          3,
          1,
          0,
          3,
          4,
          4,
          1,
          4,
          9,
          3,
          4,
          2,
          2,
          0,
          3,
          3,
          1,
          0,
          1,
          3,
          3,
          4,
          3,
          2,
          4,
          0,
          4,
          1,
          4,
          1,
          4,
          2,
          0,
          6,
          3,
          1,
          1,
          3,
          0,
          5,
          3,
          1,
          4,
          4,
          6,
          2,
          0,
          5,
          6,
          4,
          5,
          1,
          3,
          1,
          0,
          2,
          0,
          2,
          2,
          3,
          15,
          0,
          0,
          6,
          11,
          1,
          2,
          7,
          3,
          4,
          3,
          5,
          1,
          4,
          2,
          1,
          2,
          3,
          1,
          1,
          2,
          5,
          2,
          5,
          2,
          0,
          2,
          1,
          5,
          2,
          5,
          5,
          4,
          1,
          4,
          5,
          3,
          4,
          5,
          0,
          3,
          0,
          4,
          4,
          2,
          2,
          2,
          6,
          2,
          2,
          0,
          1,
          3,
          1,
          5,
          2,
          3,
          4,
          1,
          0,
          3,
          2,
          3,
          2,
          6,
          1,
          7,
          0,
          2,
          3,
          4,
          5,
          3,
          1,
          1,
          2,
          2,
          1,
          1,
          6,
          1,
          3,
          5,
          3,
          1,
          1,
          1,
          9,
          2,
          0,
          1,
          2,
          4,
          3,
          3,
          2,
          0,
          2,
          0,
          4,
          1,
          2,
          2,
          3,
          5,
          9,
          1,
          2,
          4,
          4,
          5,
          4,
          3,
          5,
          2,
          4,
          5,
          2,
          5,
          4,
          2,
          1,
          1,
          3,
          0,
          6,
          3,
          3,
          4,
          4,
          3,
          1,
          5,
          1,
          4,
          5,
          1,
          3,
          1,
          3,
          2,
          1,
          3,
          2,
          1,
          3,
          2,
          3,
          2,
          7,
          1,
          13,
          4,
          0,
          3,
          2,
          3,
          3,
          3,
          0,
          4,
          3,
          2,
          5,
          7,
          3,
          3,
          4,
          0,
          3,
          1,
          2,
          3,
          2,
          1,
          2,
          3,
          4,
          3,
          1,
          4,
          4,
          7,
          2,
          1,
          5,
          3,
          1,
          2,
          1,
          5,
          4,
          1,
          3,
          3,
          3,
          3,
          1,
          2,
          0,
          3,
          4,
          11,
          1,
          3,
          1,
          2,
          1,
          3,
          3,
          3,
          1,
          8,
          2,
          1,
          1,
          2,
          3,
          4,
          2,
          0,
          2,
          4,
          1,
          1,
          4,
          2,
          8,
          2,
          3,
          2,
          5,
          6,
          7,
          7,
          2,
          1,
          2,
          5,
          4,
          4,
          2,
          4,
          4,
          1,
          3,
          2,
          1,
          2,
          2,
          1,
          1,
          3,
          1,
          2,
          2,
          2,
          3,
          2,
          5,
          3,
          0,
          2,
          1,
          5,
          4,
          3,
          6,
          4,
          2,
          5,
          2,
          1,
          2,
          3,
          6,
          3,
          4,
          1,
          4,
          2,
          2,
          3,
          4,
          2,
          0,
          3,
          1,
          1,
          2,
          4,
          2,
          3,
          4,
          2,
          2,
          1,
          1,
          2,
          2,
          5,
          4,
          1,
          4,
          8,
          1,
          0,
          2,
          0,
          7,
          3,
          1,
          4,
          5,
          2,
          0,
          1,
          1,
          1,
          3,
          3,
          5,
          1,
          3,
          4,
          2,
          5,
          3,
          1,
          2,
          2,
          2,
          1,
          4,
          3,
          1,
          2,
          2,
          0,
          1,
          3,
          3,
          1,
          3,
          8,
          4,
          1,
          1,
          4,
          0,
          3,
          1,
          1,
          3,
          2,
          3,
          0,
          5,
          1,
          2,
          3,
          3,
          4,
          3,
          2,
          1,
          1,
          6,
          1,
          3,
          0,
          1,
          6,
          4,
          7,
          4,
          3,
          7,
          4,
          2,
          1,
          5,
          3,
          3,
          1,
          0,
          7,
          8,
          4,
          0,
          4,
          3,
          3,
          3,
          3,
          4,
          4,
          3,
          3,
          1,
          4,
          1,
          10,
          3,
          3,
          5,
          3,
          2,
          1,
          3,
          3,
          5,
          6,
          5,
          3,
          0,
          3,
          3,
          2,
          5,
          1,
          1,
          0,
          9,
          3,
          6,
          1,
          1,
          4,
          3,
          1,
          4,
          2,
          3,
          1,
          1,
          2,
          6,
          3,
          3,
          2,
          3,
          11,
          3,
          1,
          3,
          2,
          7,
          3,
          2,
          3,
          7,
          2,
          9,
          1,
          3,
          2,
          3,
          2,
          3,
          4,
          1,
          1,
          2,
          3,
          1,
          2,
          2,
          2,
          1,
          3,
          3,
          5,
          1,
          3,
          7,
          4,
          7,
          2,
          3,
          2,
          3,
          1,
          2,
          0,
          0,
          2,
          2,
          6,
          3,
          3,
          2,
          8,
          3,
          2,
          5,
          3,
          3,
          4,
          3,
          2,
          7,
          4,
          2,
          1,
          3,
          4,
          1,
          2,
          1,
          2,
          1,
          3,
          0,
          3,
          3,
          2,
          2,
          2,
          3,
          1,
          7,
          11,
          3,
          12,
          0,
          0,
          2,
          5,
          1,
          3,
          3,
          8,
          0,
          5,
          3,
          1,
          2,
          5,
          5,
          5,
          1,
          1,
          6,
          1,
          2,
          6
         ],
         "yaxis": "y"
        }
       ],
       "layout": {
        "barmode": "relative",
        "legend": {
         "tracegroupgap": 0
        },
        "margin": {
         "t": 60
        },
        "template": {
         "data": {
          "bar": [
           {
            "error_x": {
             "color": "#2a3f5f"
            },
            "error_y": {
             "color": "#2a3f5f"
            },
            "marker": {
             "line": {
              "color": "#E5ECF6",
              "width": 0.5
             },
             "pattern": {
              "fillmode": "overlay",
              "size": 10,
              "solidity": 0.2
             }
            },
            "type": "bar"
           }
          ],
          "barpolar": [
           {
            "marker": {
             "line": {
              "color": "#E5ECF6",
              "width": 0.5
             },
             "pattern": {
              "fillmode": "overlay",
              "size": 10,
              "solidity": 0.2
             }
            },
            "type": "barpolar"
           }
          ],
          "carpet": [
           {
            "aaxis": {
             "endlinecolor": "#2a3f5f",
             "gridcolor": "white",
             "linecolor": "white",
             "minorgridcolor": "white",
             "startlinecolor": "#2a3f5f"
            },
            "baxis": {
             "endlinecolor": "#2a3f5f",
             "gridcolor": "white",
             "linecolor": "white",
             "minorgridcolor": "white",
             "startlinecolor": "#2a3f5f"
            },
            "type": "carpet"
           }
          ],
          "choropleth": [
           {
            "colorbar": {
             "outlinewidth": 0,
             "ticks": ""
            },
            "type": "choropleth"
           }
          ],
          "contour": [
           {
            "colorbar": {
             "outlinewidth": 0,
             "ticks": ""
            },
            "colorscale": [
             [
              0,
              "#0d0887"
             ],
             [
              0.1111111111111111,
              "#46039f"
             ],
             [
              0.2222222222222222,
              "#7201a8"
             ],
             [
              0.3333333333333333,
              "#9c179e"
             ],
             [
              0.4444444444444444,
              "#bd3786"
             ],
             [
              0.5555555555555556,
              "#d8576b"
             ],
             [
              0.6666666666666666,
              "#ed7953"
             ],
             [
              0.7777777777777778,
              "#fb9f3a"
             ],
             [
              0.8888888888888888,
              "#fdca26"
             ],
             [
              1,
              "#f0f921"
             ]
            ],
            "type": "contour"
           }
          ],
          "contourcarpet": [
           {
            "colorbar": {
             "outlinewidth": 0,
             "ticks": ""
            },
            "type": "contourcarpet"
           }
          ],
          "heatmap": [
           {
            "colorbar": {
             "outlinewidth": 0,
             "ticks": ""
            },
            "colorscale": [
             [
              0,
              "#0d0887"
             ],
             [
              0.1111111111111111,
              "#46039f"
             ],
             [
              0.2222222222222222,
              "#7201a8"
             ],
             [
              0.3333333333333333,
              "#9c179e"
             ],
             [
              0.4444444444444444,
              "#bd3786"
             ],
             [
              0.5555555555555556,
              "#d8576b"
             ],
             [
              0.6666666666666666,
              "#ed7953"
             ],
             [
              0.7777777777777778,
              "#fb9f3a"
             ],
             [
              0.8888888888888888,
              "#fdca26"
             ],
             [
              1,
              "#f0f921"
             ]
            ],
            "type": "heatmap"
           }
          ],
          "heatmapgl": [
           {
            "colorbar": {
             "outlinewidth": 0,
             "ticks": ""
            },
            "colorscale": [
             [
              0,
              "#0d0887"
             ],
             [
              0.1111111111111111,
              "#46039f"
             ],
             [
              0.2222222222222222,
              "#7201a8"
             ],
             [
              0.3333333333333333,
              "#9c179e"
             ],
             [
              0.4444444444444444,
              "#bd3786"
             ],
             [
              0.5555555555555556,
              "#d8576b"
             ],
             [
              0.6666666666666666,
              "#ed7953"
             ],
             [
              0.7777777777777778,
              "#fb9f3a"
             ],
             [
              0.8888888888888888,
              "#fdca26"
             ],
             [
              1,
              "#f0f921"
             ]
            ],
            "type": "heatmapgl"
           }
          ],
          "histogram": [
           {
            "marker": {
             "pattern": {
              "fillmode": "overlay",
              "size": 10,
              "solidity": 0.2
             }
            },
            "type": "histogram"
           }
          ],
          "histogram2d": [
           {
            "colorbar": {
             "outlinewidth": 0,
             "ticks": ""
            },
            "colorscale": [
             [
              0,
              "#0d0887"
             ],
             [
              0.1111111111111111,
              "#46039f"
             ],
             [
              0.2222222222222222,
              "#7201a8"
             ],
             [
              0.3333333333333333,
              "#9c179e"
             ],
             [
              0.4444444444444444,
              "#bd3786"
             ],
             [
              0.5555555555555556,
              "#d8576b"
             ],
             [
              0.6666666666666666,
              "#ed7953"
             ],
             [
              0.7777777777777778,
              "#fb9f3a"
             ],
             [
              0.8888888888888888,
              "#fdca26"
             ],
             [
              1,
              "#f0f921"
             ]
            ],
            "type": "histogram2d"
           }
          ],
          "histogram2dcontour": [
           {
            "colorbar": {
             "outlinewidth": 0,
             "ticks": ""
            },
            "colorscale": [
             [
              0,
              "#0d0887"
             ],
             [
              0.1111111111111111,
              "#46039f"
             ],
             [
              0.2222222222222222,
              "#7201a8"
             ],
             [
              0.3333333333333333,
              "#9c179e"
             ],
             [
              0.4444444444444444,
              "#bd3786"
             ],
             [
              0.5555555555555556,
              "#d8576b"
             ],
             [
              0.6666666666666666,
              "#ed7953"
             ],
             [
              0.7777777777777778,
              "#fb9f3a"
             ],
             [
              0.8888888888888888,
              "#fdca26"
             ],
             [
              1,
              "#f0f921"
             ]
            ],
            "type": "histogram2dcontour"
           }
          ],
          "mesh3d": [
           {
            "colorbar": {
             "outlinewidth": 0,
             "ticks": ""
            },
            "type": "mesh3d"
           }
          ],
          "parcoords": [
           {
            "line": {
             "colorbar": {
              "outlinewidth": 0,
              "ticks": ""
             }
            },
            "type": "parcoords"
           }
          ],
          "pie": [
           {
            "automargin": true,
            "type": "pie"
           }
          ],
          "scatter": [
           {
            "fillpattern": {
             "fillmode": "overlay",
             "size": 10,
             "solidity": 0.2
            },
            "type": "scatter"
           }
          ],
          "scatter3d": [
           {
            "line": {
             "colorbar": {
              "outlinewidth": 0,
              "ticks": ""
             }
            },
            "marker": {
             "colorbar": {
              "outlinewidth": 0,
              "ticks": ""
             }
            },
            "type": "scatter3d"
           }
          ],
          "scattercarpet": [
           {
            "marker": {
             "colorbar": {
              "outlinewidth": 0,
              "ticks": ""
             }
            },
            "type": "scattercarpet"
           }
          ],
          "scattergeo": [
           {
            "marker": {
             "colorbar": {
              "outlinewidth": 0,
              "ticks": ""
             }
            },
            "type": "scattergeo"
           }
          ],
          "scattergl": [
           {
            "marker": {
             "colorbar": {
              "outlinewidth": 0,
              "ticks": ""
             }
            },
            "type": "scattergl"
           }
          ],
          "scattermapbox": [
           {
            "marker": {
             "colorbar": {
              "outlinewidth": 0,
              "ticks": ""
             }
            },
            "type": "scattermapbox"
           }
          ],
          "scatterpolar": [
           {
            "marker": {
             "colorbar": {
              "outlinewidth": 0,
              "ticks": ""
             }
            },
            "type": "scatterpolar"
           }
          ],
          "scatterpolargl": [
           {
            "marker": {
             "colorbar": {
              "outlinewidth": 0,
              "ticks": ""
             }
            },
            "type": "scatterpolargl"
           }
          ],
          "scatterternary": [
           {
            "marker": {
             "colorbar": {
              "outlinewidth": 0,
              "ticks": ""
             }
            },
            "type": "scatterternary"
           }
          ],
          "surface": [
           {
            "colorbar": {
             "outlinewidth": 0,
             "ticks": ""
            },
            "colorscale": [
             [
              0,
              "#0d0887"
             ],
             [
              0.1111111111111111,
              "#46039f"
             ],
             [
              0.2222222222222222,
              "#7201a8"
             ],
             [
              0.3333333333333333,
              "#9c179e"
             ],
             [
              0.4444444444444444,
              "#bd3786"
             ],
             [
              0.5555555555555556,
              "#d8576b"
             ],
             [
              0.6666666666666666,
              "#ed7953"
             ],
             [
              0.7777777777777778,
              "#fb9f3a"
             ],
             [
              0.8888888888888888,
              "#fdca26"
             ],
             [
              1,
              "#f0f921"
             ]
            ],
            "type": "surface"
           }
          ],
          "table": [
           {
            "cells": {
             "fill": {
              "color": "#EBF0F8"
             },
             "line": {
              "color": "white"
             }
            },
            "header": {
             "fill": {
              "color": "#C8D4E3"
             },
             "line": {
              "color": "white"
             }
            },
            "type": "table"
           }
          ]
         },
         "layout": {
          "annotationdefaults": {
           "arrowcolor": "#2a3f5f",
           "arrowhead": 0,
           "arrowwidth": 1
          },
          "autotypenumbers": "strict",
          "coloraxis": {
           "colorbar": {
            "outlinewidth": 0,
            "ticks": ""
           }
          },
          "colorscale": {
           "diverging": [
            [
             0,
             "#8e0152"
            ],
            [
             0.1,
             "#c51b7d"
            ],
            [
             0.2,
             "#de77ae"
            ],
            [
             0.3,
             "#f1b6da"
            ],
            [
             0.4,
             "#fde0ef"
            ],
            [
             0.5,
             "#f7f7f7"
            ],
            [
             0.6,
             "#e6f5d0"
            ],
            [
             0.7,
             "#b8e186"
            ],
            [
             0.8,
             "#7fbc41"
            ],
            [
             0.9,
             "#4d9221"
            ],
            [
             1,
             "#276419"
            ]
           ],
           "sequential": [
            [
             0,
             "#0d0887"
            ],
            [
             0.1111111111111111,
             "#46039f"
            ],
            [
             0.2222222222222222,
             "#7201a8"
            ],
            [
             0.3333333333333333,
             "#9c179e"
            ],
            [
             0.4444444444444444,
             "#bd3786"
            ],
            [
             0.5555555555555556,
             "#d8576b"
            ],
            [
             0.6666666666666666,
             "#ed7953"
            ],
            [
             0.7777777777777778,
             "#fb9f3a"
            ],
            [
             0.8888888888888888,
             "#fdca26"
            ],
            [
             1,
             "#f0f921"
            ]
           ],
           "sequentialminus": [
            [
             0,
             "#0d0887"
            ],
            [
             0.1111111111111111,
             "#46039f"
            ],
            [
             0.2222222222222222,
             "#7201a8"
            ],
            [
             0.3333333333333333,
             "#9c179e"
            ],
            [
             0.4444444444444444,
             "#bd3786"
            ],
            [
             0.5555555555555556,
             "#d8576b"
            ],
            [
             0.6666666666666666,
             "#ed7953"
            ],
            [
             0.7777777777777778,
             "#fb9f3a"
            ],
            [
             0.8888888888888888,
             "#fdca26"
            ],
            [
             1,
             "#f0f921"
            ]
           ]
          },
          "colorway": [
           "#636efa",
           "#EF553B",
           "#00cc96",
           "#ab63fa",
           "#FFA15A",
           "#19d3f3",
           "#FF6692",
           "#B6E880",
           "#FF97FF",
           "#FECB52"
          ],
          "font": {
           "color": "#2a3f5f"
          },
          "geo": {
           "bgcolor": "white",
           "lakecolor": "white",
           "landcolor": "#E5ECF6",
           "showlakes": true,
           "showland": true,
           "subunitcolor": "white"
          },
          "hoverlabel": {
           "align": "left"
          },
          "hovermode": "closest",
          "mapbox": {
           "style": "light"
          },
          "paper_bgcolor": "white",
          "plot_bgcolor": "#E5ECF6",
          "polar": {
           "angularaxis": {
            "gridcolor": "white",
            "linecolor": "white",
            "ticks": ""
           },
           "bgcolor": "#E5ECF6",
           "radialaxis": {
            "gridcolor": "white",
            "linecolor": "white",
            "ticks": ""
           }
          },
          "scene": {
           "xaxis": {
            "backgroundcolor": "#E5ECF6",
            "gridcolor": "white",
            "gridwidth": 2,
            "linecolor": "white",
            "showbackground": true,
            "ticks": "",
            "zerolinecolor": "white"
           },
           "yaxis": {
            "backgroundcolor": "#E5ECF6",
            "gridcolor": "white",
            "gridwidth": 2,
            "linecolor": "white",
            "showbackground": true,
            "ticks": "",
            "zerolinecolor": "white"
           },
           "zaxis": {
            "backgroundcolor": "#E5ECF6",
            "gridcolor": "white",
            "gridwidth": 2,
            "linecolor": "white",
            "showbackground": true,
            "ticks": "",
            "zerolinecolor": "white"
           }
          },
          "shapedefaults": {
           "line": {
            "color": "#2a3f5f"
           }
          },
          "ternary": {
           "aaxis": {
            "gridcolor": "white",
            "linecolor": "white",
            "ticks": ""
           },
           "baxis": {
            "gridcolor": "white",
            "linecolor": "white",
            "ticks": ""
           },
           "bgcolor": "#E5ECF6",
           "caxis": {
            "gridcolor": "white",
            "linecolor": "white",
            "ticks": ""
           }
          },
          "title": {
           "x": 0.05
          },
          "xaxis": {
           "automargin": true,
           "gridcolor": "white",
           "linecolor": "white",
           "ticks": "",
           "title": {
            "standoff": 15
           },
           "zerolinecolor": "white",
           "zerolinewidth": 2
          },
          "yaxis": {
           "automargin": true,
           "gridcolor": "white",
           "linecolor": "white",
           "ticks": "",
           "title": {
            "standoff": 15
           },
           "zerolinecolor": "white",
           "zerolinewidth": 2
          }
         }
        },
        "xaxis": {
         "anchor": "y",
         "domain": [
          0,
          1
         ],
         "title": {
          "text": "match_id"
         }
        },
        "yaxis": {
         "anchor": "x",
         "domain": [
          0,
          1
         ],
         "title": {
          "text": "sum of total_goals_in_match"
         }
        }
       }
      }
     },
     "metadata": {},
     "output_type": "display_data"
    }
   ],
   "source": [
    "# matches[\"total_goals_in_match\"]\n",
    "px.histogram(matches, x=\"match_id\", y=\"total_goals_in_match\").show()"
   ]
  },
  {
   "cell_type": "code",
   "execution_count": 34,
   "metadata": {},
   "outputs": [
    {
     "data": {
      "application/vnd.plotly.v1+json": {
       "config": {
        "plotlyServerURL": "https://plot.ly"
       },
       "data": [
        {
         "alignmentgroup": "True",
         "hovertemplate": "tournament_id=%{x}<br>minute_actual=%{y}<extra></extra>",
         "legendgroup": "",
         "marker": {
          "color": "#636efa",
          "pattern": {
           "shape": ""
          }
         },
         "name": "",
         "offsetgroup": "",
         "orientation": "v",
         "showlegend": false,
         "textposition": "auto",
         "type": "bar",
         "x": [
          "WC-1930",
          "WC-1934",
          null,
          "WC-1938",
          null,
          null,
          "WC-1950",
          "WC-1954",
          null,
          null,
          null,
          null,
          null,
          null,
          null,
          "WC-1958",
          null,
          null,
          null,
          null,
          null,
          null,
          "WC-1962",
          null,
          null,
          null,
          null,
          "WC-1966",
          null,
          null,
          null,
          "WC-1970",
          "WC-1974",
          "WC-1978",
          null,
          "WC-1982",
          null,
          null,
          "WC-1986",
          "WC-1990",
          "WC-1994",
          "WC-1998",
          "WC-2002",
          "WC-2006",
          null,
          "WC-2010",
          "WC-2014",
          "WC-2018",
          "WC-2022"
         ],
         "xaxis": "x",
         "y": [
          65,
          18,
          29,
          35,
          44,
          89,
          17,
          18,
          30,
          54,
          60,
          69,
          78,
          84,
          85,
          4,
          18,
          24,
          32,
          44,
          52,
          55,
          17,
          29,
          56,
          73,
          90,
          15,
          43,
          75,
          88,
          76,
          18,
          43,
          45,
          68,
          75,
          83,
          62,
          81,
          90,
          46,
          88,
          6,
          84,
          89,
          82,
          51,
          48
         ],
         "yaxis": "y"
        }
       ],
       "layout": {
        "barmode": "relative",
        "legend": {
         "tracegroupgap": 0
        },
        "margin": {
         "t": 60
        },
        "template": {
         "data": {
          "bar": [
           {
            "error_x": {
             "color": "#2a3f5f"
            },
            "error_y": {
             "color": "#2a3f5f"
            },
            "marker": {
             "line": {
              "color": "#E5ECF6",
              "width": 0.5
             },
             "pattern": {
              "fillmode": "overlay",
              "size": 10,
              "solidity": 0.2
             }
            },
            "type": "bar"
           }
          ],
          "barpolar": [
           {
            "marker": {
             "line": {
              "color": "#E5ECF6",
              "width": 0.5
             },
             "pattern": {
              "fillmode": "overlay",
              "size": 10,
              "solidity": 0.2
             }
            },
            "type": "barpolar"
           }
          ],
          "carpet": [
           {
            "aaxis": {
             "endlinecolor": "#2a3f5f",
             "gridcolor": "white",
             "linecolor": "white",
             "minorgridcolor": "white",
             "startlinecolor": "#2a3f5f"
            },
            "baxis": {
             "endlinecolor": "#2a3f5f",
             "gridcolor": "white",
             "linecolor": "white",
             "minorgridcolor": "white",
             "startlinecolor": "#2a3f5f"
            },
            "type": "carpet"
           }
          ],
          "choropleth": [
           {
            "colorbar": {
             "outlinewidth": 0,
             "ticks": ""
            },
            "type": "choropleth"
           }
          ],
          "contour": [
           {
            "colorbar": {
             "outlinewidth": 0,
             "ticks": ""
            },
            "colorscale": [
             [
              0,
              "#0d0887"
             ],
             [
              0.1111111111111111,
              "#46039f"
             ],
             [
              0.2222222222222222,
              "#7201a8"
             ],
             [
              0.3333333333333333,
              "#9c179e"
             ],
             [
              0.4444444444444444,
              "#bd3786"
             ],
             [
              0.5555555555555556,
              "#d8576b"
             ],
             [
              0.6666666666666666,
              "#ed7953"
             ],
             [
              0.7777777777777778,
              "#fb9f3a"
             ],
             [
              0.8888888888888888,
              "#fdca26"
             ],
             [
              1,
              "#f0f921"
             ]
            ],
            "type": "contour"
           }
          ],
          "contourcarpet": [
           {
            "colorbar": {
             "outlinewidth": 0,
             "ticks": ""
            },
            "type": "contourcarpet"
           }
          ],
          "heatmap": [
           {
            "colorbar": {
             "outlinewidth": 0,
             "ticks": ""
            },
            "colorscale": [
             [
              0,
              "#0d0887"
             ],
             [
              0.1111111111111111,
              "#46039f"
             ],
             [
              0.2222222222222222,
              "#7201a8"
             ],
             [
              0.3333333333333333,
              "#9c179e"
             ],
             [
              0.4444444444444444,
              "#bd3786"
             ],
             [
              0.5555555555555556,
              "#d8576b"
             ],
             [
              0.6666666666666666,
              "#ed7953"
             ],
             [
              0.7777777777777778,
              "#fb9f3a"
             ],
             [
              0.8888888888888888,
              "#fdca26"
             ],
             [
              1,
              "#f0f921"
             ]
            ],
            "type": "heatmap"
           }
          ],
          "heatmapgl": [
           {
            "colorbar": {
             "outlinewidth": 0,
             "ticks": ""
            },
            "colorscale": [
             [
              0,
              "#0d0887"
             ],
             [
              0.1111111111111111,
              "#46039f"
             ],
             [
              0.2222222222222222,
              "#7201a8"
             ],
             [
              0.3333333333333333,
              "#9c179e"
             ],
             [
              0.4444444444444444,
              "#bd3786"
             ],
             [
              0.5555555555555556,
              "#d8576b"
             ],
             [
              0.6666666666666666,
              "#ed7953"
             ],
             [
              0.7777777777777778,
              "#fb9f3a"
             ],
             [
              0.8888888888888888,
              "#fdca26"
             ],
             [
              1,
              "#f0f921"
             ]
            ],
            "type": "heatmapgl"
           }
          ],
          "histogram": [
           {
            "marker": {
             "pattern": {
              "fillmode": "overlay",
              "size": 10,
              "solidity": 0.2
             }
            },
            "type": "histogram"
           }
          ],
          "histogram2d": [
           {
            "colorbar": {
             "outlinewidth": 0,
             "ticks": ""
            },
            "colorscale": [
             [
              0,
              "#0d0887"
             ],
             [
              0.1111111111111111,
              "#46039f"
             ],
             [
              0.2222222222222222,
              "#7201a8"
             ],
             [
              0.3333333333333333,
              "#9c179e"
             ],
             [
              0.4444444444444444,
              "#bd3786"
             ],
             [
              0.5555555555555556,
              "#d8576b"
             ],
             [
              0.6666666666666666,
              "#ed7953"
             ],
             [
              0.7777777777777778,
              "#fb9f3a"
             ],
             [
              0.8888888888888888,
              "#fdca26"
             ],
             [
              1,
              "#f0f921"
             ]
            ],
            "type": "histogram2d"
           }
          ],
          "histogram2dcontour": [
           {
            "colorbar": {
             "outlinewidth": 0,
             "ticks": ""
            },
            "colorscale": [
             [
              0,
              "#0d0887"
             ],
             [
              0.1111111111111111,
              "#46039f"
             ],
             [
              0.2222222222222222,
              "#7201a8"
             ],
             [
              0.3333333333333333,
              "#9c179e"
             ],
             [
              0.4444444444444444,
              "#bd3786"
             ],
             [
              0.5555555555555556,
              "#d8576b"
             ],
             [
              0.6666666666666666,
              "#ed7953"
             ],
             [
              0.7777777777777778,
              "#fb9f3a"
             ],
             [
              0.8888888888888888,
              "#fdca26"
             ],
             [
              1,
              "#f0f921"
             ]
            ],
            "type": "histogram2dcontour"
           }
          ],
          "mesh3d": [
           {
            "colorbar": {
             "outlinewidth": 0,
             "ticks": ""
            },
            "type": "mesh3d"
           }
          ],
          "parcoords": [
           {
            "line": {
             "colorbar": {
              "outlinewidth": 0,
              "ticks": ""
             }
            },
            "type": "parcoords"
           }
          ],
          "pie": [
           {
            "automargin": true,
            "type": "pie"
           }
          ],
          "scatter": [
           {
            "fillpattern": {
             "fillmode": "overlay",
             "size": 10,
             "solidity": 0.2
            },
            "type": "scatter"
           }
          ],
          "scatter3d": [
           {
            "line": {
             "colorbar": {
              "outlinewidth": 0,
              "ticks": ""
             }
            },
            "marker": {
             "colorbar": {
              "outlinewidth": 0,
              "ticks": ""
             }
            },
            "type": "scatter3d"
           }
          ],
          "scattercarpet": [
           {
            "marker": {
             "colorbar": {
              "outlinewidth": 0,
              "ticks": ""
             }
            },
            "type": "scattercarpet"
           }
          ],
          "scattergeo": [
           {
            "marker": {
             "colorbar": {
              "outlinewidth": 0,
              "ticks": ""
             }
            },
            "type": "scattergeo"
           }
          ],
          "scattergl": [
           {
            "marker": {
             "colorbar": {
              "outlinewidth": 0,
              "ticks": ""
             }
            },
            "type": "scattergl"
           }
          ],
          "scattermapbox": [
           {
            "marker": {
             "colorbar": {
              "outlinewidth": 0,
              "ticks": ""
             }
            },
            "type": "scattermapbox"
           }
          ],
          "scatterpolar": [
           {
            "marker": {
             "colorbar": {
              "outlinewidth": 0,
              "ticks": ""
             }
            },
            "type": "scatterpolar"
           }
          ],
          "scatterpolargl": [
           {
            "marker": {
             "colorbar": {
              "outlinewidth": 0,
              "ticks": ""
             }
            },
            "type": "scatterpolargl"
           }
          ],
          "scatterternary": [
           {
            "marker": {
             "colorbar": {
              "outlinewidth": 0,
              "ticks": ""
             }
            },
            "type": "scatterternary"
           }
          ],
          "surface": [
           {
            "colorbar": {
             "outlinewidth": 0,
             "ticks": ""
            },
            "colorscale": [
             [
              0,
              "#0d0887"
             ],
             [
              0.1111111111111111,
              "#46039f"
             ],
             [
              0.2222222222222222,
              "#7201a8"
             ],
             [
              0.3333333333333333,
              "#9c179e"
             ],
             [
              0.4444444444444444,
              "#bd3786"
             ],
             [
              0.5555555555555556,
              "#d8576b"
             ],
             [
              0.6666666666666666,
              "#ed7953"
             ],
             [
              0.7777777777777778,
              "#fb9f3a"
             ],
             [
              0.8888888888888888,
              "#fdca26"
             ],
             [
              1,
              "#f0f921"
             ]
            ],
            "type": "surface"
           }
          ],
          "table": [
           {
            "cells": {
             "fill": {
              "color": "#EBF0F8"
             },
             "line": {
              "color": "white"
             }
            },
            "header": {
             "fill": {
              "color": "#C8D4E3"
             },
             "line": {
              "color": "white"
             }
            },
            "type": "table"
           }
          ]
         },
         "layout": {
          "annotationdefaults": {
           "arrowcolor": "#2a3f5f",
           "arrowhead": 0,
           "arrowwidth": 1
          },
          "autotypenumbers": "strict",
          "coloraxis": {
           "colorbar": {
            "outlinewidth": 0,
            "ticks": ""
           }
          },
          "colorscale": {
           "diverging": [
            [
             0,
             "#8e0152"
            ],
            [
             0.1,
             "#c51b7d"
            ],
            [
             0.2,
             "#de77ae"
            ],
            [
             0.3,
             "#f1b6da"
            ],
            [
             0.4,
             "#fde0ef"
            ],
            [
             0.5,
             "#f7f7f7"
            ],
            [
             0.6,
             "#e6f5d0"
            ],
            [
             0.7,
             "#b8e186"
            ],
            [
             0.8,
             "#7fbc41"
            ],
            [
             0.9,
             "#4d9221"
            ],
            [
             1,
             "#276419"
            ]
           ],
           "sequential": [
            [
             0,
             "#0d0887"
            ],
            [
             0.1111111111111111,
             "#46039f"
            ],
            [
             0.2222222222222222,
             "#7201a8"
            ],
            [
             0.3333333333333333,
             "#9c179e"
            ],
            [
             0.4444444444444444,
             "#bd3786"
            ],
            [
             0.5555555555555556,
             "#d8576b"
            ],
            [
             0.6666666666666666,
             "#ed7953"
            ],
            [
             0.7777777777777778,
             "#fb9f3a"
            ],
            [
             0.8888888888888888,
             "#fdca26"
            ],
            [
             1,
             "#f0f921"
            ]
           ],
           "sequentialminus": [
            [
             0,
             "#0d0887"
            ],
            [
             0.1111111111111111,
             "#46039f"
            ],
            [
             0.2222222222222222,
             "#7201a8"
            ],
            [
             0.3333333333333333,
             "#9c179e"
            ],
            [
             0.4444444444444444,
             "#bd3786"
            ],
            [
             0.5555555555555556,
             "#d8576b"
            ],
            [
             0.6666666666666666,
             "#ed7953"
            ],
            [
             0.7777777777777778,
             "#fb9f3a"
            ],
            [
             0.8888888888888888,
             "#fdca26"
            ],
            [
             1,
             "#f0f921"
            ]
           ]
          },
          "colorway": [
           "#636efa",
           "#EF553B",
           "#00cc96",
           "#ab63fa",
           "#FFA15A",
           "#19d3f3",
           "#FF6692",
           "#B6E880",
           "#FF97FF",
           "#FECB52"
          ],
          "font": {
           "color": "#2a3f5f"
          },
          "geo": {
           "bgcolor": "white",
           "lakecolor": "white",
           "landcolor": "#E5ECF6",
           "showlakes": true,
           "showland": true,
           "subunitcolor": "white"
          },
          "hoverlabel": {
           "align": "left"
          },
          "hovermode": "closest",
          "mapbox": {
           "style": "light"
          },
          "paper_bgcolor": "white",
          "plot_bgcolor": "#E5ECF6",
          "polar": {
           "angularaxis": {
            "gridcolor": "white",
            "linecolor": "white",
            "ticks": ""
           },
           "bgcolor": "#E5ECF6",
           "radialaxis": {
            "gridcolor": "white",
            "linecolor": "white",
            "ticks": ""
           }
          },
          "scene": {
           "xaxis": {
            "backgroundcolor": "#E5ECF6",
            "gridcolor": "white",
            "gridwidth": 2,
            "linecolor": "white",
            "showbackground": true,
            "ticks": "",
            "zerolinecolor": "white"
           },
           "yaxis": {
            "backgroundcolor": "#E5ECF6",
            "gridcolor": "white",
            "gridwidth": 2,
            "linecolor": "white",
            "showbackground": true,
            "ticks": "",
            "zerolinecolor": "white"
           },
           "zaxis": {
            "backgroundcolor": "#E5ECF6",
            "gridcolor": "white",
            "gridwidth": 2,
            "linecolor": "white",
            "showbackground": true,
            "ticks": "",
            "zerolinecolor": "white"
           }
          },
          "shapedefaults": {
           "line": {
            "color": "#2a3f5f"
           }
          },
          "ternary": {
           "aaxis": {
            "gridcolor": "white",
            "linecolor": "white",
            "ticks": ""
           },
           "baxis": {
            "gridcolor": "white",
            "linecolor": "white",
            "ticks": ""
           },
           "bgcolor": "#E5ECF6",
           "caxis": {
            "gridcolor": "white",
            "linecolor": "white",
            "ticks": ""
           }
          },
          "title": {
           "x": 0.05
          },
          "xaxis": {
           "automargin": true,
           "gridcolor": "white",
           "linecolor": "white",
           "ticks": "",
           "title": {
            "standoff": 15
           },
           "zerolinecolor": "white",
           "zerolinewidth": 2
          },
          "yaxis": {
           "automargin": true,
           "gridcolor": "white",
           "linecolor": "white",
           "ticks": "",
           "title": {
            "standoff": 15
           },
           "zerolinecolor": "white",
           "zerolinewidth": 2
          }
         }
        },
        "xaxis": {
         "anchor": "y",
         "domain": [
          0,
          1
         ],
         "title": {
          "text": "tournament_id"
         }
        },
        "yaxis": {
         "anchor": "x",
         "domain": [
          0,
          1
         ],
         "range": [
          0,
          120
         ],
         "title": {
          "text": "minute_actual"
         }
        }
       }
      }
     },
     "metadata": {},
     "output_type": "display_data"
    }
   ],
   "source": [
    "goals[\"minute_actual\"] = goals[\"minute_regulation\"] + goals[\"minute_stoppage\"]\n",
    "goals_min = goals[[\"tournament_id\", \"minute_actual\"]].groupby(\"tournament_id\").apply(lambda x: x.mode())\n",
    "px.bar(goals_min,x=\"tournament_id\", y=\"minute_actual\", range_y=[0, 120] )"
   ]
  },
  {
   "cell_type": "code",
   "execution_count": 71,
   "metadata": {},
   "outputs": [
    {
     "data": {
      "application/vnd.plotly.v1+json": {
       "config": {
        "plotlyServerURL": "https://plot.ly"
       },
       "data": [
        {
         "alignmentgroup": "True",
         "bingroup": "x",
         "hovertemplate": "variable=goal_id<br>value=%{x}<br>count=%{y}<extra></extra>",
         "legendgroup": "goal_id",
         "marker": {
          "color": "#636efa",
          "pattern": {
           "shape": ""
          }
         },
         "name": "goal_id",
         "nbinsx": 50,
         "offsetgroup": "goal_id",
         "orientation": "v",
         "showlegend": true,
         "type": "histogram",
         "x": [
          7,
          3,
          9,
          8,
          12,
          10,
          9,
          10,
          8,
          9,
          4,
          7,
          8,
          16,
          18,
          23,
          19,
          22,
          17,
          24,
          30,
          24
         ],
         "xaxis": "x",
         "yaxis": "y"
        }
       ],
       "layout": {
        "barmode": "relative",
        "legend": {
         "title": {
          "text": "variable"
         },
         "tracegroupgap": 0
        },
        "margin": {
         "t": 60
        },
        "template": {
         "data": {
          "bar": [
           {
            "error_x": {
             "color": "#2a3f5f"
            },
            "error_y": {
             "color": "#2a3f5f"
            },
            "marker": {
             "line": {
              "color": "#E5ECF6",
              "width": 0.5
             },
             "pattern": {
              "fillmode": "overlay",
              "size": 10,
              "solidity": 0.2
             }
            },
            "type": "bar"
           }
          ],
          "barpolar": [
           {
            "marker": {
             "line": {
              "color": "#E5ECF6",
              "width": 0.5
             },
             "pattern": {
              "fillmode": "overlay",
              "size": 10,
              "solidity": 0.2
             }
            },
            "type": "barpolar"
           }
          ],
          "carpet": [
           {
            "aaxis": {
             "endlinecolor": "#2a3f5f",
             "gridcolor": "white",
             "linecolor": "white",
             "minorgridcolor": "white",
             "startlinecolor": "#2a3f5f"
            },
            "baxis": {
             "endlinecolor": "#2a3f5f",
             "gridcolor": "white",
             "linecolor": "white",
             "minorgridcolor": "white",
             "startlinecolor": "#2a3f5f"
            },
            "type": "carpet"
           }
          ],
          "choropleth": [
           {
            "colorbar": {
             "outlinewidth": 0,
             "ticks": ""
            },
            "type": "choropleth"
           }
          ],
          "contour": [
           {
            "colorbar": {
             "outlinewidth": 0,
             "ticks": ""
            },
            "colorscale": [
             [
              0,
              "#0d0887"
             ],
             [
              0.1111111111111111,
              "#46039f"
             ],
             [
              0.2222222222222222,
              "#7201a8"
             ],
             [
              0.3333333333333333,
              "#9c179e"
             ],
             [
              0.4444444444444444,
              "#bd3786"
             ],
             [
              0.5555555555555556,
              "#d8576b"
             ],
             [
              0.6666666666666666,
              "#ed7953"
             ],
             [
              0.7777777777777778,
              "#fb9f3a"
             ],
             [
              0.8888888888888888,
              "#fdca26"
             ],
             [
              1,
              "#f0f921"
             ]
            ],
            "type": "contour"
           }
          ],
          "contourcarpet": [
           {
            "colorbar": {
             "outlinewidth": 0,
             "ticks": ""
            },
            "type": "contourcarpet"
           }
          ],
          "heatmap": [
           {
            "colorbar": {
             "outlinewidth": 0,
             "ticks": ""
            },
            "colorscale": [
             [
              0,
              "#0d0887"
             ],
             [
              0.1111111111111111,
              "#46039f"
             ],
             [
              0.2222222222222222,
              "#7201a8"
             ],
             [
              0.3333333333333333,
              "#9c179e"
             ],
             [
              0.4444444444444444,
              "#bd3786"
             ],
             [
              0.5555555555555556,
              "#d8576b"
             ],
             [
              0.6666666666666666,
              "#ed7953"
             ],
             [
              0.7777777777777778,
              "#fb9f3a"
             ],
             [
              0.8888888888888888,
              "#fdca26"
             ],
             [
              1,
              "#f0f921"
             ]
            ],
            "type": "heatmap"
           }
          ],
          "heatmapgl": [
           {
            "colorbar": {
             "outlinewidth": 0,
             "ticks": ""
            },
            "colorscale": [
             [
              0,
              "#0d0887"
             ],
             [
              0.1111111111111111,
              "#46039f"
             ],
             [
              0.2222222222222222,
              "#7201a8"
             ],
             [
              0.3333333333333333,
              "#9c179e"
             ],
             [
              0.4444444444444444,
              "#bd3786"
             ],
             [
              0.5555555555555556,
              "#d8576b"
             ],
             [
              0.6666666666666666,
              "#ed7953"
             ],
             [
              0.7777777777777778,
              "#fb9f3a"
             ],
             [
              0.8888888888888888,
              "#fdca26"
             ],
             [
              1,
              "#f0f921"
             ]
            ],
            "type": "heatmapgl"
           }
          ],
          "histogram": [
           {
            "marker": {
             "pattern": {
              "fillmode": "overlay",
              "size": 10,
              "solidity": 0.2
             }
            },
            "type": "histogram"
           }
          ],
          "histogram2d": [
           {
            "colorbar": {
             "outlinewidth": 0,
             "ticks": ""
            },
            "colorscale": [
             [
              0,
              "#0d0887"
             ],
             [
              0.1111111111111111,
              "#46039f"
             ],
             [
              0.2222222222222222,
              "#7201a8"
             ],
             [
              0.3333333333333333,
              "#9c179e"
             ],
             [
              0.4444444444444444,
              "#bd3786"
             ],
             [
              0.5555555555555556,
              "#d8576b"
             ],
             [
              0.6666666666666666,
              "#ed7953"
             ],
             [
              0.7777777777777778,
              "#fb9f3a"
             ],
             [
              0.8888888888888888,
              "#fdca26"
             ],
             [
              1,
              "#f0f921"
             ]
            ],
            "type": "histogram2d"
           }
          ],
          "histogram2dcontour": [
           {
            "colorbar": {
             "outlinewidth": 0,
             "ticks": ""
            },
            "colorscale": [
             [
              0,
              "#0d0887"
             ],
             [
              0.1111111111111111,
              "#46039f"
             ],
             [
              0.2222222222222222,
              "#7201a8"
             ],
             [
              0.3333333333333333,
              "#9c179e"
             ],
             [
              0.4444444444444444,
              "#bd3786"
             ],
             [
              0.5555555555555556,
              "#d8576b"
             ],
             [
              0.6666666666666666,
              "#ed7953"
             ],
             [
              0.7777777777777778,
              "#fb9f3a"
             ],
             [
              0.8888888888888888,
              "#fdca26"
             ],
             [
              1,
              "#f0f921"
             ]
            ],
            "type": "histogram2dcontour"
           }
          ],
          "mesh3d": [
           {
            "colorbar": {
             "outlinewidth": 0,
             "ticks": ""
            },
            "type": "mesh3d"
           }
          ],
          "parcoords": [
           {
            "line": {
             "colorbar": {
              "outlinewidth": 0,
              "ticks": ""
             }
            },
            "type": "parcoords"
           }
          ],
          "pie": [
           {
            "automargin": true,
            "type": "pie"
           }
          ],
          "scatter": [
           {
            "fillpattern": {
             "fillmode": "overlay",
             "size": 10,
             "solidity": 0.2
            },
            "type": "scatter"
           }
          ],
          "scatter3d": [
           {
            "line": {
             "colorbar": {
              "outlinewidth": 0,
              "ticks": ""
             }
            },
            "marker": {
             "colorbar": {
              "outlinewidth": 0,
              "ticks": ""
             }
            },
            "type": "scatter3d"
           }
          ],
          "scattercarpet": [
           {
            "marker": {
             "colorbar": {
              "outlinewidth": 0,
              "ticks": ""
             }
            },
            "type": "scattercarpet"
           }
          ],
          "scattergeo": [
           {
            "marker": {
             "colorbar": {
              "outlinewidth": 0,
              "ticks": ""
             }
            },
            "type": "scattergeo"
           }
          ],
          "scattergl": [
           {
            "marker": {
             "colorbar": {
              "outlinewidth": 0,
              "ticks": ""
             }
            },
            "type": "scattergl"
           }
          ],
          "scattermapbox": [
           {
            "marker": {
             "colorbar": {
              "outlinewidth": 0,
              "ticks": ""
             }
            },
            "type": "scattermapbox"
           }
          ],
          "scatterpolar": [
           {
            "marker": {
             "colorbar": {
              "outlinewidth": 0,
              "ticks": ""
             }
            },
            "type": "scatterpolar"
           }
          ],
          "scatterpolargl": [
           {
            "marker": {
             "colorbar": {
              "outlinewidth": 0,
              "ticks": ""
             }
            },
            "type": "scatterpolargl"
           }
          ],
          "scatterternary": [
           {
            "marker": {
             "colorbar": {
              "outlinewidth": 0,
              "ticks": ""
             }
            },
            "type": "scatterternary"
           }
          ],
          "surface": [
           {
            "colorbar": {
             "outlinewidth": 0,
             "ticks": ""
            },
            "colorscale": [
             [
              0,
              "#0d0887"
             ],
             [
              0.1111111111111111,
              "#46039f"
             ],
             [
              0.2222222222222222,
              "#7201a8"
             ],
             [
              0.3333333333333333,
              "#9c179e"
             ],
             [
              0.4444444444444444,
              "#bd3786"
             ],
             [
              0.5555555555555556,
              "#d8576b"
             ],
             [
              0.6666666666666666,
              "#ed7953"
             ],
             [
              0.7777777777777778,
              "#fb9f3a"
             ],
             [
              0.8888888888888888,
              "#fdca26"
             ],
             [
              1,
              "#f0f921"
             ]
            ],
            "type": "surface"
           }
          ],
          "table": [
           {
            "cells": {
             "fill": {
              "color": "#EBF0F8"
             },
             "line": {
              "color": "white"
             }
            },
            "header": {
             "fill": {
              "color": "#C8D4E3"
             },
             "line": {
              "color": "white"
             }
            },
            "type": "table"
           }
          ]
         },
         "layout": {
          "annotationdefaults": {
           "arrowcolor": "#2a3f5f",
           "arrowhead": 0,
           "arrowwidth": 1
          },
          "autotypenumbers": "strict",
          "coloraxis": {
           "colorbar": {
            "outlinewidth": 0,
            "ticks": ""
           }
          },
          "colorscale": {
           "diverging": [
            [
             0,
             "#8e0152"
            ],
            [
             0.1,
             "#c51b7d"
            ],
            [
             0.2,
             "#de77ae"
            ],
            [
             0.3,
             "#f1b6da"
            ],
            [
             0.4,
             "#fde0ef"
            ],
            [
             0.5,
             "#f7f7f7"
            ],
            [
             0.6,
             "#e6f5d0"
            ],
            [
             0.7,
             "#b8e186"
            ],
            [
             0.8,
             "#7fbc41"
            ],
            [
             0.9,
             "#4d9221"
            ],
            [
             1,
             "#276419"
            ]
           ],
           "sequential": [
            [
             0,
             "#0d0887"
            ],
            [
             0.1111111111111111,
             "#46039f"
            ],
            [
             0.2222222222222222,
             "#7201a8"
            ],
            [
             0.3333333333333333,
             "#9c179e"
            ],
            [
             0.4444444444444444,
             "#bd3786"
            ],
            [
             0.5555555555555556,
             "#d8576b"
            ],
            [
             0.6666666666666666,
             "#ed7953"
            ],
            [
             0.7777777777777778,
             "#fb9f3a"
            ],
            [
             0.8888888888888888,
             "#fdca26"
            ],
            [
             1,
             "#f0f921"
            ]
           ],
           "sequentialminus": [
            [
             0,
             "#0d0887"
            ],
            [
             0.1111111111111111,
             "#46039f"
            ],
            [
             0.2222222222222222,
             "#7201a8"
            ],
            [
             0.3333333333333333,
             "#9c179e"
            ],
            [
             0.4444444444444444,
             "#bd3786"
            ],
            [
             0.5555555555555556,
             "#d8576b"
            ],
            [
             0.6666666666666666,
             "#ed7953"
            ],
            [
             0.7777777777777778,
             "#fb9f3a"
            ],
            [
             0.8888888888888888,
             "#fdca26"
            ],
            [
             1,
             "#f0f921"
            ]
           ]
          },
          "colorway": [
           "#636efa",
           "#EF553B",
           "#00cc96",
           "#ab63fa",
           "#FFA15A",
           "#19d3f3",
           "#FF6692",
           "#B6E880",
           "#FF97FF",
           "#FECB52"
          ],
          "font": {
           "color": "#2a3f5f"
          },
          "geo": {
           "bgcolor": "white",
           "lakecolor": "white",
           "landcolor": "#E5ECF6",
           "showlakes": true,
           "showland": true,
           "subunitcolor": "white"
          },
          "hoverlabel": {
           "align": "left"
          },
          "hovermode": "closest",
          "mapbox": {
           "style": "light"
          },
          "paper_bgcolor": "white",
          "plot_bgcolor": "#E5ECF6",
          "polar": {
           "angularaxis": {
            "gridcolor": "white",
            "linecolor": "white",
            "ticks": ""
           },
           "bgcolor": "#E5ECF6",
           "radialaxis": {
            "gridcolor": "white",
            "linecolor": "white",
            "ticks": ""
           }
          },
          "scene": {
           "xaxis": {
            "backgroundcolor": "#E5ECF6",
            "gridcolor": "white",
            "gridwidth": 2,
            "linecolor": "white",
            "showbackground": true,
            "ticks": "",
            "zerolinecolor": "white"
           },
           "yaxis": {
            "backgroundcolor": "#E5ECF6",
            "gridcolor": "white",
            "gridwidth": 2,
            "linecolor": "white",
            "showbackground": true,
            "ticks": "",
            "zerolinecolor": "white"
           },
           "zaxis": {
            "backgroundcolor": "#E5ECF6",
            "gridcolor": "white",
            "gridwidth": 2,
            "linecolor": "white",
            "showbackground": true,
            "ticks": "",
            "zerolinecolor": "white"
           }
          },
          "shapedefaults": {
           "line": {
            "color": "#2a3f5f"
           }
          },
          "ternary": {
           "aaxis": {
            "gridcolor": "white",
            "linecolor": "white",
            "ticks": ""
           },
           "baxis": {
            "gridcolor": "white",
            "linecolor": "white",
            "ticks": ""
           },
           "bgcolor": "#E5ECF6",
           "caxis": {
            "gridcolor": "white",
            "linecolor": "white",
            "ticks": ""
           }
          },
          "title": {
           "x": 0.05
          },
          "xaxis": {
           "automargin": true,
           "gridcolor": "white",
           "linecolor": "white",
           "ticks": "",
           "title": {
            "standoff": 15
           },
           "zerolinecolor": "white",
           "zerolinewidth": 2
          },
          "yaxis": {
           "automargin": true,
           "gridcolor": "white",
           "linecolor": "white",
           "ticks": "",
           "title": {
            "standoff": 15
           },
           "zerolinecolor": "white",
           "zerolinewidth": 2
          }
         }
        },
        "xaxis": {
         "anchor": "y",
         "domain": [
          0,
          1
         ],
         "title": {
          "text": "value"
         }
        },
        "yaxis": {
         "anchor": "x",
         "domain": [
          0,
          1
         ],
         "title": {
          "text": "count"
         }
        }
       }
      }
     },
     "metadata": {},
     "output_type": "display_data"
    }
   ],
   "source": [
    "goals_count = goals[[\"goal_id\", \"tournament_id\"]][goals.late_goal == 1].groupby(\"tournament_id\").count()\n",
    "px.histogram(goals_count, nbins=50).show()\n"
   ]
  },
  {
   "cell_type": "code",
   "execution_count": 37,
   "metadata": {},
   "outputs": [],
   "source": [
    "# late_goals / total_goals"
   ]
  },
  {
   "cell_type": "code",
   "execution_count": 41,
   "metadata": {},
   "outputs": [
    {
     "data": {
      "application/vnd.plotly.v1+json": {
       "config": {
        "plotlyServerURL": "https://plot.ly"
       },
       "data": [
        {
         "alignmentgroup": "True",
         "hovertemplate": "variable=goal_id<br>player_id=%{x}<br>value=%{y}<extra></extra>",
         "legendgroup": "goal_id",
         "marker": {
          "color": "#636efa",
          "pattern": {
           "shape": ""
          }
         },
         "name": "goal_id",
         "offsetgroup": "goal_id",
         "orientation": "v",
         "showlegend": true,
         "textposition": "auto",
         "type": "bar",
         "x": [
          "P-05224",
          "P-08490",
          "P-02173",
          "P-02537",
          "P-03429",
          "P-06978",
          "P-09516",
          "P-06604",
          "P-06982",
          "P-00174",
          "P-00324",
          "P-01728"
         ],
         "xaxis": "x",
         "y": [
          16,
          15,
          14,
          13,
          13,
          12,
          12,
          11,
          11,
          10,
          10,
          10
         ],
         "yaxis": "y"
        }
       ],
       "layout": {
        "barmode": "relative",
        "legend": {
         "title": {
          "text": "variable"
         },
         "tracegroupgap": 0
        },
        "margin": {
         "t": 60
        },
        "template": {
         "data": {
          "bar": [
           {
            "error_x": {
             "color": "#2a3f5f"
            },
            "error_y": {
             "color": "#2a3f5f"
            },
            "marker": {
             "line": {
              "color": "#E5ECF6",
              "width": 0.5
             },
             "pattern": {
              "fillmode": "overlay",
              "size": 10,
              "solidity": 0.2
             }
            },
            "type": "bar"
           }
          ],
          "barpolar": [
           {
            "marker": {
             "line": {
              "color": "#E5ECF6",
              "width": 0.5
             },
             "pattern": {
              "fillmode": "overlay",
              "size": 10,
              "solidity": 0.2
             }
            },
            "type": "barpolar"
           }
          ],
          "carpet": [
           {
            "aaxis": {
             "endlinecolor": "#2a3f5f",
             "gridcolor": "white",
             "linecolor": "white",
             "minorgridcolor": "white",
             "startlinecolor": "#2a3f5f"
            },
            "baxis": {
             "endlinecolor": "#2a3f5f",
             "gridcolor": "white",
             "linecolor": "white",
             "minorgridcolor": "white",
             "startlinecolor": "#2a3f5f"
            },
            "type": "carpet"
           }
          ],
          "choropleth": [
           {
            "colorbar": {
             "outlinewidth": 0,
             "ticks": ""
            },
            "type": "choropleth"
           }
          ],
          "contour": [
           {
            "colorbar": {
             "outlinewidth": 0,
             "ticks": ""
            },
            "colorscale": [
             [
              0,
              "#0d0887"
             ],
             [
              0.1111111111111111,
              "#46039f"
             ],
             [
              0.2222222222222222,
              "#7201a8"
             ],
             [
              0.3333333333333333,
              "#9c179e"
             ],
             [
              0.4444444444444444,
              "#bd3786"
             ],
             [
              0.5555555555555556,
              "#d8576b"
             ],
             [
              0.6666666666666666,
              "#ed7953"
             ],
             [
              0.7777777777777778,
              "#fb9f3a"
             ],
             [
              0.8888888888888888,
              "#fdca26"
             ],
             [
              1,
              "#f0f921"
             ]
            ],
            "type": "contour"
           }
          ],
          "contourcarpet": [
           {
            "colorbar": {
             "outlinewidth": 0,
             "ticks": ""
            },
            "type": "contourcarpet"
           }
          ],
          "heatmap": [
           {
            "colorbar": {
             "outlinewidth": 0,
             "ticks": ""
            },
            "colorscale": [
             [
              0,
              "#0d0887"
             ],
             [
              0.1111111111111111,
              "#46039f"
             ],
             [
              0.2222222222222222,
              "#7201a8"
             ],
             [
              0.3333333333333333,
              "#9c179e"
             ],
             [
              0.4444444444444444,
              "#bd3786"
             ],
             [
              0.5555555555555556,
              "#d8576b"
             ],
             [
              0.6666666666666666,
              "#ed7953"
             ],
             [
              0.7777777777777778,
              "#fb9f3a"
             ],
             [
              0.8888888888888888,
              "#fdca26"
             ],
             [
              1,
              "#f0f921"
             ]
            ],
            "type": "heatmap"
           }
          ],
          "heatmapgl": [
           {
            "colorbar": {
             "outlinewidth": 0,
             "ticks": ""
            },
            "colorscale": [
             [
              0,
              "#0d0887"
             ],
             [
              0.1111111111111111,
              "#46039f"
             ],
             [
              0.2222222222222222,
              "#7201a8"
             ],
             [
              0.3333333333333333,
              "#9c179e"
             ],
             [
              0.4444444444444444,
              "#bd3786"
             ],
             [
              0.5555555555555556,
              "#d8576b"
             ],
             [
              0.6666666666666666,
              "#ed7953"
             ],
             [
              0.7777777777777778,
              "#fb9f3a"
             ],
             [
              0.8888888888888888,
              "#fdca26"
             ],
             [
              1,
              "#f0f921"
             ]
            ],
            "type": "heatmapgl"
           }
          ],
          "histogram": [
           {
            "marker": {
             "pattern": {
              "fillmode": "overlay",
              "size": 10,
              "solidity": 0.2
             }
            },
            "type": "histogram"
           }
          ],
          "histogram2d": [
           {
            "colorbar": {
             "outlinewidth": 0,
             "ticks": ""
            },
            "colorscale": [
             [
              0,
              "#0d0887"
             ],
             [
              0.1111111111111111,
              "#46039f"
             ],
             [
              0.2222222222222222,
              "#7201a8"
             ],
             [
              0.3333333333333333,
              "#9c179e"
             ],
             [
              0.4444444444444444,
              "#bd3786"
             ],
             [
              0.5555555555555556,
              "#d8576b"
             ],
             [
              0.6666666666666666,
              "#ed7953"
             ],
             [
              0.7777777777777778,
              "#fb9f3a"
             ],
             [
              0.8888888888888888,
              "#fdca26"
             ],
             [
              1,
              "#f0f921"
             ]
            ],
            "type": "histogram2d"
           }
          ],
          "histogram2dcontour": [
           {
            "colorbar": {
             "outlinewidth": 0,
             "ticks": ""
            },
            "colorscale": [
             [
              0,
              "#0d0887"
             ],
             [
              0.1111111111111111,
              "#46039f"
             ],
             [
              0.2222222222222222,
              "#7201a8"
             ],
             [
              0.3333333333333333,
              "#9c179e"
             ],
             [
              0.4444444444444444,
              "#bd3786"
             ],
             [
              0.5555555555555556,
              "#d8576b"
             ],
             [
              0.6666666666666666,
              "#ed7953"
             ],
             [
              0.7777777777777778,
              "#fb9f3a"
             ],
             [
              0.8888888888888888,
              "#fdca26"
             ],
             [
              1,
              "#f0f921"
             ]
            ],
            "type": "histogram2dcontour"
           }
          ],
          "mesh3d": [
           {
            "colorbar": {
             "outlinewidth": 0,
             "ticks": ""
            },
            "type": "mesh3d"
           }
          ],
          "parcoords": [
           {
            "line": {
             "colorbar": {
              "outlinewidth": 0,
              "ticks": ""
             }
            },
            "type": "parcoords"
           }
          ],
          "pie": [
           {
            "automargin": true,
            "type": "pie"
           }
          ],
          "scatter": [
           {
            "fillpattern": {
             "fillmode": "overlay",
             "size": 10,
             "solidity": 0.2
            },
            "type": "scatter"
           }
          ],
          "scatter3d": [
           {
            "line": {
             "colorbar": {
              "outlinewidth": 0,
              "ticks": ""
             }
            },
            "marker": {
             "colorbar": {
              "outlinewidth": 0,
              "ticks": ""
             }
            },
            "type": "scatter3d"
           }
          ],
          "scattercarpet": [
           {
            "marker": {
             "colorbar": {
              "outlinewidth": 0,
              "ticks": ""
             }
            },
            "type": "scattercarpet"
           }
          ],
          "scattergeo": [
           {
            "marker": {
             "colorbar": {
              "outlinewidth": 0,
              "ticks": ""
             }
            },
            "type": "scattergeo"
           }
          ],
          "scattergl": [
           {
            "marker": {
             "colorbar": {
              "outlinewidth": 0,
              "ticks": ""
             }
            },
            "type": "scattergl"
           }
          ],
          "scattermapbox": [
           {
            "marker": {
             "colorbar": {
              "outlinewidth": 0,
              "ticks": ""
             }
            },
            "type": "scattermapbox"
           }
          ],
          "scatterpolar": [
           {
            "marker": {
             "colorbar": {
              "outlinewidth": 0,
              "ticks": ""
             }
            },
            "type": "scatterpolar"
           }
          ],
          "scatterpolargl": [
           {
            "marker": {
             "colorbar": {
              "outlinewidth": 0,
              "ticks": ""
             }
            },
            "type": "scatterpolargl"
           }
          ],
          "scatterternary": [
           {
            "marker": {
             "colorbar": {
              "outlinewidth": 0,
              "ticks": ""
             }
            },
            "type": "scatterternary"
           }
          ],
          "surface": [
           {
            "colorbar": {
             "outlinewidth": 0,
             "ticks": ""
            },
            "colorscale": [
             [
              0,
              "#0d0887"
             ],
             [
              0.1111111111111111,
              "#46039f"
             ],
             [
              0.2222222222222222,
              "#7201a8"
             ],
             [
              0.3333333333333333,
              "#9c179e"
             ],
             [
              0.4444444444444444,
              "#bd3786"
             ],
             [
              0.5555555555555556,
              "#d8576b"
             ],
             [
              0.6666666666666666,
              "#ed7953"
             ],
             [
              0.7777777777777778,
              "#fb9f3a"
             ],
             [
              0.8888888888888888,
              "#fdca26"
             ],
             [
              1,
              "#f0f921"
             ]
            ],
            "type": "surface"
           }
          ],
          "table": [
           {
            "cells": {
             "fill": {
              "color": "#EBF0F8"
             },
             "line": {
              "color": "white"
             }
            },
            "header": {
             "fill": {
              "color": "#C8D4E3"
             },
             "line": {
              "color": "white"
             }
            },
            "type": "table"
           }
          ]
         },
         "layout": {
          "annotationdefaults": {
           "arrowcolor": "#2a3f5f",
           "arrowhead": 0,
           "arrowwidth": 1
          },
          "autotypenumbers": "strict",
          "coloraxis": {
           "colorbar": {
            "outlinewidth": 0,
            "ticks": ""
           }
          },
          "colorscale": {
           "diverging": [
            [
             0,
             "#8e0152"
            ],
            [
             0.1,
             "#c51b7d"
            ],
            [
             0.2,
             "#de77ae"
            ],
            [
             0.3,
             "#f1b6da"
            ],
            [
             0.4,
             "#fde0ef"
            ],
            [
             0.5,
             "#f7f7f7"
            ],
            [
             0.6,
             "#e6f5d0"
            ],
            [
             0.7,
             "#b8e186"
            ],
            [
             0.8,
             "#7fbc41"
            ],
            [
             0.9,
             "#4d9221"
            ],
            [
             1,
             "#276419"
            ]
           ],
           "sequential": [
            [
             0,
             "#0d0887"
            ],
            [
             0.1111111111111111,
             "#46039f"
            ],
            [
             0.2222222222222222,
             "#7201a8"
            ],
            [
             0.3333333333333333,
             "#9c179e"
            ],
            [
             0.4444444444444444,
             "#bd3786"
            ],
            [
             0.5555555555555556,
             "#d8576b"
            ],
            [
             0.6666666666666666,
             "#ed7953"
            ],
            [
             0.7777777777777778,
             "#fb9f3a"
            ],
            [
             0.8888888888888888,
             "#fdca26"
            ],
            [
             1,
             "#f0f921"
            ]
           ],
           "sequentialminus": [
            [
             0,
             "#0d0887"
            ],
            [
             0.1111111111111111,
             "#46039f"
            ],
            [
             0.2222222222222222,
             "#7201a8"
            ],
            [
             0.3333333333333333,
             "#9c179e"
            ],
            [
             0.4444444444444444,
             "#bd3786"
            ],
            [
             0.5555555555555556,
             "#d8576b"
            ],
            [
             0.6666666666666666,
             "#ed7953"
            ],
            [
             0.7777777777777778,
             "#fb9f3a"
            ],
            [
             0.8888888888888888,
             "#fdca26"
            ],
            [
             1,
             "#f0f921"
            ]
           ]
          },
          "colorway": [
           "#636efa",
           "#EF553B",
           "#00cc96",
           "#ab63fa",
           "#FFA15A",
           "#19d3f3",
           "#FF6692",
           "#B6E880",
           "#FF97FF",
           "#FECB52"
          ],
          "font": {
           "color": "#2a3f5f"
          },
          "geo": {
           "bgcolor": "white",
           "lakecolor": "white",
           "landcolor": "#E5ECF6",
           "showlakes": true,
           "showland": true,
           "subunitcolor": "white"
          },
          "hoverlabel": {
           "align": "left"
          },
          "hovermode": "closest",
          "mapbox": {
           "style": "light"
          },
          "paper_bgcolor": "white",
          "plot_bgcolor": "#E5ECF6",
          "polar": {
           "angularaxis": {
            "gridcolor": "white",
            "linecolor": "white",
            "ticks": ""
           },
           "bgcolor": "#E5ECF6",
           "radialaxis": {
            "gridcolor": "white",
            "linecolor": "white",
            "ticks": ""
           }
          },
          "scene": {
           "xaxis": {
            "backgroundcolor": "#E5ECF6",
            "gridcolor": "white",
            "gridwidth": 2,
            "linecolor": "white",
            "showbackground": true,
            "ticks": "",
            "zerolinecolor": "white"
           },
           "yaxis": {
            "backgroundcolor": "#E5ECF6",
            "gridcolor": "white",
            "gridwidth": 2,
            "linecolor": "white",
            "showbackground": true,
            "ticks": "",
            "zerolinecolor": "white"
           },
           "zaxis": {
            "backgroundcolor": "#E5ECF6",
            "gridcolor": "white",
            "gridwidth": 2,
            "linecolor": "white",
            "showbackground": true,
            "ticks": "",
            "zerolinecolor": "white"
           }
          },
          "shapedefaults": {
           "line": {
            "color": "#2a3f5f"
           }
          },
          "ternary": {
           "aaxis": {
            "gridcolor": "white",
            "linecolor": "white",
            "ticks": ""
           },
           "baxis": {
            "gridcolor": "white",
            "linecolor": "white",
            "ticks": ""
           },
           "bgcolor": "#E5ECF6",
           "caxis": {
            "gridcolor": "white",
            "linecolor": "white",
            "ticks": ""
           }
          },
          "title": {
           "x": 0.05
          },
          "xaxis": {
           "automargin": true,
           "gridcolor": "white",
           "linecolor": "white",
           "ticks": "",
           "title": {
            "standoff": 15
           },
           "zerolinecolor": "white",
           "zerolinewidth": 2
          },
          "yaxis": {
           "automargin": true,
           "gridcolor": "white",
           "linecolor": "white",
           "ticks": "",
           "title": {
            "standoff": 15
           },
           "zerolinecolor": "white",
           "zerolinewidth": 2
          }
         }
        },
        "xaxis": {
         "anchor": "y",
         "domain": [
          0,
          1
         ],
         "title": {
          "text": "player_id"
         }
        },
        "yaxis": {
         "anchor": "x",
         "domain": [
          0,
          1
         ],
         "title": {
          "text": "value"
         }
        }
       }
      }
     },
     "metadata": {},
     "output_type": "display_data"
    }
   ],
   "source": [
    "player_goals = goals[[\"player_id\", \"goal_id\"]].groupby(\"player_id\").count().nlargest(12, columns=[\"goal_id\"])\n",
    "px.bar(player_goals)"
   ]
  },
  {
   "cell_type": "code",
   "execution_count": null,
   "metadata": {},
   "outputs": [],
   "source": [
    "# total goals / num matches for each player"
   ]
  },
  {
   "cell_type": "code",
   "execution_count": 66,
   "metadata": {},
   "outputs": [
    {
     "data": {
      "application/vnd.plotly.v1+json": {
       "config": {
        "plotlyServerURL": "https://plot.ly"
       },
       "data": [
        {
         "alignmentgroup": "True",
         "hovertemplate": "player_tournament=%{x}<br>goal_id=%{y}<extra></extra>",
         "legendgroup": "",
         "marker": {
          "color": "#636efa",
          "pattern": {
           "shape": ""
          }
         },
         "name": "",
         "offsetgroup": "",
         "orientation": "v",
         "showlegend": false,
         "textposition": "auto",
         "type": "bar",
         "x": [
          "P-09960 (WC-1930)",
          "P-09763 (WC-1934)",
          "P-09697 (WC-1938)",
          "P-09793 (WC-1950)",
          "P-09693 (WC-1954)",
          "P-09946 (WC-1958)",
          "P-09928 (WC-1962)",
          "P-09516 (WC-1966)",
          "P-09516 (WC-1970)",
          "P-09503 (WC-1974)",
          "P-09705 (WC-1978)",
          "P-09887 (WC-1982)",
          "P-09968 (WC-1986)",
          "P-09962 (WC-1990)",
          "P-09710 (WC-1994)",
          "P-09998 (WC-1998)",
          "P-09998 (WC-2002)",
          "P-09890 (WC-2006)",
          "P-09822 (WC-2010)",
          "P-09883 (WC-2014)",
          "P-09949 (WC-2018)",
          "P-09950 (WC-2022)"
         ],
         "xaxis": "x",
         "y": [
          8,
          5,
          7,
          9,
          11,
          13,
          4,
          9,
          10,
          7,
          6,
          6,
          6,
          6,
          6,
          6,
          8,
          5,
          5,
          6,
          6,
          8
         ],
         "yaxis": "y"
        }
       ],
       "layout": {
        "barmode": "relative",
        "legend": {
         "tracegroupgap": 0
        },
        "margin": {
         "t": 60
        },
        "template": {
         "data": {
          "bar": [
           {
            "error_x": {
             "color": "#2a3f5f"
            },
            "error_y": {
             "color": "#2a3f5f"
            },
            "marker": {
             "line": {
              "color": "#E5ECF6",
              "width": 0.5
             },
             "pattern": {
              "fillmode": "overlay",
              "size": 10,
              "solidity": 0.2
             }
            },
            "type": "bar"
           }
          ],
          "barpolar": [
           {
            "marker": {
             "line": {
              "color": "#E5ECF6",
              "width": 0.5
             },
             "pattern": {
              "fillmode": "overlay",
              "size": 10,
              "solidity": 0.2
             }
            },
            "type": "barpolar"
           }
          ],
          "carpet": [
           {
            "aaxis": {
             "endlinecolor": "#2a3f5f",
             "gridcolor": "white",
             "linecolor": "white",
             "minorgridcolor": "white",
             "startlinecolor": "#2a3f5f"
            },
            "baxis": {
             "endlinecolor": "#2a3f5f",
             "gridcolor": "white",
             "linecolor": "white",
             "minorgridcolor": "white",
             "startlinecolor": "#2a3f5f"
            },
            "type": "carpet"
           }
          ],
          "choropleth": [
           {
            "colorbar": {
             "outlinewidth": 0,
             "ticks": ""
            },
            "type": "choropleth"
           }
          ],
          "contour": [
           {
            "colorbar": {
             "outlinewidth": 0,
             "ticks": ""
            },
            "colorscale": [
             [
              0,
              "#0d0887"
             ],
             [
              0.1111111111111111,
              "#46039f"
             ],
             [
              0.2222222222222222,
              "#7201a8"
             ],
             [
              0.3333333333333333,
              "#9c179e"
             ],
             [
              0.4444444444444444,
              "#bd3786"
             ],
             [
              0.5555555555555556,
              "#d8576b"
             ],
             [
              0.6666666666666666,
              "#ed7953"
             ],
             [
              0.7777777777777778,
              "#fb9f3a"
             ],
             [
              0.8888888888888888,
              "#fdca26"
             ],
             [
              1,
              "#f0f921"
             ]
            ],
            "type": "contour"
           }
          ],
          "contourcarpet": [
           {
            "colorbar": {
             "outlinewidth": 0,
             "ticks": ""
            },
            "type": "contourcarpet"
           }
          ],
          "heatmap": [
           {
            "colorbar": {
             "outlinewidth": 0,
             "ticks": ""
            },
            "colorscale": [
             [
              0,
              "#0d0887"
             ],
             [
              0.1111111111111111,
              "#46039f"
             ],
             [
              0.2222222222222222,
              "#7201a8"
             ],
             [
              0.3333333333333333,
              "#9c179e"
             ],
             [
              0.4444444444444444,
              "#bd3786"
             ],
             [
              0.5555555555555556,
              "#d8576b"
             ],
             [
              0.6666666666666666,
              "#ed7953"
             ],
             [
              0.7777777777777778,
              "#fb9f3a"
             ],
             [
              0.8888888888888888,
              "#fdca26"
             ],
             [
              1,
              "#f0f921"
             ]
            ],
            "type": "heatmap"
           }
          ],
          "heatmapgl": [
           {
            "colorbar": {
             "outlinewidth": 0,
             "ticks": ""
            },
            "colorscale": [
             [
              0,
              "#0d0887"
             ],
             [
              0.1111111111111111,
              "#46039f"
             ],
             [
              0.2222222222222222,
              "#7201a8"
             ],
             [
              0.3333333333333333,
              "#9c179e"
             ],
             [
              0.4444444444444444,
              "#bd3786"
             ],
             [
              0.5555555555555556,
              "#d8576b"
             ],
             [
              0.6666666666666666,
              "#ed7953"
             ],
             [
              0.7777777777777778,
              "#fb9f3a"
             ],
             [
              0.8888888888888888,
              "#fdca26"
             ],
             [
              1,
              "#f0f921"
             ]
            ],
            "type": "heatmapgl"
           }
          ],
          "histogram": [
           {
            "marker": {
             "pattern": {
              "fillmode": "overlay",
              "size": 10,
              "solidity": 0.2
             }
            },
            "type": "histogram"
           }
          ],
          "histogram2d": [
           {
            "colorbar": {
             "outlinewidth": 0,
             "ticks": ""
            },
            "colorscale": [
             [
              0,
              "#0d0887"
             ],
             [
              0.1111111111111111,
              "#46039f"
             ],
             [
              0.2222222222222222,
              "#7201a8"
             ],
             [
              0.3333333333333333,
              "#9c179e"
             ],
             [
              0.4444444444444444,
              "#bd3786"
             ],
             [
              0.5555555555555556,
              "#d8576b"
             ],
             [
              0.6666666666666666,
              "#ed7953"
             ],
             [
              0.7777777777777778,
              "#fb9f3a"
             ],
             [
              0.8888888888888888,
              "#fdca26"
             ],
             [
              1,
              "#f0f921"
             ]
            ],
            "type": "histogram2d"
           }
          ],
          "histogram2dcontour": [
           {
            "colorbar": {
             "outlinewidth": 0,
             "ticks": ""
            },
            "colorscale": [
             [
              0,
              "#0d0887"
             ],
             [
              0.1111111111111111,
              "#46039f"
             ],
             [
              0.2222222222222222,
              "#7201a8"
             ],
             [
              0.3333333333333333,
              "#9c179e"
             ],
             [
              0.4444444444444444,
              "#bd3786"
             ],
             [
              0.5555555555555556,
              "#d8576b"
             ],
             [
              0.6666666666666666,
              "#ed7953"
             ],
             [
              0.7777777777777778,
              "#fb9f3a"
             ],
             [
              0.8888888888888888,
              "#fdca26"
             ],
             [
              1,
              "#f0f921"
             ]
            ],
            "type": "histogram2dcontour"
           }
          ],
          "mesh3d": [
           {
            "colorbar": {
             "outlinewidth": 0,
             "ticks": ""
            },
            "type": "mesh3d"
           }
          ],
          "parcoords": [
           {
            "line": {
             "colorbar": {
              "outlinewidth": 0,
              "ticks": ""
             }
            },
            "type": "parcoords"
           }
          ],
          "pie": [
           {
            "automargin": true,
            "type": "pie"
           }
          ],
          "scatter": [
           {
            "fillpattern": {
             "fillmode": "overlay",
             "size": 10,
             "solidity": 0.2
            },
            "type": "scatter"
           }
          ],
          "scatter3d": [
           {
            "line": {
             "colorbar": {
              "outlinewidth": 0,
              "ticks": ""
             }
            },
            "marker": {
             "colorbar": {
              "outlinewidth": 0,
              "ticks": ""
             }
            },
            "type": "scatter3d"
           }
          ],
          "scattercarpet": [
           {
            "marker": {
             "colorbar": {
              "outlinewidth": 0,
              "ticks": ""
             }
            },
            "type": "scattercarpet"
           }
          ],
          "scattergeo": [
           {
            "marker": {
             "colorbar": {
              "outlinewidth": 0,
              "ticks": ""
             }
            },
            "type": "scattergeo"
           }
          ],
          "scattergl": [
           {
            "marker": {
             "colorbar": {
              "outlinewidth": 0,
              "ticks": ""
             }
            },
            "type": "scattergl"
           }
          ],
          "scattermapbox": [
           {
            "marker": {
             "colorbar": {
              "outlinewidth": 0,
              "ticks": ""
             }
            },
            "type": "scattermapbox"
           }
          ],
          "scatterpolar": [
           {
            "marker": {
             "colorbar": {
              "outlinewidth": 0,
              "ticks": ""
             }
            },
            "type": "scatterpolar"
           }
          ],
          "scatterpolargl": [
           {
            "marker": {
             "colorbar": {
              "outlinewidth": 0,
              "ticks": ""
             }
            },
            "type": "scatterpolargl"
           }
          ],
          "scatterternary": [
           {
            "marker": {
             "colorbar": {
              "outlinewidth": 0,
              "ticks": ""
             }
            },
            "type": "scatterternary"
           }
          ],
          "surface": [
           {
            "colorbar": {
             "outlinewidth": 0,
             "ticks": ""
            },
            "colorscale": [
             [
              0,
              "#0d0887"
             ],
             [
              0.1111111111111111,
              "#46039f"
             ],
             [
              0.2222222222222222,
              "#7201a8"
             ],
             [
              0.3333333333333333,
              "#9c179e"
             ],
             [
              0.4444444444444444,
              "#bd3786"
             ],
             [
              0.5555555555555556,
              "#d8576b"
             ],
             [
              0.6666666666666666,
              "#ed7953"
             ],
             [
              0.7777777777777778,
              "#fb9f3a"
             ],
             [
              0.8888888888888888,
              "#fdca26"
             ],
             [
              1,
              "#f0f921"
             ]
            ],
            "type": "surface"
           }
          ],
          "table": [
           {
            "cells": {
             "fill": {
              "color": "#EBF0F8"
             },
             "line": {
              "color": "white"
             }
            },
            "header": {
             "fill": {
              "color": "#C8D4E3"
             },
             "line": {
              "color": "white"
             }
            },
            "type": "table"
           }
          ]
         },
         "layout": {
          "annotationdefaults": {
           "arrowcolor": "#2a3f5f",
           "arrowhead": 0,
           "arrowwidth": 1
          },
          "autotypenumbers": "strict",
          "coloraxis": {
           "colorbar": {
            "outlinewidth": 0,
            "ticks": ""
           }
          },
          "colorscale": {
           "diverging": [
            [
             0,
             "#8e0152"
            ],
            [
             0.1,
             "#c51b7d"
            ],
            [
             0.2,
             "#de77ae"
            ],
            [
             0.3,
             "#f1b6da"
            ],
            [
             0.4,
             "#fde0ef"
            ],
            [
             0.5,
             "#f7f7f7"
            ],
            [
             0.6,
             "#e6f5d0"
            ],
            [
             0.7,
             "#b8e186"
            ],
            [
             0.8,
             "#7fbc41"
            ],
            [
             0.9,
             "#4d9221"
            ],
            [
             1,
             "#276419"
            ]
           ],
           "sequential": [
            [
             0,
             "#0d0887"
            ],
            [
             0.1111111111111111,
             "#46039f"
            ],
            [
             0.2222222222222222,
             "#7201a8"
            ],
            [
             0.3333333333333333,
             "#9c179e"
            ],
            [
             0.4444444444444444,
             "#bd3786"
            ],
            [
             0.5555555555555556,
             "#d8576b"
            ],
            [
             0.6666666666666666,
             "#ed7953"
            ],
            [
             0.7777777777777778,
             "#fb9f3a"
            ],
            [
             0.8888888888888888,
             "#fdca26"
            ],
            [
             1,
             "#f0f921"
            ]
           ],
           "sequentialminus": [
            [
             0,
             "#0d0887"
            ],
            [
             0.1111111111111111,
             "#46039f"
            ],
            [
             0.2222222222222222,
             "#7201a8"
            ],
            [
             0.3333333333333333,
             "#9c179e"
            ],
            [
             0.4444444444444444,
             "#bd3786"
            ],
            [
             0.5555555555555556,
             "#d8576b"
            ],
            [
             0.6666666666666666,
             "#ed7953"
            ],
            [
             0.7777777777777778,
             "#fb9f3a"
            ],
            [
             0.8888888888888888,
             "#fdca26"
            ],
            [
             1,
             "#f0f921"
            ]
           ]
          },
          "colorway": [
           "#636efa",
           "#EF553B",
           "#00cc96",
           "#ab63fa",
           "#FFA15A",
           "#19d3f3",
           "#FF6692",
           "#B6E880",
           "#FF97FF",
           "#FECB52"
          ],
          "font": {
           "color": "#2a3f5f"
          },
          "geo": {
           "bgcolor": "white",
           "lakecolor": "white",
           "landcolor": "#E5ECF6",
           "showlakes": true,
           "showland": true,
           "subunitcolor": "white"
          },
          "hoverlabel": {
           "align": "left"
          },
          "hovermode": "closest",
          "mapbox": {
           "style": "light"
          },
          "paper_bgcolor": "white",
          "plot_bgcolor": "#E5ECF6",
          "polar": {
           "angularaxis": {
            "gridcolor": "white",
            "linecolor": "white",
            "ticks": ""
           },
           "bgcolor": "#E5ECF6",
           "radialaxis": {
            "gridcolor": "white",
            "linecolor": "white",
            "ticks": ""
           }
          },
          "scene": {
           "xaxis": {
            "backgroundcolor": "#E5ECF6",
            "gridcolor": "white",
            "gridwidth": 2,
            "linecolor": "white",
            "showbackground": true,
            "ticks": "",
            "zerolinecolor": "white"
           },
           "yaxis": {
            "backgroundcolor": "#E5ECF6",
            "gridcolor": "white",
            "gridwidth": 2,
            "linecolor": "white",
            "showbackground": true,
            "ticks": "",
            "zerolinecolor": "white"
           },
           "zaxis": {
            "backgroundcolor": "#E5ECF6",
            "gridcolor": "white",
            "gridwidth": 2,
            "linecolor": "white",
            "showbackground": true,
            "ticks": "",
            "zerolinecolor": "white"
           }
          },
          "shapedefaults": {
           "line": {
            "color": "#2a3f5f"
           }
          },
          "ternary": {
           "aaxis": {
            "gridcolor": "white",
            "linecolor": "white",
            "ticks": ""
           },
           "baxis": {
            "gridcolor": "white",
            "linecolor": "white",
            "ticks": ""
           },
           "bgcolor": "#E5ECF6",
           "caxis": {
            "gridcolor": "white",
            "linecolor": "white",
            "ticks": ""
           }
          },
          "title": {
           "x": 0.05
          },
          "xaxis": {
           "automargin": true,
           "gridcolor": "white",
           "linecolor": "white",
           "ticks": "",
           "title": {
            "standoff": 15
           },
           "zerolinecolor": "white",
           "zerolinewidth": 2
          },
          "yaxis": {
           "automargin": true,
           "gridcolor": "white",
           "linecolor": "white",
           "ticks": "",
           "title": {
            "standoff": 15
           },
           "zerolinecolor": "white",
           "zerolinewidth": 2
          }
         }
        },
        "xaxis": {
         "anchor": "y",
         "domain": [
          0,
          1
         ],
         "title": {
          "text": "player_tournament"
         }
        },
        "yaxis": {
         "anchor": "x",
         "domain": [
          0,
          1
         ],
         "title": {
          "text": "goal_id"
         }
        }
       }
      }
     },
     "metadata": {},
     "output_type": "display_data"
    }
   ],
   "source": [
    "player_max_goals = goals[[\"tournament_id\", \"player_id\", \"goal_id\"]].groupby(\n",
    "    [\"tournament_id\",\"player_id\"]\n",
    ").count().reset_index().groupby(\"tournament_id\").max().reset_index()\n",
    "# player_max_goals = player_max_goals.set_index([\"tournament_id\",\"player_id\"])\n",
    "player_max_goals[\"player_tournament\"] = player_max_goals.player_id + \" (\" +player_max_goals.tournament_id + \")\"\n",
    "px.bar(player_max_goals, x=\"player_tournament\", y=\"goal_id\")"
   ]
  },
  {
   "cell_type": "code",
   "execution_count": 67,
   "metadata": {},
   "outputs": [
    {
     "data": {
      "application/vnd.plotly.v1+json": {
       "config": {
        "plotlyServerURL": "https://plot.ly"
       },
       "data": [
        {
         "alignmentgroup": "True",
         "hovertemplate": "tournament_id=%{x}<br>goal_id=%{y}<extra></extra>",
         "legendgroup": "",
         "marker": {
          "color": "#636efa",
          "pattern": {
           "shape": ""
          }
         },
         "name": "",
         "offsetgroup": "",
         "orientation": "v",
         "showlegend": false,
         "textposition": "auto",
         "type": "bar",
         "x": [
          "WC-1930",
          "WC-1934",
          "WC-1938",
          "WC-1950",
          "WC-1954",
          "WC-1958",
          "WC-1962",
          "WC-1966",
          "WC-1970",
          "WC-1974",
          "WC-1978",
          "WC-1982",
          "WC-1986",
          "WC-1990",
          "WC-1994",
          "WC-1998",
          "WC-2002",
          "WC-2006",
          "WC-2010",
          "WC-2014",
          "WC-2018",
          "WC-2022"
         ],
         "xaxis": "x",
         "y": [
          70,
          70,
          84,
          88,
          140,
          126,
          89,
          89,
          95,
          97,
          102,
          146,
          132,
          115,
          141,
          171,
          161,
          147,
          145,
          171,
          169,
          172
         ],
         "yaxis": "y"
        }
       ],
       "layout": {
        "barmode": "relative",
        "legend": {
         "tracegroupgap": 0
        },
        "margin": {
         "t": 60
        },
        "template": {
         "data": {
          "bar": [
           {
            "error_x": {
             "color": "#2a3f5f"
            },
            "error_y": {
             "color": "#2a3f5f"
            },
            "marker": {
             "line": {
              "color": "#E5ECF6",
              "width": 0.5
             },
             "pattern": {
              "fillmode": "overlay",
              "size": 10,
              "solidity": 0.2
             }
            },
            "type": "bar"
           }
          ],
          "barpolar": [
           {
            "marker": {
             "line": {
              "color": "#E5ECF6",
              "width": 0.5
             },
             "pattern": {
              "fillmode": "overlay",
              "size": 10,
              "solidity": 0.2
             }
            },
            "type": "barpolar"
           }
          ],
          "carpet": [
           {
            "aaxis": {
             "endlinecolor": "#2a3f5f",
             "gridcolor": "white",
             "linecolor": "white",
             "minorgridcolor": "white",
             "startlinecolor": "#2a3f5f"
            },
            "baxis": {
             "endlinecolor": "#2a3f5f",
             "gridcolor": "white",
             "linecolor": "white",
             "minorgridcolor": "white",
             "startlinecolor": "#2a3f5f"
            },
            "type": "carpet"
           }
          ],
          "choropleth": [
           {
            "colorbar": {
             "outlinewidth": 0,
             "ticks": ""
            },
            "type": "choropleth"
           }
          ],
          "contour": [
           {
            "colorbar": {
             "outlinewidth": 0,
             "ticks": ""
            },
            "colorscale": [
             [
              0,
              "#0d0887"
             ],
             [
              0.1111111111111111,
              "#46039f"
             ],
             [
              0.2222222222222222,
              "#7201a8"
             ],
             [
              0.3333333333333333,
              "#9c179e"
             ],
             [
              0.4444444444444444,
              "#bd3786"
             ],
             [
              0.5555555555555556,
              "#d8576b"
             ],
             [
              0.6666666666666666,
              "#ed7953"
             ],
             [
              0.7777777777777778,
              "#fb9f3a"
             ],
             [
              0.8888888888888888,
              "#fdca26"
             ],
             [
              1,
              "#f0f921"
             ]
            ],
            "type": "contour"
           }
          ],
          "contourcarpet": [
           {
            "colorbar": {
             "outlinewidth": 0,
             "ticks": ""
            },
            "type": "contourcarpet"
           }
          ],
          "heatmap": [
           {
            "colorbar": {
             "outlinewidth": 0,
             "ticks": ""
            },
            "colorscale": [
             [
              0,
              "#0d0887"
             ],
             [
              0.1111111111111111,
              "#46039f"
             ],
             [
              0.2222222222222222,
              "#7201a8"
             ],
             [
              0.3333333333333333,
              "#9c179e"
             ],
             [
              0.4444444444444444,
              "#bd3786"
             ],
             [
              0.5555555555555556,
              "#d8576b"
             ],
             [
              0.6666666666666666,
              "#ed7953"
             ],
             [
              0.7777777777777778,
              "#fb9f3a"
             ],
             [
              0.8888888888888888,
              "#fdca26"
             ],
             [
              1,
              "#f0f921"
             ]
            ],
            "type": "heatmap"
           }
          ],
          "heatmapgl": [
           {
            "colorbar": {
             "outlinewidth": 0,
             "ticks": ""
            },
            "colorscale": [
             [
              0,
              "#0d0887"
             ],
             [
              0.1111111111111111,
              "#46039f"
             ],
             [
              0.2222222222222222,
              "#7201a8"
             ],
             [
              0.3333333333333333,
              "#9c179e"
             ],
             [
              0.4444444444444444,
              "#bd3786"
             ],
             [
              0.5555555555555556,
              "#d8576b"
             ],
             [
              0.6666666666666666,
              "#ed7953"
             ],
             [
              0.7777777777777778,
              "#fb9f3a"
             ],
             [
              0.8888888888888888,
              "#fdca26"
             ],
             [
              1,
              "#f0f921"
             ]
            ],
            "type": "heatmapgl"
           }
          ],
          "histogram": [
           {
            "marker": {
             "pattern": {
              "fillmode": "overlay",
              "size": 10,
              "solidity": 0.2
             }
            },
            "type": "histogram"
           }
          ],
          "histogram2d": [
           {
            "colorbar": {
             "outlinewidth": 0,
             "ticks": ""
            },
            "colorscale": [
             [
              0,
              "#0d0887"
             ],
             [
              0.1111111111111111,
              "#46039f"
             ],
             [
              0.2222222222222222,
              "#7201a8"
             ],
             [
              0.3333333333333333,
              "#9c179e"
             ],
             [
              0.4444444444444444,
              "#bd3786"
             ],
             [
              0.5555555555555556,
              "#d8576b"
             ],
             [
              0.6666666666666666,
              "#ed7953"
             ],
             [
              0.7777777777777778,
              "#fb9f3a"
             ],
             [
              0.8888888888888888,
              "#fdca26"
             ],
             [
              1,
              "#f0f921"
             ]
            ],
            "type": "histogram2d"
           }
          ],
          "histogram2dcontour": [
           {
            "colorbar": {
             "outlinewidth": 0,
             "ticks": ""
            },
            "colorscale": [
             [
              0,
              "#0d0887"
             ],
             [
              0.1111111111111111,
              "#46039f"
             ],
             [
              0.2222222222222222,
              "#7201a8"
             ],
             [
              0.3333333333333333,
              "#9c179e"
             ],
             [
              0.4444444444444444,
              "#bd3786"
             ],
             [
              0.5555555555555556,
              "#d8576b"
             ],
             [
              0.6666666666666666,
              "#ed7953"
             ],
             [
              0.7777777777777778,
              "#fb9f3a"
             ],
             [
              0.8888888888888888,
              "#fdca26"
             ],
             [
              1,
              "#f0f921"
             ]
            ],
            "type": "histogram2dcontour"
           }
          ],
          "mesh3d": [
           {
            "colorbar": {
             "outlinewidth": 0,
             "ticks": ""
            },
            "type": "mesh3d"
           }
          ],
          "parcoords": [
           {
            "line": {
             "colorbar": {
              "outlinewidth": 0,
              "ticks": ""
             }
            },
            "type": "parcoords"
           }
          ],
          "pie": [
           {
            "automargin": true,
            "type": "pie"
           }
          ],
          "scatter": [
           {
            "fillpattern": {
             "fillmode": "overlay",
             "size": 10,
             "solidity": 0.2
            },
            "type": "scatter"
           }
          ],
          "scatter3d": [
           {
            "line": {
             "colorbar": {
              "outlinewidth": 0,
              "ticks": ""
             }
            },
            "marker": {
             "colorbar": {
              "outlinewidth": 0,
              "ticks": ""
             }
            },
            "type": "scatter3d"
           }
          ],
          "scattercarpet": [
           {
            "marker": {
             "colorbar": {
              "outlinewidth": 0,
              "ticks": ""
             }
            },
            "type": "scattercarpet"
           }
          ],
          "scattergeo": [
           {
            "marker": {
             "colorbar": {
              "outlinewidth": 0,
              "ticks": ""
             }
            },
            "type": "scattergeo"
           }
          ],
          "scattergl": [
           {
            "marker": {
             "colorbar": {
              "outlinewidth": 0,
              "ticks": ""
             }
            },
            "type": "scattergl"
           }
          ],
          "scattermapbox": [
           {
            "marker": {
             "colorbar": {
              "outlinewidth": 0,
              "ticks": ""
             }
            },
            "type": "scattermapbox"
           }
          ],
          "scatterpolar": [
           {
            "marker": {
             "colorbar": {
              "outlinewidth": 0,
              "ticks": ""
             }
            },
            "type": "scatterpolar"
           }
          ],
          "scatterpolargl": [
           {
            "marker": {
             "colorbar": {
              "outlinewidth": 0,
              "ticks": ""
             }
            },
            "type": "scatterpolargl"
           }
          ],
          "scatterternary": [
           {
            "marker": {
             "colorbar": {
              "outlinewidth": 0,
              "ticks": ""
             }
            },
            "type": "scatterternary"
           }
          ],
          "surface": [
           {
            "colorbar": {
             "outlinewidth": 0,
             "ticks": ""
            },
            "colorscale": [
             [
              0,
              "#0d0887"
             ],
             [
              0.1111111111111111,
              "#46039f"
             ],
             [
              0.2222222222222222,
              "#7201a8"
             ],
             [
              0.3333333333333333,
              "#9c179e"
             ],
             [
              0.4444444444444444,
              "#bd3786"
             ],
             [
              0.5555555555555556,
              "#d8576b"
             ],
             [
              0.6666666666666666,
              "#ed7953"
             ],
             [
              0.7777777777777778,
              "#fb9f3a"
             ],
             [
              0.8888888888888888,
              "#fdca26"
             ],
             [
              1,
              "#f0f921"
             ]
            ],
            "type": "surface"
           }
          ],
          "table": [
           {
            "cells": {
             "fill": {
              "color": "#EBF0F8"
             },
             "line": {
              "color": "white"
             }
            },
            "header": {
             "fill": {
              "color": "#C8D4E3"
             },
             "line": {
              "color": "white"
             }
            },
            "type": "table"
           }
          ]
         },
         "layout": {
          "annotationdefaults": {
           "arrowcolor": "#2a3f5f",
           "arrowhead": 0,
           "arrowwidth": 1
          },
          "autotypenumbers": "strict",
          "coloraxis": {
           "colorbar": {
            "outlinewidth": 0,
            "ticks": ""
           }
          },
          "colorscale": {
           "diverging": [
            [
             0,
             "#8e0152"
            ],
            [
             0.1,
             "#c51b7d"
            ],
            [
             0.2,
             "#de77ae"
            ],
            [
             0.3,
             "#f1b6da"
            ],
            [
             0.4,
             "#fde0ef"
            ],
            [
             0.5,
             "#f7f7f7"
            ],
            [
             0.6,
             "#e6f5d0"
            ],
            [
             0.7,
             "#b8e186"
            ],
            [
             0.8,
             "#7fbc41"
            ],
            [
             0.9,
             "#4d9221"
            ],
            [
             1,
             "#276419"
            ]
           ],
           "sequential": [
            [
             0,
             "#0d0887"
            ],
            [
             0.1111111111111111,
             "#46039f"
            ],
            [
             0.2222222222222222,
             "#7201a8"
            ],
            [
             0.3333333333333333,
             "#9c179e"
            ],
            [
             0.4444444444444444,
             "#bd3786"
            ],
            [
             0.5555555555555556,
             "#d8576b"
            ],
            [
             0.6666666666666666,
             "#ed7953"
            ],
            [
             0.7777777777777778,
             "#fb9f3a"
            ],
            [
             0.8888888888888888,
             "#fdca26"
            ],
            [
             1,
             "#f0f921"
            ]
           ],
           "sequentialminus": [
            [
             0,
             "#0d0887"
            ],
            [
             0.1111111111111111,
             "#46039f"
            ],
            [
             0.2222222222222222,
             "#7201a8"
            ],
            [
             0.3333333333333333,
             "#9c179e"
            ],
            [
             0.4444444444444444,
             "#bd3786"
            ],
            [
             0.5555555555555556,
             "#d8576b"
            ],
            [
             0.6666666666666666,
             "#ed7953"
            ],
            [
             0.7777777777777778,
             "#fb9f3a"
            ],
            [
             0.8888888888888888,
             "#fdca26"
            ],
            [
             1,
             "#f0f921"
            ]
           ]
          },
          "colorway": [
           "#636efa",
           "#EF553B",
           "#00cc96",
           "#ab63fa",
           "#FFA15A",
           "#19d3f3",
           "#FF6692",
           "#B6E880",
           "#FF97FF",
           "#FECB52"
          ],
          "font": {
           "color": "#2a3f5f"
          },
          "geo": {
           "bgcolor": "white",
           "lakecolor": "white",
           "landcolor": "#E5ECF6",
           "showlakes": true,
           "showland": true,
           "subunitcolor": "white"
          },
          "hoverlabel": {
           "align": "left"
          },
          "hovermode": "closest",
          "mapbox": {
           "style": "light"
          },
          "paper_bgcolor": "white",
          "plot_bgcolor": "#E5ECF6",
          "polar": {
           "angularaxis": {
            "gridcolor": "white",
            "linecolor": "white",
            "ticks": ""
           },
           "bgcolor": "#E5ECF6",
           "radialaxis": {
            "gridcolor": "white",
            "linecolor": "white",
            "ticks": ""
           }
          },
          "scene": {
           "xaxis": {
            "backgroundcolor": "#E5ECF6",
            "gridcolor": "white",
            "gridwidth": 2,
            "linecolor": "white",
            "showbackground": true,
            "ticks": "",
            "zerolinecolor": "white"
           },
           "yaxis": {
            "backgroundcolor": "#E5ECF6",
            "gridcolor": "white",
            "gridwidth": 2,
            "linecolor": "white",
            "showbackground": true,
            "ticks": "",
            "zerolinecolor": "white"
           },
           "zaxis": {
            "backgroundcolor": "#E5ECF6",
            "gridcolor": "white",
            "gridwidth": 2,
            "linecolor": "white",
            "showbackground": true,
            "ticks": "",
            "zerolinecolor": "white"
           }
          },
          "shapedefaults": {
           "line": {
            "color": "#2a3f5f"
           }
          },
          "ternary": {
           "aaxis": {
            "gridcolor": "white",
            "linecolor": "white",
            "ticks": ""
           },
           "baxis": {
            "gridcolor": "white",
            "linecolor": "white",
            "ticks": ""
           },
           "bgcolor": "#E5ECF6",
           "caxis": {
            "gridcolor": "white",
            "linecolor": "white",
            "ticks": ""
           }
          },
          "title": {
           "x": 0.05
          },
          "xaxis": {
           "automargin": true,
           "gridcolor": "white",
           "linecolor": "white",
           "ticks": "",
           "title": {
            "standoff": 15
           },
           "zerolinecolor": "white",
           "zerolinewidth": 2
          },
          "yaxis": {
           "automargin": true,
           "gridcolor": "white",
           "linecolor": "white",
           "ticks": "",
           "title": {
            "standoff": 15
           },
           "zerolinecolor": "white",
           "zerolinewidth": 2
          }
         }
        },
        "xaxis": {
         "anchor": "y",
         "domain": [
          0,
          1
         ],
         "title": {
          "text": "tournament_id"
         }
        },
        "yaxis": {
         "anchor": "x",
         "domain": [
          0,
          1
         ],
         "title": {
          "text": "goal_id"
         }
        }
       }
      }
     },
     "metadata": {},
     "output_type": "display_data"
    }
   ],
   "source": [
    "goals_count = goals[[\"goal_id\", \"tournament_id\"]].groupby(\"tournament_id\").count()\n",
    "px.bar(goals_count,y=\"goal_id\").show()\n"
   ]
  },
  {
   "cell_type": "code",
   "execution_count": 77,
   "metadata": {},
   "outputs": [
    {
     "data": {
      "application/vnd.plotly.v1+json": {
       "config": {
        "plotlyServerURL": "https://plot.ly"
       },
       "data": [
        {
         "alignmentgroup": "True",
         "boxpoints": "all",
         "fillcolor": "rgba(255,255,255,0)",
         "hoveron": "points",
         "hovertemplate": "value=%{x}<br>day=%{y}<extra></extra>",
         "legendgroup": "",
         "line": {
          "color": "rgba(255,255,255,0)"
         },
         "marker": {
          "color": "#636efa"
         },
         "name": "",
         "offsetgroup": "",
         "orientation": "h",
         "pointpos": 0,
         "showlegend": false,
         "type": "box",
         "x": [
          16.99,
          10.34,
          21.01,
          23.68,
          24.59,
          25.29,
          8.77,
          26.88,
          15.04,
          14.78,
          10.27,
          35.26,
          15.42,
          18.43,
          14.83,
          21.58,
          10.33,
          16.29,
          16.97,
          20.65,
          17.92,
          20.29,
          15.77,
          39.42,
          19.82,
          17.81,
          13.37,
          12.69,
          21.7,
          19.65,
          9.55,
          18.35,
          15.06,
          20.69,
          17.78,
          24.06,
          16.31,
          16.93,
          18.69,
          31.27,
          16.04,
          17.46,
          13.94,
          9.68,
          30.4,
          18.29,
          22.23,
          32.4,
          28.55,
          18.04,
          12.54,
          10.29,
          34.81,
          9.94,
          25.56,
          19.49,
          38.01,
          26.41,
          11.24,
          48.27,
          20.29,
          13.81,
          11.02,
          18.29,
          17.59,
          20.08,
          16.45,
          3.07,
          20.23,
          15.01,
          12.02,
          17.07,
          26.86,
          25.28,
          14.73,
          10.51,
          17.92,
          27.2,
          22.76,
          17.29,
          19.44,
          16.66,
          10.07,
          32.68,
          15.98,
          34.83,
          13.03,
          18.28,
          24.71,
          21.16,
          28.97,
          22.49,
          5.75,
          16.32,
          22.75,
          40.17,
          27.28,
          12.03,
          21.01,
          12.46,
          11.35,
          15.38,
          44.3,
          22.42,
          20.92,
          15.36,
          20.49,
          25.21,
          18.24,
          14.31,
          14,
          7.25,
          38.07,
          23.95,
          25.71,
          17.31,
          29.93,
          10.65,
          12.43,
          24.08,
          11.69,
          13.42,
          14.26,
          15.95,
          12.48,
          29.8,
          8.52,
          14.52,
          11.38,
          22.82,
          19.08,
          20.27,
          11.17,
          12.26,
          18.26,
          8.51,
          10.33,
          14.15,
          16,
          13.16,
          17.47,
          34.3,
          41.19,
          27.05,
          16.43,
          8.35,
          18.64,
          11.87,
          9.78,
          7.51,
          14.07,
          13.13,
          17.26,
          24.55,
          19.77,
          29.85,
          48.17,
          25,
          13.39,
          16.49,
          21.5,
          12.66,
          16.21,
          13.81,
          17.51,
          24.52,
          20.76,
          31.71,
          10.59,
          10.63,
          50.81,
          15.81,
          7.25,
          31.85,
          16.82,
          32.9,
          17.89,
          14.48,
          9.6,
          34.63,
          34.65,
          23.33,
          45.35,
          23.17,
          40.55,
          20.69,
          20.9,
          30.46,
          18.15,
          23.1,
          15.69,
          19.81,
          28.44,
          15.48,
          16.58,
          7.56,
          10.34,
          43.11,
          13,
          13.51,
          18.71,
          12.74,
          13,
          16.4,
          20.53,
          16.47,
          26.59,
          38.73,
          24.27,
          12.76,
          30.06,
          25.89,
          48.33,
          13.27,
          28.17,
          12.9,
          28.15,
          11.59,
          7.74,
          30.14,
          12.16,
          13.42,
          8.58,
          15.98,
          13.42,
          16.27,
          10.09,
          20.45,
          13.28,
          22.12,
          24.01,
          15.69,
          11.61,
          10.77,
          15.53,
          10.07,
          12.6,
          32.83,
          35.83,
          29.03,
          27.18,
          22.67,
          17.82,
          18.78
         ],
         "x0": " ",
         "xaxis": "x",
         "y": [
          "Sun",
          "Sun",
          "Sun",
          "Sun",
          "Sun",
          "Sun",
          "Sun",
          "Sun",
          "Sun",
          "Sun",
          "Sun",
          "Sun",
          "Sun",
          "Sun",
          "Sun",
          "Sun",
          "Sun",
          "Sun",
          "Sun",
          "Sat",
          "Sat",
          "Sat",
          "Sat",
          "Sat",
          "Sat",
          "Sat",
          "Sat",
          "Sat",
          "Sat",
          "Sat",
          "Sat",
          "Sat",
          "Sat",
          "Sat",
          "Sat",
          "Sat",
          "Sat",
          "Sat",
          "Sat",
          "Sat",
          "Sat",
          "Sun",
          "Sun",
          "Sun",
          "Sun",
          "Sun",
          "Sun",
          "Sun",
          "Sun",
          "Sun",
          "Sun",
          "Sun",
          "Sun",
          "Sun",
          "Sun",
          "Sun",
          "Sat",
          "Sat",
          "Sat",
          "Sat",
          "Sat",
          "Sat",
          "Sat",
          "Sat",
          "Sat",
          "Sat",
          "Sat",
          "Sat",
          "Sat",
          "Sat",
          "Sat",
          "Sat",
          "Sat",
          "Sat",
          "Sat",
          "Sat",
          "Sat",
          "Thur",
          "Thur",
          "Thur",
          "Thur",
          "Thur",
          "Thur",
          "Thur",
          "Thur",
          "Thur",
          "Thur",
          "Thur",
          "Thur",
          "Thur",
          "Fri",
          "Fri",
          "Fri",
          "Fri",
          "Fri",
          "Fri",
          "Fri",
          "Fri",
          "Fri",
          "Fri",
          "Fri",
          "Fri",
          "Sat",
          "Sat",
          "Sat",
          "Sat",
          "Sat",
          "Sat",
          "Sat",
          "Sat",
          "Sat",
          "Sat",
          "Sun",
          "Sun",
          "Sun",
          "Sun",
          "Sun",
          "Thur",
          "Thur",
          "Thur",
          "Thur",
          "Thur",
          "Thur",
          "Thur",
          "Thur",
          "Thur",
          "Thur",
          "Thur",
          "Thur",
          "Thur",
          "Thur",
          "Thur",
          "Thur",
          "Thur",
          "Thur",
          "Thur",
          "Thur",
          "Thur",
          "Thur",
          "Thur",
          "Thur",
          "Thur",
          "Thur",
          "Thur",
          "Thur",
          "Thur",
          "Thur",
          "Thur",
          "Thur",
          "Thur",
          "Sun",
          "Sun",
          "Sun",
          "Sun",
          "Sun",
          "Sun",
          "Sun",
          "Sun",
          "Sun",
          "Sun",
          "Sun",
          "Sun",
          "Sun",
          "Sun",
          "Sun",
          "Sun",
          "Sun",
          "Sun",
          "Sat",
          "Sat",
          "Sat",
          "Sat",
          "Sun",
          "Sun",
          "Sun",
          "Sun",
          "Sun",
          "Sun",
          "Sun",
          "Sun",
          "Sun",
          "Sun",
          "Sun",
          "Sun",
          "Sun",
          "Sun",
          "Sun",
          "Sun",
          "Sun",
          "Sun",
          "Sun",
          "Thur",
          "Thur",
          "Thur",
          "Thur",
          "Thur",
          "Thur",
          "Thur",
          "Thur",
          "Thur",
          "Thur",
          "Thur",
          "Thur",
          "Thur",
          "Thur",
          "Thur",
          "Sat",
          "Sat",
          "Sat",
          "Sat",
          "Sat",
          "Sat",
          "Sat",
          "Sat",
          "Sat",
          "Sat",
          "Sat",
          "Sat",
          "Sat",
          "Sat",
          "Fri",
          "Fri",
          "Fri",
          "Fri",
          "Fri",
          "Fri",
          "Fri",
          "Sat",
          "Sat",
          "Sat",
          "Sat",
          "Sat",
          "Sat",
          "Sat",
          "Sat",
          "Sat",
          "Sat",
          "Sat",
          "Sat",
          "Sat",
          "Sat",
          "Sat",
          "Sat",
          "Thur"
         ],
         "y0": " ",
         "yaxis": "y"
        }
       ],
       "layout": {
        "boxmode": "group",
        "legend": {
         "tracegroupgap": 0
        },
        "margin": {
         "t": 60
        },
        "template": {
         "data": {
          "bar": [
           {
            "error_x": {
             "color": "#2a3f5f"
            },
            "error_y": {
             "color": "#2a3f5f"
            },
            "marker": {
             "line": {
              "color": "#E5ECF6",
              "width": 0.5
             },
             "pattern": {
              "fillmode": "overlay",
              "size": 10,
              "solidity": 0.2
             }
            },
            "type": "bar"
           }
          ],
          "barpolar": [
           {
            "marker": {
             "line": {
              "color": "#E5ECF6",
              "width": 0.5
             },
             "pattern": {
              "fillmode": "overlay",
              "size": 10,
              "solidity": 0.2
             }
            },
            "type": "barpolar"
           }
          ],
          "carpet": [
           {
            "aaxis": {
             "endlinecolor": "#2a3f5f",
             "gridcolor": "white",
             "linecolor": "white",
             "minorgridcolor": "white",
             "startlinecolor": "#2a3f5f"
            },
            "baxis": {
             "endlinecolor": "#2a3f5f",
             "gridcolor": "white",
             "linecolor": "white",
             "minorgridcolor": "white",
             "startlinecolor": "#2a3f5f"
            },
            "type": "carpet"
           }
          ],
          "choropleth": [
           {
            "colorbar": {
             "outlinewidth": 0,
             "ticks": ""
            },
            "type": "choropleth"
           }
          ],
          "contour": [
           {
            "colorbar": {
             "outlinewidth": 0,
             "ticks": ""
            },
            "colorscale": [
             [
              0,
              "#0d0887"
             ],
             [
              0.1111111111111111,
              "#46039f"
             ],
             [
              0.2222222222222222,
              "#7201a8"
             ],
             [
              0.3333333333333333,
              "#9c179e"
             ],
             [
              0.4444444444444444,
              "#bd3786"
             ],
             [
              0.5555555555555556,
              "#d8576b"
             ],
             [
              0.6666666666666666,
              "#ed7953"
             ],
             [
              0.7777777777777778,
              "#fb9f3a"
             ],
             [
              0.8888888888888888,
              "#fdca26"
             ],
             [
              1,
              "#f0f921"
             ]
            ],
            "type": "contour"
           }
          ],
          "contourcarpet": [
           {
            "colorbar": {
             "outlinewidth": 0,
             "ticks": ""
            },
            "type": "contourcarpet"
           }
          ],
          "heatmap": [
           {
            "colorbar": {
             "outlinewidth": 0,
             "ticks": ""
            },
            "colorscale": [
             [
              0,
              "#0d0887"
             ],
             [
              0.1111111111111111,
              "#46039f"
             ],
             [
              0.2222222222222222,
              "#7201a8"
             ],
             [
              0.3333333333333333,
              "#9c179e"
             ],
             [
              0.4444444444444444,
              "#bd3786"
             ],
             [
              0.5555555555555556,
              "#d8576b"
             ],
             [
              0.6666666666666666,
              "#ed7953"
             ],
             [
              0.7777777777777778,
              "#fb9f3a"
             ],
             [
              0.8888888888888888,
              "#fdca26"
             ],
             [
              1,
              "#f0f921"
             ]
            ],
            "type": "heatmap"
           }
          ],
          "heatmapgl": [
           {
            "colorbar": {
             "outlinewidth": 0,
             "ticks": ""
            },
            "colorscale": [
             [
              0,
              "#0d0887"
             ],
             [
              0.1111111111111111,
              "#46039f"
             ],
             [
              0.2222222222222222,
              "#7201a8"
             ],
             [
              0.3333333333333333,
              "#9c179e"
             ],
             [
              0.4444444444444444,
              "#bd3786"
             ],
             [
              0.5555555555555556,
              "#d8576b"
             ],
             [
              0.6666666666666666,
              "#ed7953"
             ],
             [
              0.7777777777777778,
              "#fb9f3a"
             ],
             [
              0.8888888888888888,
              "#fdca26"
             ],
             [
              1,
              "#f0f921"
             ]
            ],
            "type": "heatmapgl"
           }
          ],
          "histogram": [
           {
            "marker": {
             "pattern": {
              "fillmode": "overlay",
              "size": 10,
              "solidity": 0.2
             }
            },
            "type": "histogram"
           }
          ],
          "histogram2d": [
           {
            "colorbar": {
             "outlinewidth": 0,
             "ticks": ""
            },
            "colorscale": [
             [
              0,
              "#0d0887"
             ],
             [
              0.1111111111111111,
              "#46039f"
             ],
             [
              0.2222222222222222,
              "#7201a8"
             ],
             [
              0.3333333333333333,
              "#9c179e"
             ],
             [
              0.4444444444444444,
              "#bd3786"
             ],
             [
              0.5555555555555556,
              "#d8576b"
             ],
             [
              0.6666666666666666,
              "#ed7953"
             ],
             [
              0.7777777777777778,
              "#fb9f3a"
             ],
             [
              0.8888888888888888,
              "#fdca26"
             ],
             [
              1,
              "#f0f921"
             ]
            ],
            "type": "histogram2d"
           }
          ],
          "histogram2dcontour": [
           {
            "colorbar": {
             "outlinewidth": 0,
             "ticks": ""
            },
            "colorscale": [
             [
              0,
              "#0d0887"
             ],
             [
              0.1111111111111111,
              "#46039f"
             ],
             [
              0.2222222222222222,
              "#7201a8"
             ],
             [
              0.3333333333333333,
              "#9c179e"
             ],
             [
              0.4444444444444444,
              "#bd3786"
             ],
             [
              0.5555555555555556,
              "#d8576b"
             ],
             [
              0.6666666666666666,
              "#ed7953"
             ],
             [
              0.7777777777777778,
              "#fb9f3a"
             ],
             [
              0.8888888888888888,
              "#fdca26"
             ],
             [
              1,
              "#f0f921"
             ]
            ],
            "type": "histogram2dcontour"
           }
          ],
          "mesh3d": [
           {
            "colorbar": {
             "outlinewidth": 0,
             "ticks": ""
            },
            "type": "mesh3d"
           }
          ],
          "parcoords": [
           {
            "line": {
             "colorbar": {
              "outlinewidth": 0,
              "ticks": ""
             }
            },
            "type": "parcoords"
           }
          ],
          "pie": [
           {
            "automargin": true,
            "type": "pie"
           }
          ],
          "scatter": [
           {
            "fillpattern": {
             "fillmode": "overlay",
             "size": 10,
             "solidity": 0.2
            },
            "type": "scatter"
           }
          ],
          "scatter3d": [
           {
            "line": {
             "colorbar": {
              "outlinewidth": 0,
              "ticks": ""
             }
            },
            "marker": {
             "colorbar": {
              "outlinewidth": 0,
              "ticks": ""
             }
            },
            "type": "scatter3d"
           }
          ],
          "scattercarpet": [
           {
            "marker": {
             "colorbar": {
              "outlinewidth": 0,
              "ticks": ""
             }
            },
            "type": "scattercarpet"
           }
          ],
          "scattergeo": [
           {
            "marker": {
             "colorbar": {
              "outlinewidth": 0,
              "ticks": ""
             }
            },
            "type": "scattergeo"
           }
          ],
          "scattergl": [
           {
            "marker": {
             "colorbar": {
              "outlinewidth": 0,
              "ticks": ""
             }
            },
            "type": "scattergl"
           }
          ],
          "scattermapbox": [
           {
            "marker": {
             "colorbar": {
              "outlinewidth": 0,
              "ticks": ""
             }
            },
            "type": "scattermapbox"
           }
          ],
          "scatterpolar": [
           {
            "marker": {
             "colorbar": {
              "outlinewidth": 0,
              "ticks": ""
             }
            },
            "type": "scatterpolar"
           }
          ],
          "scatterpolargl": [
           {
            "marker": {
             "colorbar": {
              "outlinewidth": 0,
              "ticks": ""
             }
            },
            "type": "scatterpolargl"
           }
          ],
          "scatterternary": [
           {
            "marker": {
             "colorbar": {
              "outlinewidth": 0,
              "ticks": ""
             }
            },
            "type": "scatterternary"
           }
          ],
          "surface": [
           {
            "colorbar": {
             "outlinewidth": 0,
             "ticks": ""
            },
            "colorscale": [
             [
              0,
              "#0d0887"
             ],
             [
              0.1111111111111111,
              "#46039f"
             ],
             [
              0.2222222222222222,
              "#7201a8"
             ],
             [
              0.3333333333333333,
              "#9c179e"
             ],
             [
              0.4444444444444444,
              "#bd3786"
             ],
             [
              0.5555555555555556,
              "#d8576b"
             ],
             [
              0.6666666666666666,
              "#ed7953"
             ],
             [
              0.7777777777777778,
              "#fb9f3a"
             ],
             [
              0.8888888888888888,
              "#fdca26"
             ],
             [
              1,
              "#f0f921"
             ]
            ],
            "type": "surface"
           }
          ],
          "table": [
           {
            "cells": {
             "fill": {
              "color": "#EBF0F8"
             },
             "line": {
              "color": "white"
             }
            },
            "header": {
             "fill": {
              "color": "#C8D4E3"
             },
             "line": {
              "color": "white"
             }
            },
            "type": "table"
           }
          ]
         },
         "layout": {
          "annotationdefaults": {
           "arrowcolor": "#2a3f5f",
           "arrowhead": 0,
           "arrowwidth": 1
          },
          "autotypenumbers": "strict",
          "coloraxis": {
           "colorbar": {
            "outlinewidth": 0,
            "ticks": ""
           }
          },
          "colorscale": {
           "diverging": [
            [
             0,
             "#8e0152"
            ],
            [
             0.1,
             "#c51b7d"
            ],
            [
             0.2,
             "#de77ae"
            ],
            [
             0.3,
             "#f1b6da"
            ],
            [
             0.4,
             "#fde0ef"
            ],
            [
             0.5,
             "#f7f7f7"
            ],
            [
             0.6,
             "#e6f5d0"
            ],
            [
             0.7,
             "#b8e186"
            ],
            [
             0.8,
             "#7fbc41"
            ],
            [
             0.9,
             "#4d9221"
            ],
            [
             1,
             "#276419"
            ]
           ],
           "sequential": [
            [
             0,
             "#0d0887"
            ],
            [
             0.1111111111111111,
             "#46039f"
            ],
            [
             0.2222222222222222,
             "#7201a8"
            ],
            [
             0.3333333333333333,
             "#9c179e"
            ],
            [
             0.4444444444444444,
             "#bd3786"
            ],
            [
             0.5555555555555556,
             "#d8576b"
            ],
            [
             0.6666666666666666,
             "#ed7953"
            ],
            [
             0.7777777777777778,
             "#fb9f3a"
            ],
            [
             0.8888888888888888,
             "#fdca26"
            ],
            [
             1,
             "#f0f921"
            ]
           ],
           "sequentialminus": [
            [
             0,
             "#0d0887"
            ],
            [
             0.1111111111111111,
             "#46039f"
            ],
            [
             0.2222222222222222,
             "#7201a8"
            ],
            [
             0.3333333333333333,
             "#9c179e"
            ],
            [
             0.4444444444444444,
             "#bd3786"
            ],
            [
             0.5555555555555556,
             "#d8576b"
            ],
            [
             0.6666666666666666,
             "#ed7953"
            ],
            [
             0.7777777777777778,
             "#fb9f3a"
            ],
            [
             0.8888888888888888,
             "#fdca26"
            ],
            [
             1,
             "#f0f921"
            ]
           ]
          },
          "colorway": [
           "#636efa",
           "#EF553B",
           "#00cc96",
           "#ab63fa",
           "#FFA15A",
           "#19d3f3",
           "#FF6692",
           "#B6E880",
           "#FF97FF",
           "#FECB52"
          ],
          "font": {
           "color": "#2a3f5f"
          },
          "geo": {
           "bgcolor": "white",
           "lakecolor": "white",
           "landcolor": "#E5ECF6",
           "showlakes": true,
           "showland": true,
           "subunitcolor": "white"
          },
          "hoverlabel": {
           "align": "left"
          },
          "hovermode": "closest",
          "mapbox": {
           "style": "light"
          },
          "paper_bgcolor": "white",
          "plot_bgcolor": "#E5ECF6",
          "polar": {
           "angularaxis": {
            "gridcolor": "white",
            "linecolor": "white",
            "ticks": ""
           },
           "bgcolor": "#E5ECF6",
           "radialaxis": {
            "gridcolor": "white",
            "linecolor": "white",
            "ticks": ""
           }
          },
          "scene": {
           "xaxis": {
            "backgroundcolor": "#E5ECF6",
            "gridcolor": "white",
            "gridwidth": 2,
            "linecolor": "white",
            "showbackground": true,
            "ticks": "",
            "zerolinecolor": "white"
           },
           "yaxis": {
            "backgroundcolor": "#E5ECF6",
            "gridcolor": "white",
            "gridwidth": 2,
            "linecolor": "white",
            "showbackground": true,
            "ticks": "",
            "zerolinecolor": "white"
           },
           "zaxis": {
            "backgroundcolor": "#E5ECF6",
            "gridcolor": "white",
            "gridwidth": 2,
            "linecolor": "white",
            "showbackground": true,
            "ticks": "",
            "zerolinecolor": "white"
           }
          },
          "shapedefaults": {
           "line": {
            "color": "#2a3f5f"
           }
          },
          "ternary": {
           "aaxis": {
            "gridcolor": "white",
            "linecolor": "white",
            "ticks": ""
           },
           "baxis": {
            "gridcolor": "white",
            "linecolor": "white",
            "ticks": ""
           },
           "bgcolor": "#E5ECF6",
           "caxis": {
            "gridcolor": "white",
            "linecolor": "white",
            "ticks": ""
           }
          },
          "title": {
           "x": 0.05
          },
          "xaxis": {
           "automargin": true,
           "gridcolor": "white",
           "linecolor": "white",
           "ticks": "",
           "title": {
            "standoff": 15
           },
           "zerolinecolor": "white",
           "zerolinewidth": 2
          },
          "yaxis": {
           "automargin": true,
           "gridcolor": "white",
           "linecolor": "white",
           "ticks": "",
           "title": {
            "standoff": 15
           },
           "zerolinecolor": "white",
           "zerolinewidth": 2
          }
         }
        },
        "xaxis": {
         "anchor": "y",
         "domain": [
          0,
          1
         ],
         "title": {
          "text": "value"
         }
        },
        "yaxis": {
         "anchor": "x",
         "domain": [
          0,
          1
         ],
         "title": {
          "text": "day"
         }
        }
       }
      }
     },
     "metadata": {},
     "output_type": "display_data"
    }
   ],
   "source": [
    "import plotly.express as px\n",
    "\n",
    "df = px.data.tips()\n",
    "fig = px.strip(df, x=[\"total_bill\"], y=\"day\")\n",
    "fig.show()"
   ]
  },
  {
   "cell_type": "code",
   "execution_count": null,
   "metadata": {},
   "outputs": [],
   "source": []
  }
 ],
 "metadata": {
  "kernelspec": {
   "display_name": "Python 3.10.6 64-bit",
   "language": "python",
   "name": "python3"
  },
  "language_info": {
   "codemirror_mode": {
    "name": "ipython",
    "version": 3
   },
   "file_extension": ".py",
   "mimetype": "text/x-python",
   "name": "python",
   "nbconvert_exporter": "python",
   "pygments_lexer": "ipython3",
   "version": "3.10.6"
  },
  "orig_nbformat": 4,
  "vscode": {
   "interpreter": {
    "hash": "916dbcbb3f70747c44a77c7bcd40155683ae19c65e1c03b4aa3499c5328201f1"
   }
  }
 },
 "nbformat": 4,
 "nbformat_minor": 2
}
