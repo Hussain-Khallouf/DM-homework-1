{
 "cells": [
  {
   "cell_type": "code",
   "execution_count": 1,
   "metadata": {},
   "outputs": [],
   "source": [
    "import pandas as pd\n",
    "import numpy as np\n",
    "from sklearn.preprocessing import KBinsDiscretizer\n",
    "from sklearn.preprocessing import FunctionTransformer"
   ]
  },
  {
   "attachments": {},
   "cell_type": "markdown",
   "metadata": {},
   "source": [
    "# 1.a\n"
   ]
  },
  {
   "attachments": {},
   "cell_type": "markdown",
   "metadata": {},
   "source": [
    "### Loading Datasets\n"
   ]
  },
  {
   "cell_type": "code",
   "execution_count": 2,
   "metadata": {},
   "outputs": [],
   "source": [
    "attendance = pd.read_csv(\"data/attendance.csv\")\n",
    "referees = pd.read_csv(\"data/referees.csv\")\n",
    "matches = pd.read_csv(\"data/fjelstul/matches.csv\")\n",
    "stadiums = pd.read_csv(\"data/fjelstul/stadiums.csv\")\n",
    "teams = pd.read_csv(\"data/fjelstul/teams.csv\")\n"
   ]
  },
  {
   "attachments": {},
   "cell_type": "markdown",
   "metadata": {},
   "source": [
    "## Exploring Each Dataframe\n"
   ]
  },
  {
   "cell_type": "code",
   "execution_count": 3,
   "metadata": {},
   "outputs": [],
   "source": [
    "# print(\"attendance df shape: \", attendance.shape)\n",
    "# print(\"attendance df columns: \", attendance.columns)\n",
    "# print(\"Nan count:\")\n",
    "# attendance.isnull().sum()\n"
   ]
  },
  {
   "cell_type": "code",
   "execution_count": 4,
   "metadata": {},
   "outputs": [],
   "source": [
    "# print(\"referees df shape: \", referees.shape)\n",
    "# print(\"referees df columns: \", referees.columns)\n",
    "# print(\"Nan count:\")\n",
    "# referees.isnull().sum()\n"
   ]
  },
  {
   "cell_type": "code",
   "execution_count": 5,
   "metadata": {},
   "outputs": [],
   "source": [
    "# print(\"matches df shape: \", matches.shape)\n",
    "# print(\"matches df columns: \", matches.columns)\n",
    "# print(\"Nan count:\")\n",
    "# matches.isnull().sum()\n"
   ]
  },
  {
   "cell_type": "code",
   "execution_count": 6,
   "metadata": {},
   "outputs": [],
   "source": [
    "# print(\"stadiums df shape: \", stadiums.shape)\n",
    "# print(\"stadiums df columns: \", stadiums.columns)\n",
    "# print(\"Nan count:\")\n",
    "# stadiums.isnull().sum()\n"
   ]
  },
  {
   "cell_type": "code",
   "execution_count": 7,
   "metadata": {},
   "outputs": [],
   "source": [
    "# print(\"teams df shape: \", teams.shape)\n",
    "# print(\"teams df columns: \", teams.columns)\n",
    "# print(\"Nan count:\")\n",
    "# teams.isnull().sum()\n"
   ]
  },
  {
   "attachments": {},
   "cell_type": "markdown",
   "metadata": {},
   "source": [
    "### Adding Stadium Capacity To Matches Dataframe based on `stadium_id`\n"
   ]
  },
  {
   "cell_type": "code",
   "execution_count": 8,
   "metadata": {},
   "outputs": [],
   "source": [
    "matches_std = pd.merge(\n",
    "    matches, stadiums[[\"stadium_id\", \"stadium_capacity\"]], on=\"stadium_id\")\n"
   ]
  },
  {
   "attachments": {},
   "cell_type": "markdown",
   "metadata": {},
   "source": [
    "### Setting MultiIndex For Attendance and Referees as Shared Index\n"
   ]
  },
  {
   "cell_type": "code",
   "execution_count": 9,
   "metadata": {},
   "outputs": [],
   "source": [
    "attendance = attendance.set_index([\"home_team\", \"away_team\", \"Date\"])\n",
    "referees = referees.set_index([\"home_team\", \"away_team\", \"Date\"])\n"
   ]
  },
  {
   "attachments": {},
   "cell_type": "markdown",
   "metadata": {},
   "source": [
    "### Checking if all indeces are mutual\n"
   ]
  },
  {
   "cell_type": "code",
   "execution_count": 10,
   "metadata": {},
   "outputs": [
    {
     "data": {
      "text/plain": [
       "0"
      ]
     },
     "execution_count": 10,
     "metadata": {},
     "output_type": "execute_result"
    }
   ],
   "source": [
    "shared_indices = (set(attendance.index.to_list())\n",
    "                  & set(referees.index.to_list()))\n",
    "len(shared_indices) - attendance.shape[0]\n"
   ]
  },
  {
   "attachments": {},
   "cell_type": "markdown",
   "metadata": {},
   "source": [
    "### Concatinating Attendance And Referees Dataframes\n"
   ]
  },
  {
   "cell_type": "code",
   "execution_count": 11,
   "metadata": {},
   "outputs": [
    {
     "name": "stdout",
     "output_type": "stream",
     "text": [
      "<class 'pandas.core.frame.DataFrame'>\n",
      "RangeIndex: 964 entries, 0 to 963\n",
      "Data columns (total 5 columns):\n",
      " #   Column      Non-Null Count  Dtype \n",
      "---  ------      --------------  ----- \n",
      " 0   home_team   964 non-null    object\n",
      " 1   away_team   964 non-null    object\n",
      " 2   Date        964 non-null    object\n",
      " 3   Attendance  964 non-null    int64 \n",
      " 4   Officials   709 non-null    object\n",
      "dtypes: int64(1), object(4)\n",
      "memory usage: 37.8+ KB\n"
     ]
    }
   ],
   "source": [
    "attendance_referees = pd.concat([attendance, referees], axis=1)\n",
    "attendance_referees = attendance_referees.reset_index()\n",
    "attendance_referees.info()\n"
   ]
  },
  {
   "attachments": {},
   "cell_type": "markdown",
   "metadata": {},
   "source": [
    "### Cheking if all team names in attendace dataframe are correct\n"
   ]
  },
  {
   "cell_type": "code",
   "execution_count": 12,
   "metadata": {},
   "outputs": [],
   "source": [
    "atnd_team_df = pd.merge(\n",
    "    teams[[\"team_name\", \"team_code\"]],\n",
    "    attendance_referees,\n",
    "    left_on=[\"team_name\"],\n",
    "    right_on=[\"home_team\"],\n",
    "    how='right'\n",
    ")\n"
   ]
  },
  {
   "cell_type": "code",
   "execution_count": 13,
   "metadata": {},
   "outputs": [
    {
     "name": "stdout",
     "output_type": "stream",
     "text": [
      "Teams that are not exist in teams tabel:\n"
     ]
    },
    {
     "data": {
      "text/plain": [
       "array(['Korea Republic', 'IR Iran', \"Côte d'Ivoire\", 'Korea DPR',\n",
       "       'Türkiye', 'China PR', 'FR Yugoslavia', 'Germany DR'], dtype=object)"
      ]
     },
     "execution_count": 13,
     "metadata": {},
     "output_type": "execute_result"
    }
   ],
   "source": [
    "print(\"Teams that are not exist in teams tabel:\")\n",
    "atnd_team_df.loc[atnd_team_df[\"team_code\"].isna(), \"home_team\"].unique()\n"
   ]
  },
  {
   "attachments": {},
   "cell_type": "markdown",
   "metadata": {},
   "source": [
    "### Normalizing all team names\n"
   ]
  },
  {
   "cell_type": "code",
   "execution_count": 14,
   "metadata": {},
   "outputs": [],
   "source": [
    "team_name_map = {\n",
    "    \"Türkiye\": \"Turkey\",\n",
    "    \"Korea Republic\": \"South Korea\",\n",
    "    \"IR Iran\": \"Iran\",\n",
    "    \"Côte d'Ivoire\": \"Ivory Coast\",\n",
    "    \"Korea DPR\": \"North Korea\",\n",
    "    \"China PR\": \"China\",\n",
    "    \"FR Yugoslavia\": \"Yugoslavia\",\n",
    "    \"Germany DR\": \"East Germany\"\n",
    "}\n",
    "def mapper(team): return team_name_map[team] if team in team_name_map else team\n"
   ]
  },
  {
   "cell_type": "code",
   "execution_count": 15,
   "metadata": {},
   "outputs": [],
   "source": [
    "attendance_referees[\"home_team\"] = attendance_referees[\"home_team\"].map(mapper)\n",
    "attendance_referees[\"away_team\"] = attendance_referees[\"away_team\"].map(mapper)\n"
   ]
  },
  {
   "attachments": {},
   "cell_type": "markdown",
   "metadata": {},
   "source": [
    "### Seting a unique code name `sorted(home_team + away_team)` for each row because home_team and away_team are commutative\n"
   ]
  },
  {
   "cell_type": "code",
   "execution_count": 16,
   "metadata": {},
   "outputs": [],
   "source": [
    "attendance_referees[\"teams_code\"] = [\"\".join(sorted(\n",
    "    home+away)) for home, away in attendance_referees[[\"home_team\", \"away_team\"]].values.tolist()]\n",
    "matches_std[\"teams_code\"] = [\"\".join(sorted(\n",
    "    home+away)) for home, away in matches_std[[\"home_team_name\", \"away_team_name\"]].values.tolist()]\n"
   ]
  },
  {
   "attachments": {},
   "cell_type": "markdown",
   "metadata": {},
   "source": [
    "### Mergne Matches and Attendance\n"
   ]
  },
  {
   "cell_type": "code",
   "execution_count": 17,
   "metadata": {},
   "outputs": [],
   "source": [
    "merged_df = pd.merge(\n",
    "    matches_std,\n",
    "    attendance_referees,\n",
    "    left_on=[\"teams_code\", \"match_date\"],\n",
    "    right_on=[\"teams_code\", \"Date\"],\n",
    "    how='outer'\n",
    ")\n"
   ]
  },
  {
   "attachments": {},
   "cell_type": "markdown",
   "metadata": {},
   "source": [
    "### Cheking If all rows are merged properly\n"
   ]
  },
  {
   "cell_type": "code",
   "execution_count": 18,
   "metadata": {},
   "outputs": [
    {
     "data": {
      "text/html": [
       "<div>\n",
       "<style scoped>\n",
       "    .dataframe tbody tr th:only-of-type {\n",
       "        vertical-align: middle;\n",
       "    }\n",
       "\n",
       "    .dataframe tbody tr th {\n",
       "        vertical-align: top;\n",
       "    }\n",
       "\n",
       "    .dataframe thead th {\n",
       "        text-align: right;\n",
       "    }\n",
       "</style>\n",
       "<table border=\"1\" class=\"dataframe\">\n",
       "  <thead>\n",
       "    <tr style=\"text-align: right;\">\n",
       "      <th></th>\n",
       "      <th>home_team</th>\n",
       "      <th>away_team</th>\n",
       "      <th>home_team_name</th>\n",
       "      <th>away_team_name</th>\n",
       "      <th>Date</th>\n",
       "      <th>match_date</th>\n",
       "      <th>teams_code</th>\n",
       "    </tr>\n",
       "  </thead>\n",
       "  <tbody>\n",
       "    <tr>\n",
       "      <th>118</th>\n",
       "      <td>NaN</td>\n",
       "      <td>NaN</td>\n",
       "      <td>West Germany</td>\n",
       "      <td>Yugoslavia</td>\n",
       "      <td>NaN</td>\n",
       "      <td>1954-06-27</td>\n",
       "      <td>GWYaaaeegilmnorsstuvy</td>\n",
       "    </tr>\n",
       "    <tr>\n",
       "      <th>127</th>\n",
       "      <td>NaN</td>\n",
       "      <td>NaN</td>\n",
       "      <td>West Germany</td>\n",
       "      <td>Turkey</td>\n",
       "      <td>NaN</td>\n",
       "      <td>1954-06-23</td>\n",
       "      <td>GTWaeeekmnrrstuyy</td>\n",
       "    </tr>\n",
       "    <tr>\n",
       "      <th>130</th>\n",
       "      <td>NaN</td>\n",
       "      <td>NaN</td>\n",
       "      <td>West Germany</td>\n",
       "      <td>Turkey</td>\n",
       "      <td>NaN</td>\n",
       "      <td>1954-06-17</td>\n",
       "      <td>GTWaeeekmnrrstuyy</td>\n",
       "    </tr>\n",
       "    <tr>\n",
       "      <th>133</th>\n",
       "      <td>NaN</td>\n",
       "      <td>NaN</td>\n",
       "      <td>West Germany</td>\n",
       "      <td>Hungary</td>\n",
       "      <td>NaN</td>\n",
       "      <td>1954-07-04</td>\n",
       "      <td>GHWaaeegmnnrrstuyy</td>\n",
       "    </tr>\n",
       "    <tr>\n",
       "      <th>136</th>\n",
       "      <td>NaN</td>\n",
       "      <td>NaN</td>\n",
       "      <td>Hungary</td>\n",
       "      <td>West Germany</td>\n",
       "      <td>NaN</td>\n",
       "      <td>1954-06-20</td>\n",
       "      <td>GHWaaeegmnnrrstuyy</td>\n",
       "    </tr>\n",
       "    <tr>\n",
       "      <th>139</th>\n",
       "      <td>NaN</td>\n",
       "      <td>NaN</td>\n",
       "      <td>West Germany</td>\n",
       "      <td>Austria</td>\n",
       "      <td>NaN</td>\n",
       "      <td>1954-06-30</td>\n",
       "      <td>AGWaaeeimnrrssttuy</td>\n",
       "    </tr>\n",
       "    <tr>\n",
       "      <th>964</th>\n",
       "      <td>Germany</td>\n",
       "      <td>Hungary</td>\n",
       "      <td>NaN</td>\n",
       "      <td>NaN</td>\n",
       "      <td>1954-07-04</td>\n",
       "      <td>NaN</td>\n",
       "      <td>GHaaegmnnrruyy</td>\n",
       "    </tr>\n",
       "    <tr>\n",
       "      <th>965</th>\n",
       "      <td>Germany</td>\n",
       "      <td>Austria</td>\n",
       "      <td>NaN</td>\n",
       "      <td>NaN</td>\n",
       "      <td>1954-06-30</td>\n",
       "      <td>NaN</td>\n",
       "      <td>AGaaeimnrrstuy</td>\n",
       "    </tr>\n",
       "    <tr>\n",
       "      <th>966</th>\n",
       "      <td>Germany</td>\n",
       "      <td>Yugoslavia</td>\n",
       "      <td>NaN</td>\n",
       "      <td>NaN</td>\n",
       "      <td>1954-06-27</td>\n",
       "      <td>NaN</td>\n",
       "      <td>GYaaaegilmnorsuvy</td>\n",
       "    </tr>\n",
       "    <tr>\n",
       "      <th>967</th>\n",
       "      <td>Germany</td>\n",
       "      <td>Turkey</td>\n",
       "      <td>NaN</td>\n",
       "      <td>NaN</td>\n",
       "      <td>1954-06-23</td>\n",
       "      <td>NaN</td>\n",
       "      <td>GTaeekmnrruyy</td>\n",
       "    </tr>\n",
       "    <tr>\n",
       "      <th>968</th>\n",
       "      <td>Hungary</td>\n",
       "      <td>Germany</td>\n",
       "      <td>NaN</td>\n",
       "      <td>NaN</td>\n",
       "      <td>1954-06-20</td>\n",
       "      <td>NaN</td>\n",
       "      <td>GHaaegmnnrruyy</td>\n",
       "    </tr>\n",
       "    <tr>\n",
       "      <th>969</th>\n",
       "      <td>Germany</td>\n",
       "      <td>Turkey</td>\n",
       "      <td>NaN</td>\n",
       "      <td>NaN</td>\n",
       "      <td>1954-06-17</td>\n",
       "      <td>NaN</td>\n",
       "      <td>GTaeekmnrruyy</td>\n",
       "    </tr>\n",
       "  </tbody>\n",
       "</table>\n",
       "</div>"
      ],
      "text/plain": [
       "    home_team   away_team home_team_name away_team_name        Date  \\\n",
       "118       NaN         NaN   West Germany     Yugoslavia         NaN   \n",
       "127       NaN         NaN   West Germany         Turkey         NaN   \n",
       "130       NaN         NaN   West Germany         Turkey         NaN   \n",
       "133       NaN         NaN   West Germany        Hungary         NaN   \n",
       "136       NaN         NaN        Hungary   West Germany         NaN   \n",
       "139       NaN         NaN   West Germany        Austria         NaN   \n",
       "964   Germany     Hungary            NaN            NaN  1954-07-04   \n",
       "965   Germany     Austria            NaN            NaN  1954-06-30   \n",
       "966   Germany  Yugoslavia            NaN            NaN  1954-06-27   \n",
       "967   Germany      Turkey            NaN            NaN  1954-06-23   \n",
       "968   Hungary     Germany            NaN            NaN  1954-06-20   \n",
       "969   Germany      Turkey            NaN            NaN  1954-06-17   \n",
       "\n",
       "     match_date              teams_code  \n",
       "118  1954-06-27   GWYaaaeegilmnorsstuvy  \n",
       "127  1954-06-23       GTWaeeekmnrrstuyy  \n",
       "130  1954-06-17       GTWaeeekmnrrstuyy  \n",
       "133  1954-07-04      GHWaaeegmnnrrstuyy  \n",
       "136  1954-06-20      GHWaaeegmnnrrstuyy  \n",
       "139  1954-06-30      AGWaaeeimnrrssttuy  \n",
       "964         NaN          GHaaegmnnrruyy  \n",
       "965         NaN          AGaaeimnrrstuy  \n",
       "966         NaN       GYaaaegilmnorsuvy  \n",
       "967         NaN           GTaeekmnrruyy  \n",
       "968         NaN          GHaaegmnnrruyy  \n",
       "969         NaN           GTaeekmnrruyy  "
      ]
     },
     "execution_count": 18,
     "metadata": {},
     "output_type": "execute_result"
    }
   ],
   "source": [
    "mask = merged_df[[\"Attendance\", \"match_id\"]].isna().any(axis=1)\n",
    "merged_df[[\"home_team\", \"away_team\", \"home_team_name\",\n",
    "           \"away_team_name\", \"Date\", \"match_date\", \"teams_code\"]][mask]\n"
   ]
  },
  {
   "attachments": {},
   "cell_type": "markdown",
   "metadata": {},
   "source": [
    "### It seams that there are some mistakes in Germany team name in the attendance data, Let's correct them by repalcing Germany by West Germany because Germany team did not exist at that time `1954`\n"
   ]
  },
  {
   "cell_type": "code",
   "execution_count": 19,
   "metadata": {},
   "outputs": [
    {
     "data": {
      "text/html": [
       "<div>\n",
       "<style scoped>\n",
       "    .dataframe tbody tr th:only-of-type {\n",
       "        vertical-align: middle;\n",
       "    }\n",
       "\n",
       "    .dataframe tbody tr th {\n",
       "        vertical-align: top;\n",
       "    }\n",
       "\n",
       "    .dataframe thead th {\n",
       "        text-align: right;\n",
       "    }\n",
       "</style>\n",
       "<table border=\"1\" class=\"dataframe\">\n",
       "  <thead>\n",
       "    <tr style=\"text-align: right;\">\n",
       "      <th></th>\n",
       "      <th>home_team</th>\n",
       "      <th>away_team</th>\n",
       "      <th>Date</th>\n",
       "      <th>teams_code</th>\n",
       "    </tr>\n",
       "  </thead>\n",
       "  <tbody>\n",
       "    <tr>\n",
       "      <th>964</th>\n",
       "      <td>Germany</td>\n",
       "      <td>Hungary</td>\n",
       "      <td>1954-07-04</td>\n",
       "      <td>GHaaegmnnrruyy</td>\n",
       "    </tr>\n",
       "    <tr>\n",
       "      <th>965</th>\n",
       "      <td>Germany</td>\n",
       "      <td>Austria</td>\n",
       "      <td>1954-06-30</td>\n",
       "      <td>AGaaeimnrrstuy</td>\n",
       "    </tr>\n",
       "    <tr>\n",
       "      <th>966</th>\n",
       "      <td>Germany</td>\n",
       "      <td>Yugoslavia</td>\n",
       "      <td>1954-06-27</td>\n",
       "      <td>GYaaaegilmnorsuvy</td>\n",
       "    </tr>\n",
       "    <tr>\n",
       "      <th>967</th>\n",
       "      <td>Germany</td>\n",
       "      <td>Turkey</td>\n",
       "      <td>1954-06-23</td>\n",
       "      <td>GTaeekmnrruyy</td>\n",
       "    </tr>\n",
       "    <tr>\n",
       "      <th>968</th>\n",
       "      <td>Hungary</td>\n",
       "      <td>Germany</td>\n",
       "      <td>1954-06-20</td>\n",
       "      <td>GHaaegmnnrruyy</td>\n",
       "    </tr>\n",
       "    <tr>\n",
       "      <th>969</th>\n",
       "      <td>Germany</td>\n",
       "      <td>Turkey</td>\n",
       "      <td>1954-06-17</td>\n",
       "      <td>GTaeekmnrruyy</td>\n",
       "    </tr>\n",
       "  </tbody>\n",
       "</table>\n",
       "</div>"
      ],
      "text/plain": [
       "    home_team   away_team        Date         teams_code\n",
       "964   Germany     Hungary  1954-07-04     GHaaegmnnrruyy\n",
       "965   Germany     Austria  1954-06-30     AGaaeimnrrstuy\n",
       "966   Germany  Yugoslavia  1954-06-27  GYaaaegilmnorsuvy\n",
       "967   Germany      Turkey  1954-06-23      GTaeekmnrruyy\n",
       "968   Hungary     Germany  1954-06-20     GHaaegmnnrruyy\n",
       "969   Germany      Turkey  1954-06-17      GTaeekmnrruyy"
      ]
     },
     "execution_count": 19,
     "metadata": {},
     "output_type": "execute_result"
    }
   ],
   "source": [
    "mask = merged_df[[\"match_id\"]].isna().any(axis=1)\n",
    "wrong_names = merged_df[[\"home_team\", \"away_team\", \"Date\", \"teams_code\"]][mask]\n",
    "wrong_names\n"
   ]
  },
  {
   "attachments": {},
   "cell_type": "markdown",
   "metadata": {},
   "source": [
    "Replace the wrong name with the correct one\n"
   ]
  },
  {
   "cell_type": "code",
   "execution_count": 20,
   "metadata": {},
   "outputs": [],
   "source": [
    "mask = attendance_referees[\"Date\"].isin(\n",
    "    wrong_names[\"Date\"]) & attendance_referees[\"teams_code\"].isin(wrong_names[\"teams_code\"])\n",
    "\n",
    "attendance_referees.loc[mask, [\"home_team\", \"away_team\"]] = attendance_referees.loc[mask, [\n",
    "    \"home_team\", \"away_team\"]].replace(\"Germany\", \"West Germany\")\n",
    "# reshape teams_code \n",
    "attendance_referees[\"teams_code\"] = [\"\".join(sorted(\n",
    "    a+b)) for a, b in attendance_referees[[\"home_team\", \"away_team\"]].values.tolist()]\n"
   ]
  },
  {
   "attachments": {},
   "cell_type": "markdown",
   "metadata": {},
   "source": [
    "### Let's Merge again\n"
   ]
  },
  {
   "cell_type": "code",
   "execution_count": 21,
   "metadata": {},
   "outputs": [],
   "source": [
    "final_df = pd.merge(\n",
    "    matches_std,\n",
    "    attendance_referees,\n",
    "    left_on=[\"teams_code\", \"match_date\"],\n",
    "    right_on=[\"teams_code\", \"Date\"],\n",
    "    how='outer'\n",
    ")\n"
   ]
  },
  {
   "cell_type": "code",
   "execution_count": 22,
   "metadata": {},
   "outputs": [
    {
     "data": {
      "text/html": [
       "<div>\n",
       "<style scoped>\n",
       "    .dataframe tbody tr th:only-of-type {\n",
       "        vertical-align: middle;\n",
       "    }\n",
       "\n",
       "    .dataframe tbody tr th {\n",
       "        vertical-align: top;\n",
       "    }\n",
       "\n",
       "    .dataframe thead th {\n",
       "        text-align: right;\n",
       "    }\n",
       "</style>\n",
       "<table border=\"1\" class=\"dataframe\">\n",
       "  <thead>\n",
       "    <tr style=\"text-align: right;\">\n",
       "      <th></th>\n",
       "      <th>home_team</th>\n",
       "      <th>away_team</th>\n",
       "      <th>home_team_name</th>\n",
       "      <th>away_team_name</th>\n",
       "      <th>Date</th>\n",
       "      <th>match_date</th>\n",
       "      <th>teams_code</th>\n",
       "    </tr>\n",
       "  </thead>\n",
       "  <tbody>\n",
       "  </tbody>\n",
       "</table>\n",
       "</div>"
      ],
      "text/plain": [
       "Empty DataFrame\n",
       "Columns: [home_team, away_team, home_team_name, away_team_name, Date, match_date, teams_code]\n",
       "Index: []"
      ]
     },
     "execution_count": 22,
     "metadata": {},
     "output_type": "execute_result"
    }
   ],
   "source": [
    "mask = final_df[[\"Attendance\", \"match_id\"]].isna().any(axis=1)\n",
    "final_df[[\"home_team\", \"away_team\", \"home_team_name\",\n",
    "          \"away_team_name\", \"Date\", \"match_date\", \"teams_code\"]][mask]\n"
   ]
  },
  {
   "cell_type": "code",
   "execution_count": 23,
   "metadata": {},
   "outputs": [
    {
     "name": "stdout",
     "output_type": "stream",
     "text": [
      "<class 'pandas.core.frame.DataFrame'>\n",
      "Int64Index: 964 entries, 0 to 963\n",
      "Data columns (total 40 columns):\n",
      " #   Column                     Non-Null Count  Dtype \n",
      "---  ------                     --------------  ----- \n",
      " 0   key_id                     964 non-null    int64 \n",
      " 1   tournament_id              964 non-null    object\n",
      " 2   tournament_name            964 non-null    object\n",
      " 3   match_id                   964 non-null    object\n",
      " 4   match_name                 964 non-null    object\n",
      " 5   stage_name                 964 non-null    object\n",
      " 6   group_name                 964 non-null    object\n",
      " 7   group_stage                964 non-null    int64 \n",
      " 8   knockout_stage             964 non-null    int64 \n",
      " 9   replayed                   964 non-null    int64 \n",
      " 10  replay                     964 non-null    int64 \n",
      " 11  match_date                 964 non-null    object\n",
      " 12  match_time                 964 non-null    object\n",
      " 13  stadium_id                 964 non-null    object\n",
      " 14  stadium_name               964 non-null    object\n",
      " 15  city_name                  964 non-null    object\n",
      " 16  country_name               964 non-null    object\n",
      " 17  home_team_id               964 non-null    object\n",
      " 18  home_team_name             964 non-null    object\n",
      " 19  home_team_code             964 non-null    object\n",
      " 20  away_team_id               964 non-null    object\n",
      " 21  away_team_name             964 non-null    object\n",
      " 22  away_team_code             964 non-null    object\n",
      " 23  score                      964 non-null    object\n",
      " 24  home_team_score            964 non-null    int64 \n",
      " 25  away_team_score            964 non-null    int64 \n",
      " 26  home_team_score_margin     964 non-null    int64 \n",
      " 27  away_team_score_margin     964 non-null    int64 \n",
      " 28  extra_time                 964 non-null    int64 \n",
      " 29  penalty_shootout           964 non-null    int64 \n",
      " 30  score_penalties            964 non-null    object\n",
      " 31  home_team_score_penalties  964 non-null    int64 \n",
      " 32  away_team_score_penalties  964 non-null    int64 \n",
      " 33  result                     964 non-null    object\n",
      " 34  home_team_win              964 non-null    int64 \n",
      " 35  away_team_win              964 non-null    int64 \n",
      " 36  draw                       964 non-null    int64 \n",
      " 37  stadium_capacity           964 non-null    int64 \n",
      " 38  Attendance                 964 non-null    int64 \n",
      " 39  officials                  709 non-null    object\n",
      "dtypes: int64(18), object(22)\n",
      "memory usage: 308.8+ KB\n"
     ]
    }
   ],
   "source": [
    "final_df = final_df.drop(\n",
    "    [\"home_team\", \"away_team\", \"teams_code\", \"Date\"], axis=1)\n",
    "final_df = final_df.rename(\n",
    "    columns={\"attendance\": \"attendance\", \"Officials\": \"officials\"})\n",
    "final_df.info()\n"
   ]
  },
  {
   "cell_type": "code",
   "execution_count": 24,
   "metadata": {},
   "outputs": [],
   "source": [
    "final_df.to_csv(\"data/matches_combined_data.csv\", index=False)\n"
   ]
  },
  {
   "attachments": {},
   "cell_type": "markdown",
   "metadata": {},
   "source": [
    "# Done.\n"
   ]
  },
  {
   "attachments": {},
   "cell_type": "markdown",
   "metadata": {},
   "source": [
    "# 1.b\n"
   ]
  },
  {
   "cell_type": "code",
   "execution_count": 25,
   "metadata": {},
   "outputs": [],
   "source": [
    "players = pd.read_csv('data/fjelstul/players.csv')\n",
    "squads = pd.read_csv('data/fjelstul/squads.csv')\n"
   ]
  },
  {
   "cell_type": "code",
   "execution_count": 26,
   "metadata": {},
   "outputs": [
    {
     "data": {
      "text/html": [
       "<div>\n",
       "<style scoped>\n",
       "    .dataframe tbody tr th:only-of-type {\n",
       "        vertical-align: middle;\n",
       "    }\n",
       "\n",
       "    .dataframe tbody tr th {\n",
       "        vertical-align: top;\n",
       "    }\n",
       "\n",
       "    .dataframe thead th {\n",
       "        text-align: right;\n",
       "    }\n",
       "</style>\n",
       "<table border=\"1\" class=\"dataframe\">\n",
       "  <thead>\n",
       "    <tr style=\"text-align: right;\">\n",
       "      <th></th>\n",
       "      <th>key_id</th>\n",
       "      <th>player_id</th>\n",
       "      <th>family_name</th>\n",
       "      <th>given_name</th>\n",
       "      <th>birth_date</th>\n",
       "      <th>goal_keeper</th>\n",
       "      <th>defender</th>\n",
       "      <th>midfielder</th>\n",
       "      <th>forward</th>\n",
       "      <th>count_tournaments</th>\n",
       "      <th>list_tournaments</th>\n",
       "      <th>player_wikipedia_link</th>\n",
       "    </tr>\n",
       "  </thead>\n",
       "  <tbody>\n",
       "    <tr>\n",
       "      <th>0</th>\n",
       "      <td>1</td>\n",
       "      <td>P-08891</td>\n",
       "      <td>A'Court</td>\n",
       "      <td>Alan</td>\n",
       "      <td>1934-09-30</td>\n",
       "      <td>0</td>\n",
       "      <td>0</td>\n",
       "      <td>0</td>\n",
       "      <td>1</td>\n",
       "      <td>1</td>\n",
       "      <td>1958</td>\n",
       "      <td>https://en.wikipedia.org/wiki/Alan_A%27Court</td>\n",
       "    </tr>\n",
       "    <tr>\n",
       "      <th>1</th>\n",
       "      <td>2</td>\n",
       "      <td>P-08589</td>\n",
       "      <td>Aaronson</td>\n",
       "      <td>Brenden</td>\n",
       "      <td>2000-10-22</td>\n",
       "      <td>0</td>\n",
       "      <td>0</td>\n",
       "      <td>0</td>\n",
       "      <td>1</td>\n",
       "      <td>1</td>\n",
       "      <td>2022</td>\n",
       "      <td>https://en.wikipedia.org/wiki/Brenden_Aaronson</td>\n",
       "    </tr>\n",
       "    <tr>\n",
       "      <th>2</th>\n",
       "      <td>3</td>\n",
       "      <td>P-04897</td>\n",
       "      <td>Abadzhiev</td>\n",
       "      <td>Stefan</td>\n",
       "      <td>1934-07-03</td>\n",
       "      <td>0</td>\n",
       "      <td>0</td>\n",
       "      <td>0</td>\n",
       "      <td>1</td>\n",
       "      <td>1</td>\n",
       "      <td>1966</td>\n",
       "      <td>https://en.wikipedia.org/wiki/Stefan_Abadzhiev</td>\n",
       "    </tr>\n",
       "    <tr>\n",
       "      <th>3</th>\n",
       "      <td>4</td>\n",
       "      <td>P-05556</td>\n",
       "      <td>Abalo</td>\n",
       "      <td>Jean-Paul</td>\n",
       "      <td>1975-06-26</td>\n",
       "      <td>0</td>\n",
       "      <td>1</td>\n",
       "      <td>0</td>\n",
       "      <td>0</td>\n",
       "      <td>1</td>\n",
       "      <td>2006</td>\n",
       "      <td>https://en.wikipedia.org/wiki/Jean-Paul_Abalo</td>\n",
       "    </tr>\n",
       "    <tr>\n",
       "      <th>4</th>\n",
       "      <td>5</td>\n",
       "      <td>P-08163</td>\n",
       "      <td>Abanda</td>\n",
       "      <td>Patrice</td>\n",
       "      <td>1978-08-03</td>\n",
       "      <td>0</td>\n",
       "      <td>1</td>\n",
       "      <td>0</td>\n",
       "      <td>0</td>\n",
       "      <td>1</td>\n",
       "      <td>1998</td>\n",
       "      <td>https://en.wikipedia.org/wiki/Patrice_Abanda</td>\n",
       "    </tr>\n",
       "  </tbody>\n",
       "</table>\n",
       "</div>"
      ],
      "text/plain": [
       "   key_id player_id family_name given_name  birth_date  goal_keeper  defender  \\\n",
       "0       1   P-08891     A'Court       Alan  1934-09-30            0         0   \n",
       "1       2   P-08589    Aaronson    Brenden  2000-10-22            0         0   \n",
       "2       3   P-04897   Abadzhiev     Stefan  1934-07-03            0         0   \n",
       "3       4   P-05556       Abalo  Jean-Paul  1975-06-26            0         1   \n",
       "4       5   P-08163      Abanda    Patrice  1978-08-03            0         1   \n",
       "\n",
       "   midfielder  forward  count_tournaments list_tournaments  \\\n",
       "0           0        1                  1             1958   \n",
       "1           0        1                  1             2022   \n",
       "2           0        1                  1             1966   \n",
       "3           0        0                  1             2006   \n",
       "4           0        0                  1             1998   \n",
       "\n",
       "                            player_wikipedia_link  \n",
       "0    https://en.wikipedia.org/wiki/Alan_A%27Court  \n",
       "1  https://en.wikipedia.org/wiki/Brenden_Aaronson  \n",
       "2  https://en.wikipedia.org/wiki/Stefan_Abadzhiev  \n",
       "3   https://en.wikipedia.org/wiki/Jean-Paul_Abalo  \n",
       "4    https://en.wikipedia.org/wiki/Patrice_Abanda  "
      ]
     },
     "execution_count": 26,
     "metadata": {},
     "output_type": "execute_result"
    }
   ],
   "source": [
    "players.head()\n"
   ]
  },
  {
   "cell_type": "code",
   "execution_count": 27,
   "metadata": {},
   "outputs": [
    {
     "data": {
      "text/plain": [
       "(8485, 12)"
      ]
     },
     "execution_count": 27,
     "metadata": {},
     "output_type": "execute_result"
    }
   ],
   "source": [
    "players.shape\n"
   ]
  },
  {
   "cell_type": "code",
   "execution_count": 28,
   "metadata": {},
   "outputs": [
    {
     "data": {
      "text/html": [
       "<div>\n",
       "<style scoped>\n",
       "    .dataframe tbody tr th:only-of-type {\n",
       "        vertical-align: middle;\n",
       "    }\n",
       "\n",
       "    .dataframe tbody tr th {\n",
       "        vertical-align: top;\n",
       "    }\n",
       "\n",
       "    .dataframe thead th {\n",
       "        text-align: right;\n",
       "    }\n",
       "</style>\n",
       "<table border=\"1\" class=\"dataframe\">\n",
       "  <thead>\n",
       "    <tr style=\"text-align: right;\">\n",
       "      <th></th>\n",
       "      <th>key_id</th>\n",
       "      <th>tournament_id</th>\n",
       "      <th>tournament_name</th>\n",
       "      <th>team_id</th>\n",
       "      <th>team_name</th>\n",
       "      <th>team_code</th>\n",
       "      <th>player_id</th>\n",
       "      <th>family_name</th>\n",
       "      <th>given_name</th>\n",
       "      <th>shirt_number</th>\n",
       "      <th>position_name</th>\n",
       "      <th>position_code</th>\n",
       "    </tr>\n",
       "  </thead>\n",
       "  <tbody>\n",
       "    <tr>\n",
       "      <th>0</th>\n",
       "      <td>1</td>\n",
       "      <td>WC-1930</td>\n",
       "      <td>1930 FIFA World Cup</td>\n",
       "      <td>T-03</td>\n",
       "      <td>Argentina</td>\n",
       "      <td>ARG</td>\n",
       "      <td>P-06987</td>\n",
       "      <td>Bossio</td>\n",
       "      <td>Ángel</td>\n",
       "      <td>0</td>\n",
       "      <td>goal keeper</td>\n",
       "      <td>GK</td>\n",
       "    </tr>\n",
       "    <tr>\n",
       "      <th>1</th>\n",
       "      <td>2</td>\n",
       "      <td>WC-1930</td>\n",
       "      <td>1930 FIFA World Cup</td>\n",
       "      <td>T-03</td>\n",
       "      <td>Argentina</td>\n",
       "      <td>ARG</td>\n",
       "      <td>P-00287</td>\n",
       "      <td>Botasso</td>\n",
       "      <td>Juan</td>\n",
       "      <td>0</td>\n",
       "      <td>goal keeper</td>\n",
       "      <td>GK</td>\n",
       "    </tr>\n",
       "    <tr>\n",
       "      <th>2</th>\n",
       "      <td>3</td>\n",
       "      <td>WC-1930</td>\n",
       "      <td>1930 FIFA World Cup</td>\n",
       "      <td>T-03</td>\n",
       "      <td>Argentina</td>\n",
       "      <td>ARG</td>\n",
       "      <td>P-01435</td>\n",
       "      <td>Cherro</td>\n",
       "      <td>Roberto</td>\n",
       "      <td>0</td>\n",
       "      <td>forward</td>\n",
       "      <td>FW</td>\n",
       "    </tr>\n",
       "    <tr>\n",
       "      <th>3</th>\n",
       "      <td>4</td>\n",
       "      <td>WC-1930</td>\n",
       "      <td>1930 FIFA World Cup</td>\n",
       "      <td>T-03</td>\n",
       "      <td>Argentina</td>\n",
       "      <td>ARG</td>\n",
       "      <td>P-01321</td>\n",
       "      <td>Chividini</td>\n",
       "      <td>Alberto</td>\n",
       "      <td>0</td>\n",
       "      <td>defender</td>\n",
       "      <td>DF</td>\n",
       "    </tr>\n",
       "    <tr>\n",
       "      <th>4</th>\n",
       "      <td>5</td>\n",
       "      <td>WC-1930</td>\n",
       "      <td>1930 FIFA World Cup</td>\n",
       "      <td>T-03</td>\n",
       "      <td>Argentina</td>\n",
       "      <td>ARG</td>\n",
       "      <td>P-08552</td>\n",
       "      <td>Della Torre</td>\n",
       "      <td>José</td>\n",
       "      <td>0</td>\n",
       "      <td>defender</td>\n",
       "      <td>DF</td>\n",
       "    </tr>\n",
       "  </tbody>\n",
       "</table>\n",
       "</div>"
      ],
      "text/plain": [
       "   key_id tournament_id      tournament_name team_id  team_name team_code  \\\n",
       "0       1       WC-1930  1930 FIFA World Cup    T-03  Argentina       ARG   \n",
       "1       2       WC-1930  1930 FIFA World Cup    T-03  Argentina       ARG   \n",
       "2       3       WC-1930  1930 FIFA World Cup    T-03  Argentina       ARG   \n",
       "3       4       WC-1930  1930 FIFA World Cup    T-03  Argentina       ARG   \n",
       "4       5       WC-1930  1930 FIFA World Cup    T-03  Argentina       ARG   \n",
       "\n",
       "  player_id  family_name given_name  shirt_number position_name position_code  \n",
       "0   P-06987       Bossio      Ángel             0   goal keeper            GK  \n",
       "1   P-00287      Botasso       Juan             0   goal keeper            GK  \n",
       "2   P-01435       Cherro    Roberto             0       forward            FW  \n",
       "3   P-01321    Chividini    Alberto             0      defender            DF  \n",
       "4   P-08552  Della Torre       José             0      defender            DF  "
      ]
     },
     "execution_count": 28,
     "metadata": {},
     "output_type": "execute_result"
    }
   ],
   "source": [
    "squads.head()\n"
   ]
  },
  {
   "cell_type": "code",
   "execution_count": 29,
   "metadata": {},
   "outputs": [
    {
     "data": {
      "text/plain": [
       "(10973, 12)"
      ]
     },
     "execution_count": 29,
     "metadata": {},
     "output_type": "execute_result"
    }
   ],
   "source": [
    "squads.shape\n"
   ]
  },
  {
   "cell_type": "code",
   "execution_count": 30,
   "metadata": {},
   "outputs": [
    {
     "data": {
      "text/plain": [
       "key_id                   0\n",
       "player_id                0\n",
       "family_name              0\n",
       "given_name               0\n",
       "birth_date               1\n",
       "goal_keeper              0\n",
       "defender                 0\n",
       "midfielder               0\n",
       "forward                  0\n",
       "count_tournaments        0\n",
       "list_tournaments         0\n",
       "player_wikipedia_link    0\n",
       "dtype: int64"
      ]
     },
     "execution_count": 30,
     "metadata": {},
     "output_type": "execute_result"
    }
   ],
   "source": [
    "players.isnull().sum()\n"
   ]
  },
  {
   "cell_type": "code",
   "execution_count": 31,
   "metadata": {},
   "outputs": [
    {
     "data": {
      "text/plain": [
       "key_id             0\n",
       "tournament_id      0\n",
       "tournament_name    0\n",
       "team_id            0\n",
       "team_name          0\n",
       "team_code          0\n",
       "player_id          0\n",
       "family_name        0\n",
       "given_name         0\n",
       "shirt_number       0\n",
       "position_name      0\n",
       "position_code      0\n",
       "dtype: int64"
      ]
     },
     "execution_count": 31,
     "metadata": {},
     "output_type": "execute_result"
    }
   ],
   "source": [
    "squads.isnull().sum()\n"
   ]
  },
  {
   "cell_type": "code",
   "execution_count": 32,
   "metadata": {},
   "outputs": [
    {
     "data": {
      "text/plain": [
       "8485"
      ]
     },
     "execution_count": 32,
     "metadata": {},
     "output_type": "execute_result"
    }
   ],
   "source": [
    "len(squads.player_id.unique())\n"
   ]
  },
  {
   "attachments": {},
   "cell_type": "markdown",
   "metadata": {},
   "source": [
    "the same number of players in both table , so we can get the info according to any table\n"
   ]
  },
  {
   "attachments": {},
   "cell_type": "markdown",
   "metadata": {},
   "source": [
    "-----------"
   ]
  },
  {
   "attachments": {},
   "cell_type": "markdown",
   "metadata": {},
   "source": [
    "get columns from player dataframe\n"
   ]
  },
  {
   "cell_type": "code",
   "execution_count": 33,
   "metadata": {},
   "outputs": [],
   "source": [
    "players_data = players[['player_id', 'given_name',\n",
    "                        'family_name', 'count_tournaments', 'list_tournaments']]"
   ]
  },
  {
   "attachments": {},
   "cell_type": "markdown",
   "metadata": {},
   "source": [
    "get columns from squads dataframe\n"
   ]
  },
  {
   "cell_type": "code",
   "execution_count": 34,
   "metadata": {},
   "outputs": [],
   "source": [
    "teams_names_codes = squads[['player_id', 'team_name', 'team_code']]\n"
   ]
  },
  {
   "attachments": {},
   "cell_type": "markdown",
   "metadata": {},
   "source": [
    "number of teams for each player\n"
   ]
  },
  {
   "cell_type": "code",
   "execution_count": 35,
   "metadata": {},
   "outputs": [],
   "source": [
    "team_count = teams_names_codes.groupby(\n",
    "    'player_id').agg({'team_code': pd.Series.nunique})\n",
    "team_count.rename(columns={'team_code': 'team_count'}, inplace=True)\n"
   ]
  },
  {
   "cell_type": "code",
   "execution_count": 36,
   "metadata": {},
   "outputs": [
    {
     "data": {
      "text/html": [
       "<div>\n",
       "<style scoped>\n",
       "    .dataframe tbody tr th:only-of-type {\n",
       "        vertical-align: middle;\n",
       "    }\n",
       "\n",
       "    .dataframe tbody tr th {\n",
       "        vertical-align: top;\n",
       "    }\n",
       "\n",
       "    .dataframe thead th {\n",
       "        text-align: right;\n",
       "    }\n",
       "</style>\n",
       "<table border=\"1\" class=\"dataframe\">\n",
       "  <thead>\n",
       "    <tr style=\"text-align: right;\">\n",
       "      <th></th>\n",
       "      <th>player_id</th>\n",
       "      <th>team_name</th>\n",
       "      <th>team_code</th>\n",
       "      <th>team_count</th>\n",
       "    </tr>\n",
       "  </thead>\n",
       "  <tbody>\n",
       "    <tr>\n",
       "      <th>0</th>\n",
       "      <td>P-06987</td>\n",
       "      <td>Argentina</td>\n",
       "      <td>ARG</td>\n",
       "      <td>1</td>\n",
       "    </tr>\n",
       "    <tr>\n",
       "      <th>1</th>\n",
       "      <td>P-00287</td>\n",
       "      <td>Argentina</td>\n",
       "      <td>ARG</td>\n",
       "      <td>1</td>\n",
       "    </tr>\n",
       "    <tr>\n",
       "      <th>2</th>\n",
       "      <td>P-01435</td>\n",
       "      <td>Argentina</td>\n",
       "      <td>ARG</td>\n",
       "      <td>1</td>\n",
       "    </tr>\n",
       "    <tr>\n",
       "      <th>3</th>\n",
       "      <td>P-01321</td>\n",
       "      <td>Argentina</td>\n",
       "      <td>ARG</td>\n",
       "      <td>1</td>\n",
       "    </tr>\n",
       "    <tr>\n",
       "      <th>4</th>\n",
       "      <td>P-08552</td>\n",
       "      <td>Argentina</td>\n",
       "      <td>ARG</td>\n",
       "      <td>1</td>\n",
       "    </tr>\n",
       "    <tr>\n",
       "      <th>...</th>\n",
       "      <td>...</td>\n",
       "      <td>...</td>\n",
       "      <td>...</td>\n",
       "      <td>...</td>\n",
       "    </tr>\n",
       "    <tr>\n",
       "      <th>10968</th>\n",
       "      <td>P-08129</td>\n",
       "      <td>Wales</td>\n",
       "      <td>WAL</td>\n",
       "      <td>1</td>\n",
       "    </tr>\n",
       "    <tr>\n",
       "      <th>10969</th>\n",
       "      <td>P-05661</td>\n",
       "      <td>Wales</td>\n",
       "      <td>WAL</td>\n",
       "      <td>1</td>\n",
       "    </tr>\n",
       "    <tr>\n",
       "      <th>10970</th>\n",
       "      <td>P-03434</td>\n",
       "      <td>Wales</td>\n",
       "      <td>WAL</td>\n",
       "      <td>1</td>\n",
       "    </tr>\n",
       "    <tr>\n",
       "      <th>10971</th>\n",
       "      <td>P-08781</td>\n",
       "      <td>Wales</td>\n",
       "      <td>WAL</td>\n",
       "      <td>1</td>\n",
       "    </tr>\n",
       "    <tr>\n",
       "      <th>10972</th>\n",
       "      <td>P-00436</td>\n",
       "      <td>Wales</td>\n",
       "      <td>WAL</td>\n",
       "      <td>1</td>\n",
       "    </tr>\n",
       "  </tbody>\n",
       "</table>\n",
       "<p>10973 rows × 4 columns</p>\n",
       "</div>"
      ],
      "text/plain": [
       "      player_id  team_name team_code  team_count\n",
       "0       P-06987  Argentina       ARG           1\n",
       "1       P-00287  Argentina       ARG           1\n",
       "2       P-01435  Argentina       ARG           1\n",
       "3       P-01321  Argentina       ARG           1\n",
       "4       P-08552  Argentina       ARG           1\n",
       "...         ...        ...       ...         ...\n",
       "10968   P-08129      Wales       WAL           1\n",
       "10969   P-05661      Wales       WAL           1\n",
       "10970   P-03434      Wales       WAL           1\n",
       "10971   P-08781      Wales       WAL           1\n",
       "10972   P-00436      Wales       WAL           1\n",
       "\n",
       "[10973 rows x 4 columns]"
      ]
     },
     "execution_count": 36,
     "metadata": {},
     "output_type": "execute_result"
    }
   ],
   "source": [
    "teams_names_codes_count = teams_names_codes.merge(team_count, on='player_id')\n",
    "teams_names_codes_count\n"
   ]
  },
  {
   "cell_type": "code",
   "execution_count": 37,
   "metadata": {},
   "outputs": [
    {
     "name": "stdout",
     "output_type": "stream",
     "text": [
      "we have 20 player have played in more than one team\n"
     ]
    }
   ],
   "source": [
    "plrs = teams_names_codes_count[teams_names_codes_count['team_count']\n",
    "                        > 1]['player_id'].nunique()\n",
    "print(f\"we have {plrs} player have played in more than one team\")"
   ]
  },
  {
   "cell_type": "code",
   "execution_count": 38,
   "metadata": {},
   "outputs": [
    {
     "data": {
      "text/html": [
       "<div>\n",
       "<style scoped>\n",
       "    .dataframe tbody tr th:only-of-type {\n",
       "        vertical-align: middle;\n",
       "    }\n",
       "\n",
       "    .dataframe tbody tr th {\n",
       "        vertical-align: top;\n",
       "    }\n",
       "\n",
       "    .dataframe thead th {\n",
       "        text-align: right;\n",
       "    }\n",
       "</style>\n",
       "<table border=\"1\" class=\"dataframe\">\n",
       "  <thead>\n",
       "    <tr style=\"text-align: right;\">\n",
       "      <th></th>\n",
       "      <th>player_id</th>\n",
       "      <th>given_name</th>\n",
       "      <th>family_name</th>\n",
       "      <th>count_tournaments</th>\n",
       "      <th>list_tournaments</th>\n",
       "      <th>team_name</th>\n",
       "      <th>team_code</th>\n",
       "      <th>team_count</th>\n",
       "    </tr>\n",
       "  </thead>\n",
       "  <tbody>\n",
       "    <tr>\n",
       "      <th>0</th>\n",
       "      <td>P-08891</td>\n",
       "      <td>Alan</td>\n",
       "      <td>A'Court</td>\n",
       "      <td>1</td>\n",
       "      <td>1958</td>\n",
       "      <td>England</td>\n",
       "      <td>ENG</td>\n",
       "      <td>1</td>\n",
       "    </tr>\n",
       "    <tr>\n",
       "      <th>1</th>\n",
       "      <td>P-08589</td>\n",
       "      <td>Brenden</td>\n",
       "      <td>Aaronson</td>\n",
       "      <td>1</td>\n",
       "      <td>2022</td>\n",
       "      <td>United States</td>\n",
       "      <td>USA</td>\n",
       "      <td>1</td>\n",
       "    </tr>\n",
       "    <tr>\n",
       "      <th>2</th>\n",
       "      <td>P-04897</td>\n",
       "      <td>Stefan</td>\n",
       "      <td>Abadzhiev</td>\n",
       "      <td>1</td>\n",
       "      <td>1966</td>\n",
       "      <td>Bulgaria</td>\n",
       "      <td>BGR</td>\n",
       "      <td>1</td>\n",
       "    </tr>\n",
       "    <tr>\n",
       "      <th>3</th>\n",
       "      <td>P-05556</td>\n",
       "      <td>Jean-Paul</td>\n",
       "      <td>Abalo</td>\n",
       "      <td>1</td>\n",
       "      <td>2006</td>\n",
       "      <td>Togo</td>\n",
       "      <td>TGO</td>\n",
       "      <td>1</td>\n",
       "    </tr>\n",
       "    <tr>\n",
       "      <th>4</th>\n",
       "      <td>P-08163</td>\n",
       "      <td>Patrice</td>\n",
       "      <td>Abanda</td>\n",
       "      <td>1</td>\n",
       "      <td>1998</td>\n",
       "      <td>Cameroon</td>\n",
       "      <td>CMR</td>\n",
       "      <td>1</td>\n",
       "    </tr>\n",
       "    <tr>\n",
       "      <th>...</th>\n",
       "      <td>...</td>\n",
       "      <td>...</td>\n",
       "      <td>...</td>\n",
       "      <td>...</td>\n",
       "      <td>...</td>\n",
       "      <td>...</td>\n",
       "      <td>...</td>\n",
       "      <td>...</td>\n",
       "    </tr>\n",
       "    <tr>\n",
       "      <th>10968</th>\n",
       "      <td>P-06718</td>\n",
       "      <td>Maciej</td>\n",
       "      <td>Żurawski</td>\n",
       "      <td>2</td>\n",
       "      <td>2002, 2006</td>\n",
       "      <td>Poland</td>\n",
       "      <td>POL</td>\n",
       "      <td>1</td>\n",
       "    </tr>\n",
       "    <tr>\n",
       "      <th>10969</th>\n",
       "      <td>P-03465</td>\n",
       "      <td>Szymon</td>\n",
       "      <td>Żurkowski</td>\n",
       "      <td>1</td>\n",
       "      <td>2022</td>\n",
       "      <td>Poland</td>\n",
       "      <td>POL</td>\n",
       "      <td>1</td>\n",
       "    </tr>\n",
       "    <tr>\n",
       "      <th>10970</th>\n",
       "      <td>P-08318</td>\n",
       "      <td>Graham</td>\n",
       "      <td>Zusi</td>\n",
       "      <td>1</td>\n",
       "      <td>2014</td>\n",
       "      <td>United States</td>\n",
       "      <td>USA</td>\n",
       "      <td>1</td>\n",
       "    </tr>\n",
       "    <tr>\n",
       "      <th>10971</th>\n",
       "      <td>P-05921</td>\n",
       "      <td>Andrei</td>\n",
       "      <td>Zygmantovich</td>\n",
       "      <td>1</td>\n",
       "      <td>1990</td>\n",
       "      <td>Soviet Union</td>\n",
       "      <td>SUN</td>\n",
       "      <td>1</td>\n",
       "    </tr>\n",
       "    <tr>\n",
       "      <th>10972</th>\n",
       "      <td>P-03072</td>\n",
       "      <td>Valery</td>\n",
       "      <td>Zykov</td>\n",
       "      <td>1</td>\n",
       "      <td>1970</td>\n",
       "      <td>Soviet Union</td>\n",
       "      <td>SUN</td>\n",
       "      <td>1</td>\n",
       "    </tr>\n",
       "  </tbody>\n",
       "</table>\n",
       "<p>10973 rows × 8 columns</p>\n",
       "</div>"
      ],
      "text/plain": [
       "      player_id given_name   family_name  count_tournaments list_tournaments  \\\n",
       "0       P-08891       Alan       A'Court                  1             1958   \n",
       "1       P-08589    Brenden      Aaronson                  1             2022   \n",
       "2       P-04897     Stefan     Abadzhiev                  1             1966   \n",
       "3       P-05556  Jean-Paul         Abalo                  1             2006   \n",
       "4       P-08163    Patrice        Abanda                  1             1998   \n",
       "...         ...        ...           ...                ...              ...   \n",
       "10968   P-06718     Maciej      Żurawski                  2       2002, 2006   \n",
       "10969   P-03465     Szymon     Żurkowski                  1             2022   \n",
       "10970   P-08318     Graham          Zusi                  1             2014   \n",
       "10971   P-05921     Andrei  Zygmantovich                  1             1990   \n",
       "10972   P-03072     Valery         Zykov                  1             1970   \n",
       "\n",
       "           team_name team_code  team_count  \n",
       "0            England       ENG           1  \n",
       "1      United States       USA           1  \n",
       "2           Bulgaria       BGR           1  \n",
       "3               Togo       TGO           1  \n",
       "4           Cameroon       CMR           1  \n",
       "...              ...       ...         ...  \n",
       "10968         Poland       POL           1  \n",
       "10969         Poland       POL           1  \n",
       "10970  United States       USA           1  \n",
       "10971   Soviet Union       SUN           1  \n",
       "10972   Soviet Union       SUN           1  \n",
       "\n",
       "[10973 rows x 8 columns]"
      ]
     },
     "execution_count": 38,
     "metadata": {},
     "output_type": "execute_result"
    }
   ],
   "source": [
    "player_teams = players_data.merge(teams_names_codes_count, on='player_id')\n",
    "player_teams\n"
   ]
  },
  {
   "cell_type": "code",
   "execution_count": 39,
   "metadata": {},
   "outputs": [
    {
     "data": {
      "text/html": [
       "<div>\n",
       "<style scoped>\n",
       "    .dataframe tbody tr th:only-of-type {\n",
       "        vertical-align: middle;\n",
       "    }\n",
       "\n",
       "    .dataframe tbody tr th {\n",
       "        vertical-align: top;\n",
       "    }\n",
       "\n",
       "    .dataframe thead th {\n",
       "        text-align: right;\n",
       "    }\n",
       "</style>\n",
       "<table border=\"1\" class=\"dataframe\">\n",
       "  <thead>\n",
       "    <tr style=\"text-align: right;\">\n",
       "      <th></th>\n",
       "      <th>player_id</th>\n",
       "      <th>given_name</th>\n",
       "      <th>family_name</th>\n",
       "      <th>count_tournaments</th>\n",
       "      <th>team_count</th>\n",
       "      <th>list_tournaments</th>\n",
       "      <th>team_name</th>\n",
       "      <th>team_code</th>\n",
       "    </tr>\n",
       "  </thead>\n",
       "  <tbody>\n",
       "    <tr>\n",
       "      <th>0</th>\n",
       "      <td>P-00001</td>\n",
       "      <td>Harald</td>\n",
       "      <td>Schumacher</td>\n",
       "      <td>2</td>\n",
       "      <td>1</td>\n",
       "      <td>1982, 1986</td>\n",
       "      <td>West Germany</td>\n",
       "      <td>DEU</td>\n",
       "    </tr>\n",
       "    <tr>\n",
       "      <th>1</th>\n",
       "      <td>P-00002</td>\n",
       "      <td>Ismail</td>\n",
       "      <td>Mohammed Sharif</td>\n",
       "      <td>1</td>\n",
       "      <td>1</td>\n",
       "      <td>1986</td>\n",
       "      <td>Iraq</td>\n",
       "      <td>IRQ</td>\n",
       "    </tr>\n",
       "    <tr>\n",
       "      <th>2</th>\n",
       "      <td>P-00003</td>\n",
       "      <td>not applicable</td>\n",
       "      <td>Otávio</td>\n",
       "      <td>1</td>\n",
       "      <td>1</td>\n",
       "      <td>2022</td>\n",
       "      <td>Portugal</td>\n",
       "      <td>PRT</td>\n",
       "    </tr>\n",
       "    <tr>\n",
       "      <th>3</th>\n",
       "      <td>P-00004</td>\n",
       "      <td>Julio César</td>\n",
       "      <td>Cortés</td>\n",
       "      <td>3</td>\n",
       "      <td>1</td>\n",
       "      <td>1962, 1966, 1970</td>\n",
       "      <td>Uruguay</td>\n",
       "      <td>URY</td>\n",
       "    </tr>\n",
       "    <tr>\n",
       "      <th>4</th>\n",
       "      <td>P-00005</td>\n",
       "      <td>Guy</td>\n",
       "      <td>Vandersmissen</td>\n",
       "      <td>1</td>\n",
       "      <td>1</td>\n",
       "      <td>1982</td>\n",
       "      <td>Belgium</td>\n",
       "      <td>BEL</td>\n",
       "    </tr>\n",
       "    <tr>\n",
       "      <th>...</th>\n",
       "      <td>...</td>\n",
       "      <td>...</td>\n",
       "      <td>...</td>\n",
       "      <td>...</td>\n",
       "      <td>...</td>\n",
       "      <td>...</td>\n",
       "      <td>...</td>\n",
       "      <td>...</td>\n",
       "    </tr>\n",
       "    <tr>\n",
       "      <th>8480</th>\n",
       "      <td>P-09994</td>\n",
       "      <td>Landry</td>\n",
       "      <td>N'Guémo</td>\n",
       "      <td>2</td>\n",
       "      <td>1</td>\n",
       "      <td>2010, 2014</td>\n",
       "      <td>Cameroon</td>\n",
       "      <td>CMR</td>\n",
       "    </tr>\n",
       "    <tr>\n",
       "      <th>8481</th>\n",
       "      <td>P-09996</td>\n",
       "      <td>Ramiro</td>\n",
       "      <td>Castillo</td>\n",
       "      <td>1</td>\n",
       "      <td>1</td>\n",
       "      <td>1994</td>\n",
       "      <td>Bolivia</td>\n",
       "      <td>BOL</td>\n",
       "    </tr>\n",
       "    <tr>\n",
       "      <th>8482</th>\n",
       "      <td>P-09997</td>\n",
       "      <td>Jonás</td>\n",
       "      <td>Gutiérrez</td>\n",
       "      <td>1</td>\n",
       "      <td>1</td>\n",
       "      <td>2010</td>\n",
       "      <td>Argentina</td>\n",
       "      <td>ARG</td>\n",
       "    </tr>\n",
       "    <tr>\n",
       "      <th>8483</th>\n",
       "      <td>P-09998</td>\n",
       "      <td>not applicable</td>\n",
       "      <td>Rivaldo</td>\n",
       "      <td>2</td>\n",
       "      <td>1</td>\n",
       "      <td>1998, 2002</td>\n",
       "      <td>Brazil</td>\n",
       "      <td>BRA</td>\n",
       "    </tr>\n",
       "    <tr>\n",
       "      <th>8484</th>\n",
       "      <td>P-09999</td>\n",
       "      <td>Giorgian</td>\n",
       "      <td>De Arrascaeta</td>\n",
       "      <td>1</td>\n",
       "      <td>1</td>\n",
       "      <td>2018</td>\n",
       "      <td>Uruguay</td>\n",
       "      <td>URY</td>\n",
       "    </tr>\n",
       "  </tbody>\n",
       "</table>\n",
       "<p>8485 rows × 8 columns</p>\n",
       "</div>"
      ],
      "text/plain": [
       "     player_id      given_name      family_name  count_tournaments  \\\n",
       "0      P-00001          Harald       Schumacher                  2   \n",
       "1      P-00002          Ismail  Mohammed Sharif                  1   \n",
       "2      P-00003  not applicable           Otávio                  1   \n",
       "3      P-00004     Julio César           Cortés                  3   \n",
       "4      P-00005             Guy    Vandersmissen                  1   \n",
       "...        ...             ...              ...                ...   \n",
       "8480   P-09994          Landry          N'Guémo                  2   \n",
       "8481   P-09996          Ramiro         Castillo                  1   \n",
       "8482   P-09997           Jonás        Gutiérrez                  1   \n",
       "8483   P-09998  not applicable          Rivaldo                  2   \n",
       "8484   P-09999        Giorgian    De Arrascaeta                  1   \n",
       "\n",
       "      team_count  list_tournaments     team_name team_code  \n",
       "0              1        1982, 1986  West Germany       DEU  \n",
       "1              1              1986          Iraq       IRQ  \n",
       "2              1              2022      Portugal       PRT  \n",
       "3              1  1962, 1966, 1970       Uruguay       URY  \n",
       "4              1              1982       Belgium       BEL  \n",
       "...          ...               ...           ...       ...  \n",
       "8480           1        2010, 2014      Cameroon       CMR  \n",
       "8481           1              1994       Bolivia       BOL  \n",
       "8482           1              2010     Argentina       ARG  \n",
       "8483           1        1998, 2002        Brazil       BRA  \n",
       "8484           1              2018       Uruguay       URY  \n",
       "\n",
       "[8485 rows x 8 columns]"
      ]
     },
     "execution_count": 39,
     "metadata": {},
     "output_type": "execute_result"
    }
   ],
   "source": [
    "def unique_list(items): return ','.join(list(dict.fromkeys(items)))\n",
    "\n",
    "player_teams_agg = player_teams.groupby('player_id').agg({\n",
    "    'given_name': \"first\",\n",
    "    'family_name': \"first\",\n",
    "    'count_tournaments': 'first',\n",
    "    \"team_count\": \"first\",\n",
    "    'list_tournaments': unique_list,\n",
    "    'team_name': unique_list,\n",
    "    'team_code': unique_list,\n",
    "})\n",
    "player_teams_agg = player_teams_agg.reset_index()\n",
    "player_teams_agg\n"
   ]
  },
  {
   "cell_type": "code",
   "execution_count": 40,
   "metadata": {},
   "outputs": [],
   "source": [
    "player_teams.to_csv('data/player_teams.csv',index=False)\n",
    "player_teams_agg.to_csv('data/player_teams_agg.csv',index=False)"
   ]
  },
  {
   "attachments": {},
   "cell_type": "markdown",
   "metadata": {},
   "source": [
    "-----------------"
   ]
  },
  {
   "attachments": {},
   "cell_type": "markdown",
   "metadata": {},
   "source": [
    "# 2"
   ]
  },
  {
   "cell_type": "code",
   "execution_count": 41,
   "metadata": {},
   "outputs": [],
   "source": [
    "matches = pd.read_csv(\"data/matches_combined_data.csv\")\n",
    "teams = pd.read_csv(\"data/fjelstul/teams.csv\")\n",
    "players_teams_agg = pd.read_csv('data/player_teams_agg.csv')\n",
    "goals = pd.read_csv('data/fjelstul/goals.csv')"
   ]
  },
  {
   "attachments": {},
   "cell_type": "markdown",
   "metadata": {},
   "source": [
    "### total_goals_in_match"
   ]
  },
  {
   "cell_type": "code",
   "execution_count": 42,
   "metadata": {},
   "outputs": [],
   "source": [
    "matches[\"total_goals_in_match\"] = (\n",
    "    matches[\"home_team_score\"] +\n",
    "    matches[\"away_team_score\"] +\n",
    "    matches[\"home_team_score_penalties\"] +\n",
    "    matches[\"away_team_score_penalties\"]\n",
    ")"
   ]
  },
  {
   "attachments": {},
   "cell_type": "markdown",
   "metadata": {},
   "source": [
    "### used_capacity_ratio"
   ]
  },
  {
   "cell_type": "code",
   "execution_count": 43,
   "metadata": {},
   "outputs": [],
   "source": [
    "matches[\"used_capacity_ratio\"] = matches[\"Attendance\"] / matches[\"stadium_capacity\"]"
   ]
  },
  {
   "attachments": {},
   "cell_type": "markdown",
   "metadata": {},
   "source": [
    "### attendance_category "
   ]
  },
  {
   "cell_type": "code",
   "execution_count": 44,
   "metadata": {},
   "outputs": [],
   "source": [
    "transformer = KBinsDiscretizer(n_bins=5, encode='ordinal')\n",
    "discrete_attendance = transformer.fit_transform(matches['Attendance'].values.reshape(-1, 1))\n",
    "matches[\"attendance_category\"] = discrete_attendance"
   ]
  },
  {
   "attachments": {},
   "cell_type": "markdown",
   "metadata": {},
   "source": [
    "### relative_attendance_category"
   ]
  },
  {
   "cell_type": "code",
   "execution_count": 45,
   "metadata": {},
   "outputs": [],
   "source": [
    "bins = [0 , 0.99, 1.01, np.inf]\n",
    "labels = ['underload', 'full', 'overload']\n",
    "transformer = FunctionTransformer(pd.cut, kw_args={'bins': bins, \n",
    "                                                   'labels': labels, \n",
    "                                                   'retbins': False})\n",
    "matches[\"relative_attendance_category\"] = transformer.fit_transform(matches['used_capacity_ratio'])"
   ]
  },
  {
   "attachments": {},
   "cell_type": "markdown",
   "metadata": {},
   "source": [
    "### host_country_code"
   ]
  },
  {
   "cell_type": "code",
   "execution_count": 46,
   "metadata": {},
   "outputs": [],
   "source": [
    "matches = pd.merge(\n",
    "    matches,\n",
    "    teams[[\"team_name\", \"team_code\"]],\n",
    "    left_on=[\"country_name\"],\n",
    "    right_on=[\"team_name\"],\n",
    "    how=\"left\"\n",
    ")"
   ]
  },
  {
   "cell_type": "code",
   "execution_count": 47,
   "metadata": {},
   "outputs": [],
   "source": [
    "matches = matches.drop(\"team_name\", axis=1)\n",
    "matches = matches.rename(columns={\"team_code\": \"host_country_code\"})"
   ]
  },
  {
   "attachments": {},
   "cell_type": "markdown",
   "metadata": {},
   "source": [
    "###  match_for_host"
   ]
  },
  {
   "cell_type": "code",
   "execution_count": 48,
   "metadata": {},
   "outputs": [],
   "source": [
    "condition1 = matches[\"host_country_code\"] == matches[\"home_team_code\"]\n",
    "condition2 = matches[\"host_country_code\"] == matches[\"away_team_code\"]\n",
    "matches[\"match_for_host\"] = condition1 | condition2"
   ]
  },
  {
   "attachments": {},
   "cell_type": "markdown",
   "metadata": {},
   "source": [
    "###  tournament_year"
   ]
  },
  {
   "cell_type": "code",
   "execution_count": 49,
   "metadata": {},
   "outputs": [],
   "source": [
    "matches[\"tournament_year\"] = matches.tournament_id.str.split(\"-\").str.get(1)"
   ]
  },
  {
   "attachments": {},
   "cell_type": "markdown",
   "metadata": {},
   "source": [
    "###  full_name"
   ]
  },
  {
   "cell_type": "code",
   "execution_count": 50,
   "metadata": {},
   "outputs": [],
   "source": [
    "players_teams_agg['full_name'] = players_teams_agg.apply(\n",
    "    lambda row: row['given_name'] + ' ' + row['family_name'] if row['given_name'] != 'not applicable' else row['family_name'],\n",
    "    axis=1\n",
    ")"
   ]
  },
  {
   "attachments": {},
   "cell_type": "markdown",
   "metadata": {},
   "source": [
    "###  short_stage_name"
   ]
  },
  {
   "cell_type": "code",
   "execution_count": 51,
   "metadata": {},
   "outputs": [],
   "source": [
    "matches[\"short_stage_name\"] = np.where(matches['group_stage'] == 1, 'group', 'knockout')"
   ]
  },
  {
   "attachments": {},
   "cell_type": "markdown",
   "metadata": {},
   "source": [
    "### winner_code "
   ]
  },
  {
   "cell_type": "code",
   "execution_count": 52,
   "metadata": {},
   "outputs": [],
   "source": [
    "conditions = [matches['home_team_win'].astype(bool), matches['away_team_win'].astype(bool)]\n",
    "choices = [matches['home_team_code'], matches['away_team_code']]\n",
    "matches['winner_code'] = np.select(conditions, choices, default=None)"
   ]
  },
  {
   "attachments": {},
   "cell_type": "markdown",
   "metadata": {},
   "source": [
    "### Late_goal"
   ]
  },
  {
   "cell_type": "code",
   "execution_count": 53,
   "metadata": {},
   "outputs": [],
   "source": [
    "def get_max_minutes(label):\n",
    "    if label == 'first half':\n",
    "        return 45\n",
    "    elif label == 'second half':\n",
    "        return 90\n",
    "    elif label == 'extra time, first half':\n",
    "        return 105\n",
    "    elif label == 'extra time, second half':\n",
    "        return 120\n",
    "    elif label == 'second half, stoppage time':\n",
    "        return 90 + 13\n",
    "    elif label == 'first half, stoppage time':\n",
    "        return 45 + 13\n",
    "    elif label == 'extra time, second half, stoppage time':\n",
    "        return 120 + 13\n",
    "    elif label == 'extra time, first half, stoppage time':\n",
    "        return 105 + 13\n",
    "    else:\n",
    "        return None\n",
    "\n",
    "def is_end_of(name, minute):\n",
    "    max_minute = get_max_minutes(name)\n",
    "    return max_minute - minute <= 5 \n",
    "\n",
    "def answer_provider(row):\n",
    "    if 'first' in row.match_period :\n",
    "        return False \n",
    "    if 'stoppage' in row.match_period:\n",
    "        return True \n",
    "    return is_end_of(row.match_period,row.minute_regulation)\n",
    "\n"
   ]
  },
  {
   "cell_type": "code",
   "execution_count": 54,
   "metadata": {},
   "outputs": [],
   "source": [
    "goals['late_goal'] =  goals.apply(answer_provider,axis=1)"
   ]
  },
  {
   "cell_type": "code",
   "execution_count": 56,
   "metadata": {},
   "outputs": [],
   "source": [
    "matches.to_csv('data/matches_combined_data.csv',index=False)\n",
    "goals.to_csv('data/goals_data.csv',index=False)"
   ]
  }
 ],
 "metadata": {
  "kernelspec": {
   "display_name": "Python 3.10.6 64-bit",
   "language": "python",
   "name": "python3"
  },
  "language_info": {
   "codemirror_mode": {
    "name": "ipython",
    "version": 3
   },
   "file_extension": ".py",
   "mimetype": "text/x-python",
   "name": "python",
   "nbconvert_exporter": "python",
   "pygments_lexer": "ipython3",
   "version": "3.10.6"
  },
  "orig_nbformat": 4,
  "vscode": {
   "interpreter": {
    "hash": "916dbcbb3f70747c44a77c7bcd40155683ae19c65e1c03b4aa3499c5328201f1"
   }
  }
 },
 "nbformat": 4,
 "nbformat_minor": 2
}
