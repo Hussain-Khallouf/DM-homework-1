{
 "cells": [
  {
   "cell_type": "code",
   "execution_count": 54,
   "metadata": {},
   "outputs": [],
   "source": [
    "import pandas as pd\n",
    "import numpy as np\n",
    "from sklearn.preprocessing import KBinsDiscretizer\n",
    "from sklearn.preprocessing import FunctionTransformer\n"
   ]
  },
  {
   "cell_type": "code",
   "execution_count": 55,
   "metadata": {},
   "outputs": [],
   "source": [
    "matches = pd.read_csv(\"data/matches_combined_data.csv\")\n",
    "teams = pd.read_csv(\"data/fjelstul/teams.csv\")"
   ]
  },
  {
   "cell_type": "markdown",
   "metadata": {},
   "source": [
    "### 1. total_goals_in_match"
   ]
  },
  {
   "cell_type": "code",
   "execution_count": 56,
   "metadata": {},
   "outputs": [],
   "source": [
    "matches[\"total_goals_in_match\"] = (\n",
    "    matches[\"home_team_score\"] +\n",
    "    matches[\"away_team_score\"] +\n",
    "    matches[\"home_team_score_penalties\"] +\n",
    "    matches[\"away_team_score_penalties\"]\n",
    ")"
   ]
  },
  {
   "cell_type": "markdown",
   "metadata": {},
   "source": [
    "### 2. match_for_host"
   ]
  },
  {
   "cell_type": "code",
   "execution_count": 57,
   "metadata": {},
   "outputs": [],
   "source": [
    "condition1 = matches[\"country_name\"] == matches[\"home_team_name\"]\n",
    "condition2 = matches[\"country_name\"] == matches[\"away_team_name\"]\n",
    "matches[\"match_for_host\"] = condition1 | condition2\n"
   ]
  },
  {
   "cell_type": "markdown",
   "metadata": {},
   "source": [
    "### 3. used_capacity_ratio"
   ]
  },
  {
   "cell_type": "code",
   "execution_count": 58,
   "metadata": {},
   "outputs": [],
   "source": [
    "matches[\"used_capacity_ratio\"] = matches[\"attendance\"] / matches[\"stadium_capacity\"]"
   ]
  },
  {
   "cell_type": "markdown",
   "metadata": {},
   "source": [
    "### 4. attendance_category "
   ]
  },
  {
   "cell_type": "code",
   "execution_count": 59,
   "metadata": {},
   "outputs": [],
   "source": [
    "transformer = KBinsDiscretizer(n_bins=5, encode='ordinal')\n",
    "discrete_attendance = transformer.fit_transform(matches['attendance'].values.reshape(-1, 1))\n",
    "matches[\"attendance_category\"] = discrete_attendance"
   ]
  },
  {
   "cell_type": "markdown",
   "metadata": {},
   "source": [
    "### 5. relative_attendance_category"
   ]
  },
  {
   "cell_type": "code",
   "execution_count": 60,
   "metadata": {},
   "outputs": [],
   "source": [
    "bins = [0 , 0.99, 1.01, np.inf]\n",
    "labels = ['underload', 'full', 'overload']\n",
    "transformer = FunctionTransformer(pd.cut, kw_args={'bins': bins, \n",
    "                                                   'labels': labels, \n",
    "                                                   'retbins': False})\n",
    "matches[\"relative_attendance_category\"] = transformer.fit_transform(matches['used_capacity_ratio'])"
   ]
  },
  {
   "cell_type": "markdown",
   "metadata": {},
   "source": [
    "### 6. host_country_code"
   ]
  },
  {
   "cell_type": "code",
   "execution_count": 61,
   "metadata": {},
   "outputs": [],
   "source": [
    "matches = pd.merge(\n",
    "    matches,\n",
    "    teams[[\"team_name\", \"team_code\"]],\n",
    "    left_on=[\"country_name\"],\n",
    "    right_on=[\"team_name\"],\n",
    "    how=\"left\"\n",
    ")"
   ]
  },
  {
   "cell_type": "code",
   "execution_count": 62,
   "metadata": {},
   "outputs": [],
   "source": [
    "matches = matches.drop(\"team_name\", axis=1)\n",
    "matches = matches.rename(columns={\"team_code\": \"host_country_code\"})"
   ]
  },
  {
   "cell_type": "markdown",
   "metadata": {},
   "source": [
    "### 7. tournament_year"
   ]
  },
  {
   "cell_type": "code",
   "execution_count": 63,
   "metadata": {},
   "outputs": [],
   "source": [
    "matches[\"tournament_year\"] = matches.tournament_id.str.split(\"-\").str.get(1)"
   ]
  },
  {
   "cell_type": "markdown",
   "metadata": {},
   "source": [
    "### 8. short_stage_name"
   ]
  },
  {
   "cell_type": "code",
   "execution_count": 71,
   "metadata": {},
   "outputs": [],
   "source": [
    "matches[\"short_stage_name\"] = np.where(matches['group_stage'] == 1, 'group', 'knockout')"
   ]
  },
  {
   "cell_type": "markdown",
   "metadata": {},
   "source": [
    "## 9. winner_code "
   ]
  },
  {
   "cell_type": "code",
   "execution_count": 65,
   "metadata": {},
   "outputs": [],
   "source": [
    "conditions = [matches['home_team_win'].astype(bool), matches['away_team_win'].astype(bool)]\n",
    "choices = [matches['home_team_code'], matches['away_team_code']]\n",
    "matches['winner_code'] = np.select(conditions, choices, default=None)"
   ]
  }
 ],
 "metadata": {
  "kernelspec": {
   "display_name": "Python 3.10.6 64-bit",
   "language": "python",
   "name": "python3"
  },
  "language_info": {
   "codemirror_mode": {
    "name": "ipython",
    "version": 3
   },
   "file_extension": ".py",
   "mimetype": "text/x-python",
   "name": "python",
   "nbconvert_exporter": "python",
   "pygments_lexer": "ipython3",
   "version": "3.10.6"
  },
  "orig_nbformat": 4,
  "vscode": {
   "interpreter": {
    "hash": "916dbcbb3f70747c44a77c7bcd40155683ae19c65e1c03b4aa3499c5328201f1"
   }
  }
 },
 "nbformat": 4,
 "nbformat_minor": 2
}
